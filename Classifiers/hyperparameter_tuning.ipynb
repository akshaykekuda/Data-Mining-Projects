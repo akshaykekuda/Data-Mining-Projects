{
 "cells": [
  {
   "cell_type": "markdown",
   "metadata": {
    "id": "k7ttKVng-E7d"
   },
   "source": [
    "# LAB5"
   ]
  },
  {
   "cell_type": "markdown",
   "metadata": {
    "id": "dL1r6zZC-E78"
   },
   "source": [
    "Name: AKSHAY KEKUDA"
   ]
  },
  {
   "cell_type": "code",
   "execution_count": 1,
   "metadata": {
    "id": "tp19vWYb-E8H"
   },
   "outputs": [],
   "source": [
    "import matplotlib.pyplot as plt\n",
    "%matplotlib notebook\n",
    "import numpy as np\n",
    "import pandas as pd\n",
    "import seaborn as sns\n",
    "from sklearn.ensemble import RandomForestClassifier\n",
    "from sklearn.metrics import accuracy_score, classification_report, f1_score\n",
    "from sklearn.model_selection import train_test_split, KFold, GridSearchCV\n",
    "from sklearn.neighbors import KNeighborsClassifier\n",
    "from sklearn.preprocessing import (\n",
    "    OneHotEncoder, LabelEncoder, Binarizer, KBinsDiscretizer,\n",
    "    MaxAbsScaler, StandardScaler, MinMaxScaler\n",
    ")"
   ]
  },
  {
   "cell_type": "raw",
   "metadata": {
    "colab": {
     "base_uri": "https://localhost:8080/",
     "height": 72,
     "resources": {
      "http://localhost:8080/nbextensions/google.colab/files.js": {
       "data": "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",
       "headers": [
        [
         "content-type",
         "application/javascript"
        ]
       ],
       "ok": true,
       "status": 200,
       "status_text": ""
      }
     }
    },
    "id": "gkly7faEB-jr",
    "outputId": "56598f19-84fe-497c-96ae-2dda65c4f2df"
   },
   "source": [
    "from google.colab import files\n",
    "uploaded = files.upload()"
   ]
  },
  {
   "cell_type": "code",
   "execution_count": 2,
   "metadata": {
    "id": "koWly8uW-E8V"
   },
   "outputs": [],
   "source": [
    "source_df = pd.read_csv('bank_customer_turnover.csv')\n",
    "df = source_df.copy(True)"
   ]
  },
  {
   "cell_type": "code",
   "execution_count": 3,
   "metadata": {
    "colab": {
     "base_uri": "https://localhost:8080/"
    },
    "id": "mwjOKaiQ-E8p",
    "outputId": "aecf6344-1385-4f62-ec34-462564d2d630"
   },
   "outputs": [
    {
     "data": {
      "text/plain": [
       "RowNumber          0\n",
       "CustomerId         0\n",
       "Surname            0\n",
       "CreditScore        0\n",
       "Geography          0\n",
       "Gender             0\n",
       "Age                0\n",
       "Tenure             0\n",
       "Balance            0\n",
       "NumOfProducts      0\n",
       "HasCrCard          0\n",
       "IsActiveMember     0\n",
       "EstimatedSalary    0\n",
       "Exited             0\n",
       "dtype: int64"
      ]
     },
     "execution_count": 3,
     "metadata": {},
     "output_type": "execute_result"
    }
   ],
   "source": [
    "df.isna().sum()"
   ]
  },
  {
   "cell_type": "markdown",
   "metadata": {
    "id": "Yj9DmsAw-E88"
   },
   "source": [
    "The data set does not have any missing values."
   ]
  },
  {
   "cell_type": "code",
   "execution_count": 4,
   "metadata": {
    "colab": {
     "base_uri": "https://localhost:8080/",
     "height": 224
    },
    "id": "b0T3GEQP-E8_",
    "outputId": "5990232b-eb1d-4f90-d266-43bad0df60ad"
   },
   "outputs": [
    {
     "data": {
      "text/html": [
       "<div>\n",
       "<style scoped>\n",
       "    .dataframe tbody tr th:only-of-type {\n",
       "        vertical-align: middle;\n",
       "    }\n",
       "\n",
       "    .dataframe tbody tr th {\n",
       "        vertical-align: top;\n",
       "    }\n",
       "\n",
       "    .dataframe thead th {\n",
       "        text-align: right;\n",
       "    }\n",
       "</style>\n",
       "<table border=\"1\" class=\"dataframe\">\n",
       "  <thead>\n",
       "    <tr style=\"text-align: right;\">\n",
       "      <th></th>\n",
       "      <th>RowNumber</th>\n",
       "      <th>CustomerId</th>\n",
       "      <th>Surname</th>\n",
       "      <th>CreditScore</th>\n",
       "      <th>Geography</th>\n",
       "      <th>Gender</th>\n",
       "      <th>Age</th>\n",
       "      <th>Tenure</th>\n",
       "      <th>Balance</th>\n",
       "      <th>NumOfProducts</th>\n",
       "      <th>HasCrCard</th>\n",
       "      <th>IsActiveMember</th>\n",
       "      <th>EstimatedSalary</th>\n",
       "      <th>Exited</th>\n",
       "    </tr>\n",
       "  </thead>\n",
       "  <tbody>\n",
       "    <tr>\n",
       "      <td>0</td>\n",
       "      <td>1</td>\n",
       "      <td>15634602</td>\n",
       "      <td>Hargrave</td>\n",
       "      <td>619</td>\n",
       "      <td>France</td>\n",
       "      <td>Female</td>\n",
       "      <td>42</td>\n",
       "      <td>2</td>\n",
       "      <td>0.00</td>\n",
       "      <td>1</td>\n",
       "      <td>1</td>\n",
       "      <td>1</td>\n",
       "      <td>101348.88</td>\n",
       "      <td>1</td>\n",
       "    </tr>\n",
       "    <tr>\n",
       "      <td>1</td>\n",
       "      <td>2</td>\n",
       "      <td>15647311</td>\n",
       "      <td>Hill</td>\n",
       "      <td>608</td>\n",
       "      <td>Spain</td>\n",
       "      <td>Female</td>\n",
       "      <td>41</td>\n",
       "      <td>1</td>\n",
       "      <td>83807.86</td>\n",
       "      <td>1</td>\n",
       "      <td>0</td>\n",
       "      <td>1</td>\n",
       "      <td>112542.58</td>\n",
       "      <td>0</td>\n",
       "    </tr>\n",
       "    <tr>\n",
       "      <td>2</td>\n",
       "      <td>3</td>\n",
       "      <td>15619304</td>\n",
       "      <td>Onio</td>\n",
       "      <td>502</td>\n",
       "      <td>France</td>\n",
       "      <td>Female</td>\n",
       "      <td>42</td>\n",
       "      <td>8</td>\n",
       "      <td>159660.80</td>\n",
       "      <td>3</td>\n",
       "      <td>1</td>\n",
       "      <td>0</td>\n",
       "      <td>113931.57</td>\n",
       "      <td>1</td>\n",
       "    </tr>\n",
       "    <tr>\n",
       "      <td>3</td>\n",
       "      <td>4</td>\n",
       "      <td>15701354</td>\n",
       "      <td>Boni</td>\n",
       "      <td>699</td>\n",
       "      <td>France</td>\n",
       "      <td>Female</td>\n",
       "      <td>39</td>\n",
       "      <td>1</td>\n",
       "      <td>0.00</td>\n",
       "      <td>2</td>\n",
       "      <td>0</td>\n",
       "      <td>0</td>\n",
       "      <td>93826.63</td>\n",
       "      <td>0</td>\n",
       "    </tr>\n",
       "    <tr>\n",
       "      <td>4</td>\n",
       "      <td>5</td>\n",
       "      <td>15737888</td>\n",
       "      <td>Mitchell</td>\n",
       "      <td>850</td>\n",
       "      <td>Spain</td>\n",
       "      <td>Female</td>\n",
       "      <td>43</td>\n",
       "      <td>2</td>\n",
       "      <td>125510.82</td>\n",
       "      <td>1</td>\n",
       "      <td>1</td>\n",
       "      <td>1</td>\n",
       "      <td>79084.10</td>\n",
       "      <td>0</td>\n",
       "    </tr>\n",
       "  </tbody>\n",
       "</table>\n",
       "</div>"
      ],
      "text/plain": [
       "   RowNumber  CustomerId   Surname  CreditScore Geography  Gender  Age  \\\n",
       "0          1    15634602  Hargrave          619    France  Female   42   \n",
       "1          2    15647311      Hill          608     Spain  Female   41   \n",
       "2          3    15619304      Onio          502    France  Female   42   \n",
       "3          4    15701354      Boni          699    France  Female   39   \n",
       "4          5    15737888  Mitchell          850     Spain  Female   43   \n",
       "\n",
       "   Tenure    Balance  NumOfProducts  HasCrCard  IsActiveMember  \\\n",
       "0       2       0.00              1          1               1   \n",
       "1       1   83807.86              1          0               1   \n",
       "2       8  159660.80              3          1               0   \n",
       "3       1       0.00              2          0               0   \n",
       "4       2  125510.82              1          1               1   \n",
       "\n",
       "   EstimatedSalary  Exited  \n",
       "0        101348.88       1  \n",
       "1        112542.58       0  \n",
       "2        113931.57       1  \n",
       "3         93826.63       0  \n",
       "4         79084.10       0  "
      ]
     },
     "execution_count": 4,
     "metadata": {},
     "output_type": "execute_result"
    }
   ],
   "source": [
    "df.head()"
   ]
  },
  {
   "cell_type": "code",
   "execution_count": 5,
   "metadata": {
    "colab": {
     "base_uri": "https://localhost:8080/"
    },
    "id": "7GpWkLCNQVYs",
    "outputId": "34c32fd2-3e88-4364-864d-9c005c3d454a"
   },
   "outputs": [
    {
     "data": {
      "text/plain": [
       "(10000, 14)"
      ]
     },
     "execution_count": 5,
     "metadata": {},
     "output_type": "execute_result"
    }
   ],
   "source": [
    "df.shape"
   ]
  },
  {
   "cell_type": "code",
   "execution_count": 6,
   "metadata": {
    "colab": {
     "base_uri": "https://localhost:8080/"
    },
    "id": "2-W3xD7M-sw3",
    "outputId": "d2272529-ae0f-4826-e842-86d89e0d6695"
   },
   "outputs": [
    {
     "data": {
      "text/plain": [
       "(10000, 14)"
      ]
     },
     "execution_count": 6,
     "metadata": {},
     "output_type": "execute_result"
    }
   ],
   "source": [
    "source_df.shape"
   ]
  },
  {
   "cell_type": "code",
   "execution_count": 7,
   "metadata": {
    "colab": {
     "base_uri": "https://localhost:8080/"
    },
    "id": "awONuh7R_iT6",
    "outputId": "d2b0e338-5aa7-48c5-db17-2447c30e8074"
   },
   "outputs": [
    {
     "data": {
      "text/plain": [
       "count    10000.000000\n",
       "mean       650.528800\n",
       "std         96.653299\n",
       "min        350.000000\n",
       "25%        584.000000\n",
       "50%        652.000000\n",
       "75%        718.000000\n",
       "max        850.000000\n",
       "Name: CreditScore, dtype: float64"
      ]
     },
     "execution_count": 7,
     "metadata": {},
     "output_type": "execute_result"
    }
   ],
   "source": [
    "source_df.CreditScore.describe()"
   ]
  },
  {
   "cell_type": "code",
   "execution_count": 8,
   "metadata": {
    "colab": {
     "base_uri": "https://localhost:8080/"
    },
    "id": "in2VlzceACXa",
    "outputId": "b289b9eb-8f11-4f1f-ac06-99dc7391bffe"
   },
   "outputs": [
    {
     "data": {
      "text/plain": [
       "France     5014\n",
       "Germany    2509\n",
       "Spain      2477\n",
       "Name: Geography, dtype: int64"
      ]
     },
     "execution_count": 8,
     "metadata": {},
     "output_type": "execute_result"
    }
   ],
   "source": [
    "source_df.Geography.value_counts()"
   ]
  },
  {
   "cell_type": "code",
   "execution_count": 9,
   "metadata": {
    "colab": {
     "base_uri": "https://localhost:8080/"
    },
    "id": "5_3UZ9HHAmJ9",
    "outputId": "78b63a16-8b46-4134-8ae9-ae06b3bd5dec"
   },
   "outputs": [
    {
     "data": {
      "text/plain": [
       "count     10000.000000\n",
       "mean     100090.239881\n",
       "std       57510.492818\n",
       "min          11.580000\n",
       "25%       51002.110000\n",
       "50%      100193.915000\n",
       "75%      149388.247500\n",
       "max      199992.480000\n",
       "Name: EstimatedSalary, dtype: float64"
      ]
     },
     "execution_count": 9,
     "metadata": {},
     "output_type": "execute_result"
    }
   ],
   "source": [
    "source_df.Age.describe()\n",
    "source_df.EstimatedSalary.describe()"
   ]
  },
  {
   "cell_type": "markdown",
   "metadata": {
    "id": "KdUkd1WYs86y"
   },
   "source": [
    "##Data Dictionary of preprocessed data\n",
    "\n",
    "|#|Attribute|Data Type|Range|Attribute Type|Description|\n",
    "|-:|:-|:-|:-|:-|:-|\n",
    "|1|RowNumber|int64|[1,10001]| integer| Row number of data. This data is not of much importance for preprocessing\n",
    "|2|CustomerId|int64|random integers|integer| Customer ID. This data is not of much importance for preprocessing \n",
    "|3|Surname|object|String|word| This gives the surname. This data is not of much importance for preprocessing \n",
    "|4|CreditScore|int64|[350,850]| integer| Gives the credit score of the customer\n",
    "|5|Geography|Object|France, Germany, Spain|categorical, nominal|Region. This is one hot encoded\n",
    "|6|Gender|Object|Male or female|categorical, nominal| Gives the gender. THis can be coded as 1/0\n",
    "|7|Age|int64|[18,92]|numeric| Age of customer\n",
    "|8|Tenure|int64|[0,10]| numeric| Number of years the customer has been with the bank\n",
    "|9|Balance|float64|[62397.40, 250898.09]| numeric| Balance of customer in the bank\n",
    "|10|NumOfProducts|int64|[1,4]| numeric| Number of products the customer has in the bank\n",
    "|11|HasCrCard|int64|0 or 1| categorical, nominal| 1 signifies that the customer has credit card and 0 signifies doesnot have credit card\n",
    "|12|IsActiveMember|int64|0 or 1| categorical, nominal| 1 means the customer is an active member and 0 means he is not\n",
    "|13|EstimatedSalary|float64|[11.58,199992.48]| numeric| Estimated salary of the customer\n",
    "|14|Exited|int64|0 or 1| categorical| 0 signifies that the customer is with the bank and 1 signifies he has exited the bank"
   ]
  },
  {
   "cell_type": "code",
   "execution_count": 10,
   "metadata": {
    "colab": {
     "base_uri": "https://localhost:8080/"
    },
    "id": "3sT9eqR2-E9q",
    "outputId": "74584cba-6560-40e4-9c2a-e917d3926aea",
    "scrolled": true
   },
   "outputs": [
    {
     "data": {
      "text/plain": [
       "RowNumber            int64\n",
       "CustomerId           int64\n",
       "Surname             object\n",
       "CreditScore          int64\n",
       "Geography           object\n",
       "Gender              object\n",
       "Age                  int64\n",
       "Tenure               int64\n",
       "Balance            float64\n",
       "NumOfProducts        int64\n",
       "HasCrCard            int64\n",
       "IsActiveMember       int64\n",
       "EstimatedSalary    float64\n",
       "Exited               int64\n",
       "dtype: object"
      ]
     },
     "execution_count": 10,
     "metadata": {},
     "output_type": "execute_result"
    }
   ],
   "source": [
    "df.dtypes"
   ]
  },
  {
   "cell_type": "markdown",
   "metadata": {
    "id": "vsHLaSZt-E90"
   },
   "source": [
    "The data types of the data set are as expected"
   ]
  },
  {
   "cell_type": "code",
   "execution_count": 11,
   "metadata": {
    "colab": {
     "base_uri": "https://localhost:8080/"
    },
    "id": "QxFNl79--E-N",
    "outputId": "2e6eee15-73ac-4a45-c5de-756cd15ecf34"
   },
   "outputs": [
    {
     "data": {
      "text/plain": [
       "True"
      ]
     },
     "execution_count": 11,
     "metadata": {},
     "output_type": "execute_result"
    }
   ],
   "source": [
    "df['CustomerId'].is_unique"
   ]
  },
  {
   "cell_type": "markdown",
   "metadata": {
    "id": "bQKGmnJH-E-b"
   },
   "source": [
    "Since the Customer ID column has retured True for is_unique check, we can say that there are no duplicate data."
   ]
  },
  {
   "cell_type": "markdown",
   "metadata": {
    "id": "jLuSdC-V-E-e"
   },
   "source": [
    "Let us now analyze the Gender attribute"
   ]
  },
  {
   "cell_type": "code",
   "execution_count": 12,
   "metadata": {
    "colab": {
     "base_uri": "https://localhost:8080/"
    },
    "id": "wrYlgKQ7-E-g",
    "outputId": "29bdfd46-3358-499d-e88c-585b725e5418"
   },
   "outputs": [
    {
     "data": {
      "text/plain": [
       "Male      5457\n",
       "Female    4543\n",
       "Name: Gender, dtype: int64"
      ]
     },
     "execution_count": 12,
     "metadata": {},
     "output_type": "execute_result"
    }
   ],
   "source": [
    "df['Gender'].value_counts()"
   ]
  },
  {
   "cell_type": "code",
   "execution_count": 13,
   "metadata": {
    "colab": {
     "base_uri": "https://localhost:8080/"
    },
    "id": "QaUYFwNV-E-1",
    "outputId": "0b58c9ab-90ab-41ae-d67b-f84dbb5efee5"
   },
   "outputs": [
    {
     "data": {
      "text/plain": [
       "count     10000\n",
       "unique        2\n",
       "top        Male\n",
       "freq       5457\n",
       "Name: Gender, dtype: object"
      ]
     },
     "execution_count": 13,
     "metadata": {},
     "output_type": "execute_result"
    }
   ],
   "source": [
    "df['Gender'].describe()"
   ]
  },
  {
   "cell_type": "code",
   "execution_count": null,
   "metadata": {
    "colab": {
     "base_uri": "https://localhost:8080/",
     "height": 308
    },
    "id": "uXX56KSN-E_A",
    "outputId": "4aa051ac-77a9-4fc8-a95d-e614b684ee9e"
   },
   "outputs": [],
   "source": [
    "data = df.Gender.value_counts(normalize = 'True') * 100\n",
    "sns.set_style(\"whitegrid\")\n",
    "fig = plt.figure(figsize=(12,4), dpi=75)\n",
    "ax1 = fig.add_subplot(111)\n",
    "sns.barplot(x=data.keys(), y=data, ci=None, palette=\"muted\",orient='v', ax=ax1)\n",
    "ax1.set_title(\"Distribution of gender of customers\", fontsize=15)\n",
    "ax1.set_xlabel (\"Gender\")\n",
    "ax1.set_ylabel (\"% of customers\")\n",
    "plt.show()"
   ]
  },
  {
   "cell_type": "markdown",
   "metadata": {
    "id": "UKnQNwiZKsxC"
   },
   "source": [
    "Let us now look at the Age of the customers`"
   ]
  },
  {
   "cell_type": "code",
   "execution_count": null,
   "metadata": {
    "colab": {
     "base_uri": "https://localhost:8080/"
    },
    "id": "P_BgK0Uw-E_S",
    "outputId": "aa922278-4af3-4d93-cd18-3272474fb11e"
   },
   "outputs": [],
   "source": [
    "df.Age.describe()"
   ]
  },
  {
   "cell_type": "code",
   "execution_count": null,
   "metadata": {
    "colab": {
     "base_uri": "https://localhost:8080/",
     "height": 265
    },
    "id": "aKHSepCJ-E_U",
    "outputId": "706958c4-e48a-4d08-ffef-474c26fdc4b8"
   },
   "outputs": [],
   "source": [
    "df.Age.hist()\n",
    "plt.show()"
   ]
  },
  {
   "cell_type": "code",
   "execution_count": null,
   "metadata": {
    "colab": {
     "base_uri": "https://localhost:8080/"
    },
    "id": "Y-YharxkN3Pw",
    "outputId": "d6565e36-932d-4ac9-e632-67d0097ab9dc"
   },
   "outputs": [],
   "source": [
    "print(\"Max customers are of age {} years\".format(df.Age.mode()[0]))\n",
    "print(\"Median age of customers is {} years\".format(int(df.Age.median())))"
   ]
  },
  {
   "cell_type": "code",
   "execution_count": null,
   "metadata": {
    "colab": {
     "base_uri": "https://localhost:8080/",
     "height": 265
    },
    "id": "dYXFcYd5gMrA",
    "outputId": "10d8f4f5-18e2-4b92-a661-dd16ed264fd9"
   },
   "outputs": [],
   "source": [
    "bp = sns.boxplot(data = df['Age'])\n",
    "plt.show()"
   ]
  },
  {
   "cell_type": "markdown",
   "metadata": {
    "id": "Q6QHu9l7nz5S"
   },
   "source": [
    "The age data has some outliers. So we will remove these outliers"
   ]
  },
  {
   "cell_type": "code",
   "execution_count": null,
   "metadata": {
    "id": "9GJVIWXSlqv5"
   },
   "outputs": [],
   "source": [
    "def iqr_fence(x):\n",
    "    Q1 = x.quantile(0.25)\n",
    "    Q3 = x.quantile(0.75)\n",
    "    IQR = Q3 - Q1\n",
    "    Lower_Fence = Q1 - (1.5 * IQR)\n",
    "    Upper_Fence = Q3 + (1.5 * IQR)\n",
    "    return [Upper_Fence,Lower_Fence]"
   ]
  },
  {
   "cell_type": "code",
   "execution_count": null,
   "metadata": {
    "colab": {
     "base_uri": "https://localhost:8080/"
    },
    "id": "BgckQ45_1yW2",
    "outputId": "f72a96d0-ceab-4647-9bc7-5c41d7dc06af"
   },
   "outputs": [],
   "source": [
    "temp = source_df[(source_df['Age']>61)]\n",
    "temp.Exited.value_counts()"
   ]
  },
  {
   "cell_type": "code",
   "execution_count": null,
   "metadata": {
    "colab": {
     "base_uri": "https://localhost:8080/",
     "height": 333
    },
    "id": "4L8zPRMEl2qy",
    "outputId": "b5248050-49a7-47ee-cd2e-f4fdddca8b54"
   },
   "outputs": [],
   "source": [
    "max_age = iqr_fence(df['Age'])[0]\n",
    "print(max_age)\n",
    "print(\"no of outliers = {}\".format((df['Age']>max_age).value_counts()/100))\n",
    "df=df[df['Age']<=max_age]\n",
    "sns.boxplot(data = df['Age'])\n",
    "plt.show()"
   ]
  },
  {
   "cell_type": "code",
   "execution_count": null,
   "metadata": {
    "colab": {
     "base_uri": "https://localhost:8080/"
    },
    "id": "Z5ypgDMJ2OeX",
    "outputId": "e0b3c2ef-8b6b-4f5a-c0f8-9d9d5146a05d"
   },
   "outputs": [],
   "source": [
    "temp = source_df[(source_df['Age']>58)]\n",
    "temp.Exited.value_counts()"
   ]
  },
  {
   "cell_type": "markdown",
   "metadata": {
    "id": "7IcPEv_3sVqg"
   },
   "source": [
    "Let us look at credit score`"
   ]
  },
  {
   "cell_type": "code",
   "execution_count": null,
   "metadata": {
    "colab": {
     "base_uri": "https://localhost:8080/",
     "height": 265
    },
    "id": "AY9fs47gsYiU",
    "outputId": "d4367662-f40b-4a05-c3e7-3ccb0e77989f"
   },
   "outputs": [],
   "source": [
    "sns.boxplot(data = df['CreditScore'])\n",
    "plt.show()"
   ]
  },
  {
   "cell_type": "code",
   "execution_count": null,
   "metadata": {
    "colab": {
     "base_uri": "https://localhost:8080/"
    },
    "id": "FGymKafysh6t",
    "outputId": "21204f0a-edba-4cdb-ad70-65d7416a1296"
   },
   "outputs": [],
   "source": [
    "min_score = iqr_fence(df['CreditScore'])[1]\n",
    "(df['CreditScore']>min_score).value_counts()/100"
   ]
  },
  {
   "cell_type": "markdown",
   "metadata": {
    "id": "CdLsqIBisuX7"
   },
   "source": [
    "We have 0.15% of outliers for credit score. We can afford to drop these outliers"
   ]
  },
  {
   "cell_type": "code",
   "execution_count": null,
   "metadata": {
    "colab": {
     "base_uri": "https://localhost:8080/"
    },
    "id": "qwIo8IAos3tZ",
    "outputId": "d94e0b63-7924-4df7-d64f-8c40a7587aac"
   },
   "outputs": [],
   "source": [
    "df=df[df['CreditScore']>= min_score]\n",
    "df.shape"
   ]
  },
  {
   "cell_type": "code",
   "execution_count": null,
   "metadata": {
    "colab": {
     "base_uri": "https://localhost:8080/",
     "height": 265
    },
    "id": "6ae7b97KssdT",
    "outputId": "211b3266-880b-491d-def0-06026766859a"
   },
   "outputs": [],
   "source": [
    "sns.boxplot(data = df['CreditScore'])\n",
    "plt.show()"
   ]
  },
  {
   "cell_type": "markdown",
   "metadata": {
    "id": "1CP0ms3tzhqX"
   },
   "source": [
    "Let us now look at the NumOfProducts attribute"
   ]
  },
  {
   "cell_type": "code",
   "execution_count": null,
   "metadata": {
    "colab": {
     "base_uri": "https://localhost:8080/",
     "height": 265
    },
    "id": "2St8-zItzlM_",
    "outputId": "ffbbe266-9ca4-476e-dea7-128bc76dc6d0"
   },
   "outputs": [],
   "source": [
    "bp = sns.boxplot(data = df['NumOfProducts'])\n",
    "plt.show()"
   ]
  },
  {
   "cell_type": "code",
   "execution_count": null,
   "metadata": {
    "colab": {
     "base_uri": "https://localhost:8080/"
    },
    "id": "ngYGZAEfzzUr",
    "outputId": "236de286-52ac-4155-cb36-93c957371fa2"
   },
   "outputs": [],
   "source": [
    "temp = df[(df['NumOfProducts']==4)]\n",
    "temp.Exited.value_counts()"
   ]
  },
  {
   "cell_type": "markdown",
   "metadata": {
    "id": "9OZcLTea0sB8"
   },
   "source": [
    "All customers with 4 products have exited the bank. So we will remove these points\n"
   ]
  },
  {
   "cell_type": "code",
   "execution_count": null,
   "metadata": {
    "colab": {
     "base_uri": "https://localhost:8080/",
     "height": 265
    },
    "id": "dgpkTSt17TJS",
    "outputId": "b32a7b26-069b-441b-cb66-934c56ee0aff"
   },
   "outputs": [],
   "source": [
    "df=df[df['NumOfProducts']<= 3]\n",
    "bp = sns.boxplot(data = df['NumOfProducts'])\n",
    "plt.show()"
   ]
  },
  {
   "cell_type": "markdown",
   "metadata": {
    "id": "7aesIIT2W74I"
   },
   "source": [
    "Let us look at the salary attribute of the customers."
   ]
  },
  {
   "cell_type": "code",
   "execution_count": null,
   "metadata": {
    "colab": {
     "base_uri": "https://localhost:8080/",
     "height": 265
    },
    "id": "S8tySna0wEc0",
    "outputId": "434b246b-ab3f-4cf3-87bb-450ad72a3f37"
   },
   "outputs": [],
   "source": [
    "sns.boxplot(data = df['EstimatedSalary'])\n",
    "plt.show()"
   ]
  },
  {
   "cell_type": "code",
   "execution_count": null,
   "metadata": {
    "colab": {
     "base_uri": "https://localhost:8080/"
    },
    "id": "mPBjogZc0H0v",
    "outputId": "175f171d-1997-4bad-f9bd-e9c8e198fb65"
   },
   "outputs": [],
   "source": [
    "df.EstimatedSalary.describe()"
   ]
  },
  {
   "cell_type": "code",
   "execution_count": null,
   "metadata": {
    "colab": {
     "base_uri": "https://localhost:8080/"
    },
    "id": "ybS8wMp0x18J",
    "outputId": "bcbf4886-ff45-4731-fa07-7606cafcce8d"
   },
   "outputs": [],
   "source": [
    "print(\"Median salary of customers is ${:.3f}\".format((df.EstimatedSalary.median())))\n",
    "print(\"Mean salary of customers is ${:.3f}\".format((df.EstimatedSalary.mean())))\n"
   ]
  },
  {
   "cell_type": "markdown",
   "metadata": {
    "id": "DK4ufObMzq0i"
   },
   "source": [
    "Let us look at the class Exited"
   ]
  },
  {
   "cell_type": "code",
   "execution_count": null,
   "metadata": {
    "colab": {
     "base_uri": "https://localhost:8080/"
    },
    "id": "IT4mrmPn1E9l",
    "outputId": "8fead4cc-31c9-4504-bdd7-730248f87830"
   },
   "outputs": [],
   "source": [
    "df.Exited.value_counts()"
   ]
  },
  {
   "cell_type": "markdown",
   "metadata": {
    "id": "ScaHgrtr1Jjw"
   },
   "source": [
    "Since the data doesn't describe what 1 and 0 stands for , I assume 1 signifies the customer has exited the bank and 0 has not exited the bank. Since we have only 20% of data that corresponds to not exited class, we may have a data imbalance problem here. "
   ]
  },
  {
   "cell_type": "code",
   "execution_count": null,
   "metadata": {
    "colab": {
     "base_uri": "https://localhost:8080/"
    },
    "id": "4_BgyQZo8JW_",
    "outputId": "f733d8e5-39c8-4e7c-b39a-59472426da4c"
   },
   "outputs": [],
   "source": [
    "count_class_0, count_class_1 = df.Exited.value_counts()\n",
    "df_class_0 = df[df['Exited'] == 0]\n",
    "df_class_1 = df[df['Exited'] == 1]\n",
    "df_class_1_over = df_class_1.sample(count_class_0, replace=True)\n",
    "df = pd.concat([df_class_1_over, df_class_0], axis=0)\n",
    "\n",
    "print('Random over-sampling:')\n",
    "print(df.Exited.value_counts(normalize=True))"
   ]
  },
  {
   "cell_type": "code",
   "execution_count": null,
   "metadata": {
    "colab": {
     "base_uri": "https://localhost:8080/"
    },
    "id": "KvmiH5pfBQ-p",
    "outputId": "b7362d2b-7c24-4a8d-de71-cc9f9e15131e"
   },
   "outputs": [],
   "source": [
    "df.shape"
   ]
  },
  {
   "cell_type": "code",
   "execution_count": null,
   "metadata": {
    "id": "re3-X_fhRqhi"
   },
   "outputs": [],
   "source": [
    "# sns.lmplot(data=df, x=\"Age\", fit_reg=False, hue=\"Exited\")\n",
    "# plt.show()"
   ]
  },
  {
   "cell_type": "code",
   "execution_count": null,
   "metadata": {
    "id": "RmWTvmxiS14J"
   },
   "outputs": [],
   "source": [
    "# fig = plt.figure(figsize=(14,14), dpi=75)\n",
    "# sns.pairplot(df[df.columns[1:]], kind=\"scatter\", markers=[\"o\", \"D\"], hue=\"Exited\")"
   ]
  },
  {
   "cell_type": "code",
   "execution_count": null,
   "metadata": {
    "id": "-cLOLSvzbCaa"
   },
   "outputs": [],
   "source": [
    "# sns.relplot(x=\"EstimatedSalary\", y=\"Age\", hue=\"Exited\", col=\"Gender\", data=df);"
   ]
  },
  {
   "cell_type": "code",
   "execution_count": null,
   "metadata": {
    "colab": {
     "base_uri": "https://localhost:8080/",
     "height": 346
    },
    "id": "bL9Xd9W6dQYL",
    "outputId": "4ccf1235-f702-4063-ca3c-96fd5c8b6ff9"
   },
   "outputs": [],
   "source": [
    "fig = plt.figure(figsize=(14,5), dpi=75)\n",
    "plt.subplot(121)\n",
    "sns.histplot(df, x = 'EstimatedSalary', hue = 'Gender')\n",
    "plt.subplot(122)\n",
    "sns.histplot(df, x = 'Age', hue = 'Gender')\n",
    "plt.show()"
   ]
  },
  {
   "cell_type": "code",
   "execution_count": null,
   "metadata": {
    "id": "DYY-p5j67tBj"
   },
   "outputs": [],
   "source": []
  },
  {
   "cell_type": "markdown",
   "metadata": {
    "id": "BDzT2BKOjF3z"
   },
   "source": [
    "The above graph shows that in the data set has same number of customers in all salary ranges. ALso many of the customers is around 40 yrs of age"
   ]
  },
  {
   "cell_type": "markdown",
   "metadata": {
    "id": "f0uH72QW4s8f"
   },
   "source": [
    "Before we proceeed we can encode Male and Female gender as 1 and 0 respectively."
   ]
  },
  {
   "cell_type": "code",
   "execution_count": null,
   "metadata": {
    "colab": {
     "base_uri": "https://localhost:8080/",
     "height": 224
    },
    "id": "iDnR1gWdIqEm",
    "outputId": "68b496af-691a-4bab-f29c-4ed9e89a852a"
   },
   "outputs": [],
   "source": [
    "df.head()"
   ]
  },
  {
   "cell_type": "code",
   "execution_count": null,
   "metadata": {
    "id": "IJdGjzbT9qKT"
   },
   "outputs": [],
   "source": [
    "for index, rows in df.iterrows():\n",
    "  # print(index)\n",
    "  df.at[index, 'Gender'] = 1 if df.iloc[index] ['Gender'] == 'Male' else 0"
   ]
  },
  {
   "cell_type": "code",
   "execution_count": null,
   "metadata": {
    "colab": {
     "base_uri": "https://localhost:8080/"
    },
    "id": "1u4l4IvnCS0K",
    "outputId": "2eb765ac-ab9e-446e-b17d-e8d422b45036"
   },
   "outputs": [],
   "source": [
    "df.Gender.value_counts()"
   ]
  },
  {
   "cell_type": "code",
   "execution_count": null,
   "metadata": {
    "colab": {
     "base_uri": "https://localhost:8080/"
    },
    "id": "RAL63NaY-b_z",
    "outputId": "46e2f447-b6d6-4c52-c241-4fe0adf0b987"
   },
   "outputs": [],
   "source": [
    "df['Gender'] = df['Gender'].astype(int)\n",
    "df.dtypes"
   ]
  },
  {
   "cell_type": "markdown",
   "metadata": {
    "id": "WzKaQdcuAU0Q"
   },
   "source": [
    "We have now converted the Gender data type to type int"
   ]
  },
  {
   "cell_type": "code",
   "execution_count": null,
   "metadata": {
    "colab": {
     "base_uri": "https://localhost:8080/",
     "height": 265
    },
    "id": "VMiGwoG9A-Go",
    "outputId": "2680df13-167f-482a-cf0b-6480ff287477"
   },
   "outputs": [],
   "source": [
    "df.boxplot(column = [\"EstimatedSalary\", \"Age\"])\n",
    "plt.show()"
   ]
  },
  {
   "cell_type": "markdown",
   "metadata": {
    "id": "_SLFNBrsQFGZ"
   },
   "source": [
    "As credit score, age, tenure, balance , NumOfProducts and estimated salary are in a different scale, we will normalize these columns\n"
   ]
  },
  {
   "cell_type": "code",
   "execution_count": null,
   "metadata": {
    "colab": {
     "base_uri": "https://localhost:8080/",
     "height": 224
    },
    "id": "XxCigdQ-Vl20",
    "outputId": "02b3b950-83d1-4884-a7bb-fea53707197a"
   },
   "outputs": [],
   "source": [
    "scaled_df = df.copy(deep=True)\n",
    "scaler = MinMaxScaler()\n",
    "cols = ['CreditScore', 'Age', 'Tenure', 'Balance', 'NumOfProducts', 'EstimatedSalary']\n",
    "scaled_df[cols] = scaler.fit_transform(scaled_df[cols])\n",
    "scaled_df.head()"
   ]
  },
  {
   "cell_type": "code",
   "execution_count": null,
   "metadata": {
    "colab": {
     "base_uri": "https://localhost:8080/"
    },
    "id": "7nSTlldoDJJg",
    "outputId": "5a6ced6b-d5b2-4d41-82d8-2c2f720a340d"
   },
   "outputs": [],
   "source": [
    "df.Geography.value_counts()"
   ]
  },
  {
   "cell_type": "code",
   "execution_count": null,
   "metadata": {
    "colab": {
     "base_uri": "https://localhost:8080/",
     "height": 224
    },
    "id": "mexVxR47HI8c",
    "outputId": "20a70563-ead8-4c45-e048-203cc87d80f5"
   },
   "outputs": [],
   "source": [
    "scaled_df=pd.get_dummies(scaled_df, columns=['Geography'])\n",
    "scaled_df.head()"
   ]
  },
  {
   "cell_type": "markdown",
   "metadata": {
    "id": "VQ9nyQVeUMFl"
   },
   "source": [
    "Here the attributes Rownumber, Customer ID and Surname are not necessary for our analysis. We can drop them."
   ]
  },
  {
   "cell_type": "code",
   "execution_count": null,
   "metadata": {
    "id": "tNF5sxo8TMl-"
   },
   "outputs": [],
   "source": [
    "scaled_df = scaled_df.drop(['RowNumber', 'CustomerId', 'Surname'], 1)"
   ]
  },
  {
   "cell_type": "code",
   "execution_count": null,
   "metadata": {
    "colab": {
     "base_uri": "https://localhost:8080/"
    },
    "id": "0e33O0-ZPqQ4",
    "outputId": "916ea1b0-7841-4bb0-88bf-4cb7301a5137"
   },
   "outputs": [],
   "source": [
    "scaled_df.dtypes"
   ]
  },
  {
   "cell_type": "code",
   "execution_count": null,
   "metadata": {
    "id": "1Cc8dPqTPpwA"
   },
   "outputs": [],
   "source": []
  },
  {
   "cell_type": "code",
   "execution_count": null,
   "metadata": {
    "colab": {
     "base_uri": "https://localhost:8080/",
     "height": 332
    },
    "id": "cjCGxSN4V_YO",
    "outputId": "087f4a18-95df-4eff-ecc2-d93b893782bd"
   },
   "outputs": [],
   "source": [
    "fig = plt.figure(figsize=(12,5), dpi=75)\n",
    "sns.boxplot(data=scaled_df[cols])\n",
    "plt.show()"
   ]
  },
  {
   "cell_type": "markdown",
   "metadata": {
    "id": "PYaTHE5KQXo5"
   },
   "source": [
    "From the above graph, we can see that the data has no outliers. "
   ]
  },
  {
   "cell_type": "code",
   "execution_count": null,
   "metadata": {
    "colab": {
     "base_uri": "https://localhost:8080/",
     "height": 348
    },
    "id": "-6AePDigLngx",
    "outputId": "c755f2c7-2840-4cac-d935-1de77ae9d629"
   },
   "outputs": [],
   "source": [
    "fig = plt.figure(figsize=(10,5), dpi=75)\n",
    "plt.subplot(121)\n",
    "sns.violinplot(x=scaled_df['Gender'], y=scaled_df['EstimatedSalary'])\n",
    "plt.subplot(122)\n",
    "sns.violinplot(x=scaled_df['Gender'], y=scaled_df['Age'])\n",
    "plt.show()"
   ]
  },
  {
   "cell_type": "markdown",
   "metadata": {
    "id": "vfy_TJ77q-A4"
   },
   "source": [
    "The above vioilin plot emphasizes on the point that distribution of males and females are not totally similar. There are more males( represented by 0) around the median salary and age."
   ]
  },
  {
   "cell_type": "code",
   "execution_count": null,
   "metadata": {
    "colab": {
     "base_uri": "https://localhost:8080/",
     "height": 317
    },
    "id": "ssOY7EbyvpS3",
    "outputId": "ebb342fc-cc56-4993-d9ae-b685fea9e65f"
   },
   "outputs": [],
   "source": [
    "scaled_df.describe()"
   ]
  },
  {
   "cell_type": "code",
   "execution_count": null,
   "metadata": {
    "colab": {
     "base_uri": "https://localhost:8080/"
    },
    "id": "kCwJAITOw6vL",
    "outputId": "17e47c33-3455-43dc-8062-62b1feb55a1f"
   },
   "outputs": [],
   "source": [
    "scaled_df.dtypes"
   ]
  },
  {
   "cell_type": "code",
   "execution_count": null,
   "metadata": {
    "id": "xaS3-LG5K6d2"
   },
   "outputs": [],
   "source": [
    "cols = ['CreditScore',\n",
    " 'Age',\n",
    " 'Tenure',\n",
    " 'Balance',\n",
    " 'NumOfProducts',\n",
    " 'EstimatedSalary']"
   ]
  },
  {
   "cell_type": "code",
   "execution_count": null,
   "metadata": {
    "colab": {
     "base_uri": "https://localhost:8080/",
     "height": 235
    },
    "id": "w1QMo8WvBu3Q",
    "outputId": "bc23e1d4-083a-47b1-d70f-f27a8b7e71a7"
   },
   "outputs": [],
   "source": [
    "df_corr= scaled_df[cols].corr()\n",
    "df_corr"
   ]
  },
  {
   "cell_type": "code",
   "execution_count": null,
   "metadata": {
    "colab": {
     "base_uri": "https://localhost:8080/",
     "height": 204
    },
    "id": "tdFe5JQcM7DL",
    "outputId": "26728ef3-6ac8-459b-e6bd-15ed7591a9f6"
   },
   "outputs": [],
   "source": [
    "cols.append('Exited')\n",
    "scaled_df[cols].head()"
   ]
  },
  {
   "cell_type": "markdown",
   "metadata": {
    "id": "XEnj3_f0C_rE"
   },
   "source": [
    "## Preprocessing\n",
    "\n",
    "1.   Attributes RowNumber, Customer ID, and Surname were removed\n",
    "2.   Numerical attributes Credit Score, Age, Tenure, Balance, NumofProducts and Estimated Salarywere scaled by min-max scaler\n",
    "3. Geography atrribute was one hot encoded as 3 atrributes France, Spai, Germany using get dummies\n",
    "4. Outliers in Age, NumofProducts and Credit Score was removed by analyzing box plots\n",
    "5. Since the the exited class had 80% not exited and 20% exited class split, this means there's class imbalance. To tackle this I tried both undersampling and over smapling the data. This gave varying results\n",
    "\n",
    "\n"
   ]
  },
  {
   "cell_type": "code",
   "execution_count": null,
   "metadata": {
    "id": "KhXNxz-gEnsM"
   },
   "outputs": [],
   "source": []
  },
  {
   "cell_type": "code",
   "execution_count": null,
   "metadata": {
    "colab": {
     "base_uri": "https://localhost:8080/",
     "height": 496
    },
    "id": "93VasbLvLijd",
    "outputId": "dcf64f99-bde5-4f3f-f298-6d871707a51a"
   },
   "outputs": [],
   "source": [
    "fig = plt.figure(figsize=(8,8), dpi=75)\n",
    "mask = np.triu(np.ones_like(df_corr, dtype=bool))\n",
    "cmap = sns.diverging_palette(230, 20, as_cmap=True)\n",
    "\n",
    "sns.heatmap(df_corr, mask=mask, cmap=cmap, vmax=.3, center=0,\n",
    "            square=True, linewidths=.5, cbar_kws={\"shrink\": .5})\n",
    "plt.show()"
   ]
  },
  {
   "cell_type": "markdown",
   "metadata": {
    "id": "eUmK3if4Hjm2"
   },
   "source": [
    "Here we see that age and balance are more corrlated. Similalry credit score and tenure are next closely correlated"
   ]
  },
  {
   "cell_type": "code",
   "execution_count": null,
   "metadata": {
    "id": "unJGLC5OHjCC"
   },
   "outputs": [],
   "source": []
  },
  {
   "cell_type": "markdown",
   "metadata": {
    "id": "YGFhh-_ls0eo"
   },
   "source": [
    "We will now start with building the classifiers"
   ]
  },
  {
   "cell_type": "code",
   "execution_count": null,
   "metadata": {
    "colab": {
     "base_uri": "https://localhost:8080/",
     "height": 224
    },
    "id": "ddNFRWUMQrCk",
    "outputId": "6050d481-ad0b-4ba0-c4c1-697044ed6484"
   },
   "outputs": [],
   "source": [
    "scaled_df.sample(5)"
   ]
  },
  {
   "cell_type": "code",
   "execution_count": null,
   "metadata": {
    "id": "SgkOWYD1Q8NK"
   },
   "outputs": [],
   "source": [
    "df_cols = scaled_df.columns.to_list()\n",
    "att = df_cols.pop(9)\n",
    "df_cols.append(att)\n",
    "scaled_df = scaled_df[df_cols]"
   ]
  },
  {
   "cell_type": "code",
   "execution_count": null,
   "metadata": {
    "colab": {
     "base_uri": "https://localhost:8080/"
    },
    "id": "KxAnAIzxSYY_",
    "outputId": "40f3e852-6154-4a07-b106-529cbe8c4f62"
   },
   "outputs": [],
   "source": [
    "df_cols"
   ]
  },
  {
   "cell_type": "code",
   "execution_count": null,
   "metadata": {
    "colab": {
     "base_uri": "https://localhost:8080/",
     "height": 224
    },
    "id": "WiBLCwvcSROr",
    "outputId": "db2828bc-a68b-4e3b-9402-d2afff38a015"
   },
   "outputs": [],
   "source": [
    "scaled_df.head(5)"
   ]
  },
  {
   "cell_type": "code",
   "execution_count": null,
   "metadata": {
    "colab": {
     "base_uri": "https://localhost:8080/"
    },
    "id": "AOPbNgm942IH",
    "outputId": "42b4ba76-521b-4fb5-d17c-a3d23e6a0186"
   },
   "outputs": [],
   "source": [
    "scaled_df.shape"
   ]
  },
  {
   "cell_type": "code",
   "execution_count": null,
   "metadata": {
    "id": "TBHRBM8cWNc9"
   },
   "outputs": [],
   "source": [
    "X = scaled_df[df_cols[0:-1]]\n",
    "y = scaled_df[df_cols[-1]]"
   ]
  },
  {
   "cell_type": "markdown",
   "metadata": {
    "id": "TCgbxfhCM_Bp"
   },
   "source": [
    "## k-fold cross validation using accuracy score"
   ]
  },
  {
   "cell_type": "code",
   "execution_count": null,
   "metadata": {
    "id": "AQ-vnrbI7A0A"
   },
   "outputs": [],
   "source": [
    "kf = KFold(shuffle=True, random_state=0)"
   ]
  },
  {
   "cell_type": "code",
   "execution_count": null,
   "metadata": {
    "colab": {
     "base_uri": "https://localhost:8080/"
    },
    "id": "w2leU1mI4CL6",
    "outputId": "24b5db75-f6dd-481c-9d94-1b11486d5ad4"
   },
   "outputs": [],
   "source": [
    "knn = KNeighborsClassifier(n_neighbors=5, metric='minkowski', p=2)\n",
    "err_train = []\n",
    "err_test = []\n",
    "for fold, (train_index, test_index) in enumerate(kf.split(X)):\n",
    "    X_train, X_test = X.iloc[train_index], X.iloc[test_index]\n",
    "    y_train, y_test = y.iloc[train_index], y.iloc[test_index]\n",
    "    \n",
    "    knn.fit(X_train, y_train)\n",
    "    \n",
    "    y_hat_tr = knn.predict(X_train)\n",
    "    \n",
    "    err_tr = 1 - accuracy_score(y_train, y_hat_tr)\n",
    "    err_train.append(err_tr)\n",
    "    \n",
    "    y_hat_te = knn.predict(X_test)\n",
    "    \n",
    "    err_te = 1 - accuracy_score(y_test, y_hat_te)\n",
    "    \n",
    "    err_test.append(err_te)\n",
    "    \n",
    "    print('Fold {}: err.train={:0.4f}, err.test={:0.4f}'.format(fold+1, err_tr, err_te))\n",
    "\n",
    "print(\"KNN err_train(avg)={:0.4f}, err_test(avg)={:0.4f}\".format(np.mean(err_train),np.mean(err_test)))"
   ]
  },
  {
   "cell_type": "code",
   "execution_count": null,
   "metadata": {
    "colab": {
     "base_uri": "https://localhost:8080/"
    },
    "id": "xEbSnAwu8ZOf",
    "outputId": "45ba3fa2-b40e-40dc-c4a0-590c3bc90eb7"
   },
   "outputs": [],
   "source": [
    "from sklearn.linear_model import LogisticRegression\n",
    "lr = LogisticRegression()\n",
    "err_train = []\n",
    "err_test = []\n",
    "for fold, (train_index, test_index) in enumerate(kf.split(X)):\n",
    "    X_train, X_test = X.iloc[train_index], X.iloc[test_index]\n",
    "    y_train, y_test = y.iloc[train_index], y.iloc[test_index]\n",
    "    \n",
    "    lr.fit(X_train, y_train)\n",
    "    \n",
    "    y_hat_tr = lr.predict(X_train)\n",
    "    \n",
    "    err_tr = 1 - accuracy_score(y_train, y_hat_tr)\n",
    "    err_train.append(err_tr)\n",
    "    \n",
    "    y_hat_te = lr.predict(X_test)\n",
    "    \n",
    "    err_te = 1 - accuracy_score(y_test, y_hat_te)\n",
    "    \n",
    "    err_test.append(err_te)\n",
    "    \n",
    "    print('Fold {}: err.train={:0.4f}, err.test={:0.4f}'.format(fold+1, err_tr, err_te))\n",
    "\n",
    "print(\" Logistic Regression err_train(avg)={:0.4f}, err_test(avg)={:0.4f}\".format(np.mean(err_train),np.mean(err_test)))"
   ]
  },
  {
   "cell_type": "code",
   "execution_count": null,
   "metadata": {
    "colab": {
     "base_uri": "https://localhost:8080/"
    },
    "id": "yAfKrPQq_RTV",
    "outputId": "aa886dde-e95f-440a-8046-3a87bdb2e69e"
   },
   "outputs": [],
   "source": [
    "from sklearn.tree import DecisionTreeClassifier\n",
    "dtc = DecisionTreeClassifier()\n",
    "err_train = []\n",
    "err_test = []\n",
    "for fold, (train_index, test_index) in enumerate(kf.split(X)):\n",
    "    X_train, X_test = X.iloc[train_index], X.iloc[test_index]\n",
    "    y_train, y_test = y.iloc[train_index], y.iloc[test_index]\n",
    "    \n",
    "    dtc.fit(X_train, y_train)\n",
    "    \n",
    "    y_hat_tr = dtc.predict(X_train)\n",
    "    \n",
    "    err_tr = 1 - accuracy_score(y_train, y_hat_tr)\n",
    "    err_train.append(err_tr)\n",
    "    \n",
    "    y_hat_te = dtc.predict(X_test)\n",
    "    \n",
    "    err_te = 1 - accuracy_score(y_test, y_hat_te)\n",
    "    \n",
    "    err_test.append(err_te)\n",
    "    \n",
    "    print('Fold {}: err.train={:0.4f}, err.test={:0.4f}'.format(fold+1, err_tr, err_te))\n",
    "\n",
    "print(\"Decision Tree Classifiers err_train(avg)={:0.4f}, err_test(avg)={:0.4f}\".format(np.mean(err_train),np.mean(err_test)))"
   ]
  },
  {
   "cell_type": "code",
   "execution_count": null,
   "metadata": {
    "colab": {
     "base_uri": "https://localhost:8080/"
    },
    "id": "PvPVScJx_crQ",
    "outputId": "84d91b10-c447-46b5-a199-7865e1a13ece"
   },
   "outputs": [],
   "source": [
    "from sklearn.naive_bayes import GaussianNB\n",
    "nb = GaussianNB()\n",
    "err_train = []\n",
    "err_test = []\n",
    "for fold, (train_index, test_index) in enumerate(kf.split(X)):\n",
    "    X_train, X_test = X.iloc[train_index], X.iloc[test_index]\n",
    "    y_train, y_test = y.iloc[train_index], y.iloc[test_index]\n",
    "    \n",
    "    nb.fit(X_train, y_train)\n",
    "    \n",
    "    y_hat_tr = nb.predict(X_train)\n",
    "    \n",
    "    err_tr = 1 - accuracy_score(y_train, y_hat_tr)\n",
    "    err_train.append(err_tr)\n",
    "    \n",
    "    y_hat_te = nb.predict(X_test)\n",
    "    \n",
    "    err_te = 1 - accuracy_score(y_test, y_hat_te)\n",
    "    \n",
    "    err_test.append(err_te)\n",
    "    \n",
    "    print('Fold {}: err.train={:0.4f}, err.test={:0.4f}'.format(fold+1, err_tr, err_te))\n",
    "\n",
    "print(\" Naive Bayes err_train(avg)={:0.4f}, err_test(avg)={:0.4f}\".format(np.mean(err_train),np.mean(err_test)))"
   ]
  },
  {
   "cell_type": "code",
   "execution_count": null,
   "metadata": {
    "colab": {
     "base_uri": "https://localhost:8080/"
    },
    "id": "aqRv4apwFZKL",
    "outputId": "cbfaecca-6bf1-40ee-e691-686bf485e124"
   },
   "outputs": [],
   "source": [
    "from sklearn.svm import SVC\n",
    "svc = SVC()\n",
    "err_train = []\n",
    "err_test = []\n",
    "for fold, (train_index, test_index) in enumerate(kf.split(X)):\n",
    "    X_train, X_test = X.iloc[train_index], X.iloc[test_index]\n",
    "    y_train, y_test = y.iloc[train_index], y.iloc[test_index]\n",
    "    \n",
    "    svc.fit(X_train, y_train)\n",
    "    \n",
    "    y_hat_tr = svc.predict(X_train)\n",
    "    \n",
    "    err_tr = 1 - accuracy_score(y_train, y_hat_tr)\n",
    "    err_train.append(err_tr)\n",
    "    \n",
    "    y_hat_te = svc.predict(X_test)\n",
    "    \n",
    "    err_te = 1 - accuracy_score(y_test, y_hat_te)\n",
    "    \n",
    "    err_test.append(err_te)\n",
    "    \n",
    "    print('Fold {}: err.train={:0.4f}, err.test={:0.4f}'.format(fold+1, err_tr, err_te))\n",
    "\n",
    "print(\"SVC err_train(avg)={:0.4f}, err_test(avg)={:0.4f}\".format(np.mean(err_train),np.mean(err_test)))"
   ]
  },
  {
   "cell_type": "code",
   "execution_count": null,
   "metadata": {
    "colab": {
     "base_uri": "https://localhost:8080/"
    },
    "id": "Cgq5zldDLvcu",
    "outputId": "00e80d00-17cd-40d4-db2d-ccc09c88785f"
   },
   "outputs": [],
   "source": [
    "from sklearn.ensemble import RandomForestClassifier\n",
    "rfc = RandomForestClassifier()\n",
    "err_train = []\n",
    "err_test = []\n",
    "for fold, (train_index, test_index) in enumerate(kf.split(X)):\n",
    "    X_train, X_test = X.iloc[train_index], X.iloc[test_index]\n",
    "    y_train, y_test = y.iloc[train_index], y.iloc[test_index]\n",
    "    \n",
    "    rfc.fit(X_train, y_train)\n",
    "    \n",
    "    y_hat_tr = rfc.predict(X_train)\n",
    "    \n",
    "    err_tr = 1 - accuracy_score(y_train, y_hat_tr)\n",
    "    err_train.append(err_tr)\n",
    "    \n",
    "    y_hat_te = rfc.predict(X_test)\n",
    "    \n",
    "    err_te = 1 - accuracy_score(y_test, y_hat_te)\n",
    "    \n",
    "    err_test.append(err_te)\n",
    "    \n",
    "    print('Fold {}: err.train={:0.4f}, err.test={:0.4f}'.format(fold+1, err_tr, err_te))\n",
    "\n",
    "print(\" Random Forest Classifier err_train(avg)={:0.4f}, err_test(avg)={:0.4f}\".format(np.mean(err_train),np.mean(err_test)))"
   ]
  },
  {
   "cell_type": "markdown",
   "metadata": {
    "id": "bISp8BeHMOhh"
   },
   "source": [
    "\n",
    "Summarizing the above results, we have the following generalization errors using the accuracy score measure on 5 fold runs:\n",
    "<br></br>\n",
    "\n",
    "|#|Classifier Type|Generalization error\n",
    "|-:|:-|:-|\n",
    "|1|LogisticRegression|0.26|0.16|0.17|0.18\n",
    "|2|KNeighborsClassifier|0.16|0.08|0.08|0.09\n",
    "|3|DecisionTreeClassifier|0.07|0.12|0.00|0.14\n",
    "|4|GaussianNB|0.43|0.09|0.10|0.11\n",
    "|5|SVC|0.20|0.12|0.15|0.16\n",
    "|6|RandomForestClassifier|0.04|0.08|0.00|0.11|\n",
    "\n",
    "As can be seen from the above table, Decison Tree classifier gives the least generalizition error rates on multiple test runs followed by RFC. \n",
    "\n"
   ]
  },
  {
   "cell_type": "markdown",
   "metadata": {
    "id": "DEw77sOdO4cT"
   },
   "source": [
    "## k-folds cross validation using F1 measure\n"
   ]
  },
  {
   "cell_type": "code",
   "execution_count": null,
   "metadata": {
    "colab": {
     "base_uri": "https://localhost:8080/"
    },
    "id": "SnMQ1-bBTTUw",
    "outputId": "84bdfa9a-33be-4359-c1f1-97aa9aa6a0ad"
   },
   "outputs": [],
   "source": [
    "f1_train = []\n",
    "f1_test = []\n",
    "for fold, (train_index, test_index) in enumerate(kf.split(X)):\n",
    "    X_train, X_test = X.iloc[train_index], X.iloc[test_index]\n",
    "    y_train, y_test = y.iloc[train_index], y.iloc[test_index]\n",
    "    \n",
    "    knn.fit(X_train, y_train)\n",
    "    \n",
    "    y_hat_tr = knn.predict(X_train)\n",
    "    \n",
    "    f1_tr = f1_score(y_train, y_hat_tr)\n",
    "    f1_train.append(f1_tr)\n",
    "    \n",
    "    y_hat_te = knn.predict(X_test)\n",
    "    \n",
    "    f1_te = f1_score(y_test, y_hat_te)\n",
    "    \n",
    "    f1_test.append(f1_te)\n",
    "    \n",
    "    print('Fold {}: f1.train={:0.2f}, f1.test={:0.2f}'.format(fold+1, f1_tr, f1_te))\n",
    "\n",
    "print(\"KNN f1_train(avg)={:0.2f}, f1_test(avg)={:0.2f}\".format(np.mean(f1_train),np.mean(f1_test)))"
   ]
  },
  {
   "cell_type": "code",
   "execution_count": null,
   "metadata": {
    "colab": {
     "base_uri": "https://localhost:8080/"
    },
    "id": "qRTmM8XeTTVA",
    "outputId": "c6cafa15-9013-4c51-fc50-7ec114045f81"
   },
   "outputs": [],
   "source": [
    "f1_train = []\n",
    "f1_test = []\n",
    "for fold, (train_index, test_index) in enumerate(kf.split(X)):\n",
    "    X_train, X_test = X.iloc[train_index], X.iloc[test_index]\n",
    "    y_train, y_test = y.iloc[train_index], y.iloc[test_index]\n",
    "    \n",
    "    lr.fit(X_train, y_train)\n",
    "    \n",
    "    y_hat_tr = lr.predict(X_train)\n",
    "    \n",
    "    f1_tr = f1_score(y_train, y_hat_tr)\n",
    "    f1_train.append(f1_tr)\n",
    "    \n",
    "    y_hat_te = lr.predict(X_test)\n",
    "    \n",
    "    f1_te = f1_score(y_test, y_hat_te)\n",
    "    \n",
    "    f1_test.append(f1_te)\n",
    "    \n",
    "    print('Fold {}: f1.train={:0.2f}, f1.test={:0.2f}'.format(fold+1, f1_tr, f1_te))\n",
    "\n",
    "print(\"Logistic Regression f1_train(avg)={:0.2f}, f1_test(avg)={:0.2f}\".format(np.mean(f1_train),np.mean(f1_test)))"
   ]
  },
  {
   "cell_type": "code",
   "execution_count": null,
   "metadata": {
    "colab": {
     "base_uri": "https://localhost:8080/"
    },
    "id": "1Y7dIk5JTTVB",
    "outputId": "287980fc-bab9-4c33-e494-2e108c425a12"
   },
   "outputs": [],
   "source": [
    "f1_train = []\n",
    "f1_test = []\n",
    "for fold, (train_index, test_index) in enumerate(kf.split(X)):\n",
    "    X_train, X_test = X.iloc[train_index], X.iloc[test_index]\n",
    "    y_train, y_test = y.iloc[train_index], y.iloc[test_index]\n",
    "    \n",
    "    dtc.fit(X_train, y_train)\n",
    "    \n",
    "    y_hat_tr = dtc.predict(X_train)\n",
    "    \n",
    "    f1_tr = f1_score(y_train, y_hat_tr)\n",
    "    f1_train.append(f1_tr)\n",
    "    \n",
    "    y_hat_te = dtc.predict(X_test)\n",
    "    \n",
    "    f1_te = f1_score(y_test, y_hat_te)\n",
    "    \n",
    "    f1_test.append(f1_te)\n",
    "    \n",
    "    print('Fold {}: f1.train={:0.2f}, f1.test={:0.2f}'.format(fold+1, f1_tr, f1_te))\n",
    "\n",
    "print(\"Decision Tree Classifier f1_train(avg)={:0.2f}, f1_test(avg)={:0.2f}\".format(np.mean(f1_train),np.mean(f1_test)))"
   ]
  },
  {
   "cell_type": "code",
   "execution_count": null,
   "metadata": {
    "colab": {
     "base_uri": "https://localhost:8080/"
    },
    "id": "W7Bl9bcFTTVB",
    "outputId": "e33f2d40-5897-4bf7-b048-1d0c50ff4591"
   },
   "outputs": [],
   "source": [
    "f1_train = []\n",
    "f1_test = []\n",
    "for fold, (train_index, test_index) in enumerate(kf.split(X)):\n",
    "    X_train, X_test = X.iloc[train_index], X.iloc[test_index]\n",
    "    y_train, y_test = y.iloc[train_index], y.iloc[test_index]\n",
    "    \n",
    "    nb.fit(X_train, y_train)\n",
    "    \n",
    "    y_hat_tr = nb.predict(X_train)\n",
    "    \n",
    "    f1_tr = f1_score(y_train, y_hat_tr)\n",
    "    f1_train.append(f1_tr)\n",
    "    \n",
    "    y_hat_te = nb.predict(X_test)\n",
    "    \n",
    "    f1_te = f1_score(y_test, y_hat_te)\n",
    "    \n",
    "    f1_test.append(f1_te)\n",
    "    \n",
    "    print('Fold {}: f1.train={:0.2f}, f1.test={:0.2f}'.format(fold+1, f1_tr, f1_te))\n",
    "\n",
    "print(\"Naive Bayes f1_train(avg)={:0.2f}, f1_test(avg)={:0.2f}\".format(np.mean(f1_train),np.mean(f1_test)))"
   ]
  },
  {
   "cell_type": "code",
   "execution_count": null,
   "metadata": {
    "colab": {
     "base_uri": "https://localhost:8080/"
    },
    "id": "KMRcEiAvTTVC",
    "outputId": "236fc4d9-1bfa-4489-a380-21686fbec25f"
   },
   "outputs": [],
   "source": [
    "f1_train = []\n",
    "f1_test = []\n",
    "for fold, (train_index, test_index) in enumerate(kf.split(X)):\n",
    "    X_train, X_test = X.iloc[train_index], X.iloc[test_index]\n",
    "    y_train, y_test = y.iloc[train_index], y.iloc[test_index]\n",
    "    \n",
    "    svc.fit(X_train, y_train)\n",
    "    \n",
    "    y_hat_tr = svc.predict(X_train)\n",
    "    \n",
    "    f1_tr = f1_score(y_train, y_hat_tr)\n",
    "    f1_train.append(f1_tr)\n",
    "    \n",
    "    y_hat_te = svc.predict(X_test)\n",
    "    \n",
    "    f1_te = f1_score(y_test, y_hat_te)\n",
    "    \n",
    "    f1_test.append(f1_te)\n",
    "    \n",
    "    print('Fold {}: f1.train={:0.2f}, f1.test={:0.2f}'.format(fold+1, f1_tr, f1_te))\n",
    "\n",
    "print(\"SVC f1_train(avg)={:0.2f}, f1_test(avg)={:0.2f}\".format(np.mean(f1_train),np.mean(f1_test)))"
   ]
  },
  {
   "cell_type": "code",
   "execution_count": null,
   "metadata": {
    "colab": {
     "base_uri": "https://localhost:8080/"
    },
    "id": "gOLzCuGSTTVD",
    "outputId": "9f05bab4-9799-47db-bda5-a40ca8232d31"
   },
   "outputs": [],
   "source": [
    "f1_train = []\n",
    "f1_test = []\n",
    "for fold, (train_index, test_index) in enumerate(kf.split(X)):\n",
    "    X_train, X_test = X.iloc[train_index], X.iloc[test_index]\n",
    "    y_train, y_test = y.iloc[train_index], y.iloc[test_index]\n",
    "    \n",
    "    rfc.fit(X_train, y_train)\n",
    "    \n",
    "    y_hat_tr = rfc.predict(X_train)\n",
    "    \n",
    "    f1_tr = f1_score(y_train, y_hat_tr)\n",
    "    f1_train.append(f1_tr)\n",
    "    \n",
    "    y_hat_te = rfc.predict(X_test)\n",
    "    \n",
    "    f1_te = f1_score(y_test, y_hat_te)\n",
    "    \n",
    "    f1_test.append(f1_te)\n",
    "    \n",
    "    print('Fold {}: f1.train={:0.2f}, f1.test={:0.2f}'.format(fold+1, f1_tr, f1_te))\n",
    "\n",
    "print(\"Random Forest Classifier f1_train(avg)={:0.2f}, f1_test(avg)={:0.2f}\".format(np.mean(f1_train),np.mean(f1_test)))"
   ]
  },
  {
   "cell_type": "code",
   "execution_count": null,
   "metadata": {
    "id": "piSmX9Rs2C-_"
   },
   "outputs": [],
   "source": [
    "kf = KFold(n_splits = 10, shuffle=True, random_state=0)"
   ]
  },
  {
   "cell_type": "code",
   "execution_count": null,
   "metadata": {
    "colab": {
     "base_uri": "https://localhost:8080/"
    },
    "id": "K44yxmyA2PmB",
    "outputId": "6931be15-f55b-4409-a47a-a462cd2ecc3c"
   },
   "outputs": [],
   "source": [
    "f1_train = []\n",
    "f1_test = []\n",
    "for fold, (train_index, test_index) in enumerate(kf.split(X)):\n",
    "    X_train, X_test = X.iloc[train_index], X.iloc[test_index]\n",
    "    y_train, y_test = y.iloc[train_index], y.iloc[test_index]\n",
    "    \n",
    "    rfc.fit(X_train, y_train)\n",
    "    \n",
    "    y_hat_tr = rfc.predict(X_train)\n",
    "    \n",
    "    f1_tr = f1_score(y_train, y_hat_tr)\n",
    "    f1_train.append(f1_tr)\n",
    "    \n",
    "    y_hat_te = rfc.predict(X_test)\n",
    "    \n",
    "    f1_te = f1_score(y_test, y_hat_te)\n",
    "    \n",
    "    f1_test.append(f1_te)\n",
    "    \n",
    "    print('Fold {}: f1.train={:0.2f}, f1.test={:0.2f}'.format(fold+1, f1_tr, f1_te))\n",
    "\n",
    "print(\"Random Forest Classifier f1_train(avg)={:0.2f}, f1_test(avg)={:0.2f}\".format(np.mean(f1_train),np.mean(f1_test)))"
   ]
  },
  {
   "cell_type": "code",
   "execution_count": null,
   "metadata": {
    "colab": {
     "base_uri": "https://localhost:8080/"
    },
    "id": "pfU4_xnf2cRl",
    "outputId": "0c89c9b6-b658-41fb-ad9b-3f7f6d066263"
   },
   "outputs": [],
   "source": [
    "f1_train = []\n",
    "f1_test = []\n",
    "for fold, (train_index, test_index) in enumerate(kf.split(X)):\n",
    "    X_train, X_test = X.iloc[train_index], X.iloc[test_index]\n",
    "    y_train, y_test = y.iloc[train_index], y.iloc[test_index]\n",
    "    \n",
    "    knn.fit(X_train, y_train)\n",
    "    \n",
    "    y_hat_tr = knn.predict(X_train)\n",
    "    \n",
    "    f1_tr = f1_score(y_train, y_hat_tr)\n",
    "    f1_train.append(f1_tr)\n",
    "    \n",
    "    y_hat_te = knn.predict(X_test)\n",
    "    \n",
    "    f1_te = f1_score(y_test, y_hat_te)\n",
    "    \n",
    "    f1_test.append(f1_te)\n",
    "    \n",
    "    print('Fold {}: f1.train={:0.2f}, f1.test={:0.2f}'.format(fold+1, f1_tr, f1_te))\n",
    "\n",
    "print(\"KNN f1_train(avg)={:0.2f}, f1_test(avg)={:0.2f}\".format(np.mean(f1_train),np.mean(f1_test)))"
   ]
  },
  {
   "cell_type": "markdown",
   "metadata": {
    "id": "yB-z7N7-MT8r"
   },
   "source": [
    "## HyperParameter Tuning"
   ]
  },
  {
   "cell_type": "code",
   "execution_count": null,
   "metadata": {
    "id": "Gqy75xzbaYI5"
   },
   "outputs": [],
   "source": [
    "X_train, X_test, y_train, y_test = train_test_split(X, y, test_size=0.33)"
   ]
  },
  {
   "cell_type": "code",
   "execution_count": null,
   "metadata": {
    "colab": {
     "base_uri": "https://localhost:8080/"
    },
    "id": "2F5iB1Y8et1q",
    "outputId": "493c1970-2e71-46c3-ace1-a1769f7f23c4"
   },
   "outputs": [],
   "source": [
    "grid_params = {\n",
    "    'n_neighbors' : [3,5,9,15, 50],\n",
    "    'weights' : ['uniform', 'distance'],\n",
    "    'metric': ['euclidean', 'manhattan', 'minkowski']\n",
    "}\n",
    "gs = GridSearchCV(knn, grid_params, n_jobs=-1)\n",
    "gs.fit(X_train, y_train)\n",
    "y_hat_tr = gs.predict(X_train)\n",
    "err_tr = 1 - accuracy_score(y_train, y_hat_tr)\n",
    "y_hat_te = gs.predict(X_test)\n",
    "err_te = 1 - accuracy_score(y_test, y_hat_te)\n",
    "print(\"KNN Training error: {:.2f} Test Error: {:.2f}\".format(err_tr, err_te))\n",
    "print(gs.best_params_)"
   ]
  },
  {
   "cell_type": "code",
   "execution_count": null,
   "metadata": {
    "colab": {
     "base_uri": "https://localhost:8080/"
    },
    "id": "xYXsMNaYmODW",
    "outputId": "62051c7c-5c96-4dbd-e37b-8df21f72ca25"
   },
   "outputs": [],
   "source": [
    "svc.get_params().keys()"
   ]
  },
  {
   "cell_type": "code",
   "execution_count": null,
   "metadata": {
    "colab": {
     "base_uri": "https://localhost:8080/"
    },
    "id": "Aso_Jg48lTe8",
    "outputId": "7d07ce04-027e-4ef4-b74a-c37f0ed7c08e"
   },
   "outputs": [],
   "source": [
    "grid_params = {'kernel':['linear', 'rbf'], 'C':[1, 10]}\n",
    "gs = GridSearchCV(svc, grid_params, n_jobs=-1)\n",
    "gs.fit(X_train, y_train)\n",
    "y_hat_tr = gs.predict(X_train)\n",
    "err_tr = 1 - accuracy_score(y_train, y_hat_tr)\n",
    "y_hat_te = gs.predict(X_test)\n",
    "err_te = 1 - accuracy_score(y_test, y_hat_te)\n",
    "print(\"SVC Training error: {:.2f} Test Error: {:.2f}\".format(err_tr, err_te))\n",
    "print(gs.best_params_)\n"
   ]
  },
  {
   "cell_type": "code",
   "execution_count": null,
   "metadata": {
    "colab": {
     "base_uri": "https://localhost:8080/"
    },
    "id": "LTKCYnNDpBKF",
    "outputId": "39063687-9962-4329-9e5f-c765182970be"
   },
   "outputs": [],
   "source": [
    "grid_params = {'criterion': ['gini', 'entropy'],\n",
    "               'max_depth': [1,50,250,1000, 2000, None],\n",
    "               'min_samples_split': range(1,10),\n",
    "               'min_samples_leaf': range(1,5)}\n",
    "gs = GridSearchCV(dtc, grid_params, n_jobs=-1)\n",
    "gs.fit(X_train, y_train)\n",
    "y_hat_tr = gs.predict(X_train)\n",
    "err_tr = 1 - accuracy_score(y_train, y_hat_tr)\n",
    "y_hat_te = gs.predict(X_test)\n",
    "err_te = 1 - accuracy_score(y_test, y_hat_te)\n",
    "print(\"DTC Training error: {:.2f} Test Error: {:.2f}\".format(err_tr, err_te))\n",
    "print(gs.best_params_)"
   ]
  },
  {
   "cell_type": "code",
   "execution_count": null,
   "metadata": {
    "colab": {
     "base_uri": "https://localhost:8080/"
    },
    "id": "M7Ca2MNauAe2",
    "outputId": "633b4674-c646-426c-d525-34b992d53f8c"
   },
   "outputs": [],
   "source": [
    "grid_params = { \n",
    "    'n_estimators': [200, 500],\n",
    "    'max_features': ['auto', 'sqrt', 'log2'],\n",
    "    'criterion' :['gini', 'entropy']\n",
    "}\n",
    "gs = GridSearchCV(rfc, grid_params, n_jobs=-1)\n",
    "gs.fit(X_train, y_train)\n",
    "y_hat_tr = gs.predict(X_train)\n",
    "err_tr = 1 - accuracy_score(y_train, y_hat_tr)\n",
    "y_hat_te = gs.predict(X_test)\n",
    "err_te = 1 - accuracy_score(y_test, y_hat_te)\n",
    "print(\"RFC Training error: {:.2f} Test Error: {:.2f}\".format(err_tr, err_te))\n",
    "print(gs.best_params_)"
   ]
  },
  {
   "cell_type": "markdown",
   "metadata": {
    "id": "1NrPfC4PTTVE"
   },
   "source": [
    "\n",
    "Summarizing the above results, we have the following observations:\n",
    "<br></br>\n",
    "\n",
    "|#|Classifier Type|g_err for default hyperparam| g_err for opt hyperparam\n",
    "|-:|:-|:-|:-|\n",
    "|1|KNeighborsClassifier|0.16|0.10|\n",
    "|2|DecisionTreeClassifier|0.07|0.09|\n",
    "|3|RandomForestClassifier|0.04|0.05|\n",
    "\n",
    "We see that for KNN, the perfomance has increased when using GridSearch. \n",
    "\n",
    "For DecisionTreeClassifier and Random classifier there really isn't much differnce in performance. \n",
    "\n",
    "For KNN we got \n",
    "{'metric': 'manhattan', 'n_neighbors': 50, 'weights': 'distance'} as the best hyperparam . We see that default for knn was minkowski\n",
    "\n",
    "For DTC, I observed that the best hyperparam changes every time i run, the maxdepth varies\n",
    "\n",
    "For RFC {'criterion': 'gini', 'max_features': 'auto', 'n_estimators': 200} gave the best results.\n",
    "\n",
    "---\n",
    "\n",
    "**Performance of Classifiers with undersampled vs oversampled data**\n",
    "\n",
    "I noticed that when undersampling the data to taclkle class imbalance problem, all classifiers had high generalization error. Even after using gridsearch the error was at 20%\n",
    "\n",
    "This probably has to do with the biuas variance tradeoff, and the way to mitigate class imbalance is to be be some where between undersampling and over smapling"
   ]
  },
  {
   "cell_type": "code",
   "execution_count": null,
   "metadata": {
    "id": "kgbg4rDLnXjR"
   },
   "outputs": [],
   "source": []
  }
 ],
 "metadata": {
  "colab": {
   "collapsed_sections": [],
   "name": "kekuda_1_lab5.ipynb",
   "provenance": []
  },
  "kernelspec": {
   "display_name": "Python 3",
   "language": "python",
   "name": "python3"
  },
  "language_info": {
   "codemirror_mode": {
    "name": "ipython",
    "version": 3
   },
   "file_extension": ".py",
   "mimetype": "text/x-python",
   "name": "python",
   "nbconvert_exporter": "python",
   "pygments_lexer": "ipython3",
   "version": "3.7.4"
  }
 },
 "nbformat": 4,
 "nbformat_minor": 1
}
