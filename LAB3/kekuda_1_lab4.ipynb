{
 "cells": [
  {
   "cell_type": "markdown",
   "metadata": {
    "id": "k7ttKVng-E7d"
   },
   "source": [
    "# LAB3"
   ]
  },
  {
   "cell_type": "markdown",
   "metadata": {
    "id": "dL1r6zZC-E78"
   },
   "source": [
    "Name: AKSHAY KEKUDA"
   ]
  },
  {
   "cell_type": "code",
   "execution_count": 142,
   "metadata": {
    "id": "tp19vWYb-E8H"
   },
   "outputs": [],
   "source": [
    "import matplotlib.pyplot as plt\n",
    "import numpy as np\n",
    "import pandas as pd\n",
    "import seaborn as sns\n",
    "from sklearn.ensemble import RandomForestClassifier\n",
    "from sklearn.metrics import accuracy_score, classification_report, f1_score\n",
    "from sklearn.model_selection import train_test_split, KFold, GridSearchCV\n",
    "from sklearn.neighbors import KNeighborsClassifier\n",
    "from sklearn.preprocessing import (\n",
    "    OneHotEncoder, LabelEncoder, Binarizer, KBinsDiscretizer,\n",
    "    MaxAbsScaler, StandardScaler, MinMaxScaler\n",
    ")"
   ]
  },
  {
   "cell_type": "code",
   "execution_count": 3,
   "metadata": {
    "colab": {
     "base_uri": "https://localhost:8080/",
     "height": 72,
     "resources": {
      "http://localhost:8080/nbextensions/google.colab/files.js": {
       "data": "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",
       "headers": [
        [
         "content-type",
         "application/javascript"
        ]
       ],
       "ok": true,
       "status": 200,
       "status_text": ""
      }
     }
    },
    "id": "gkly7faEB-jr",
    "outputId": "bd5b2d4e-adfd-4352-d403-529ec2b432a3"
   },
   "outputs": [
    {
     "data": {
      "text/html": [
       "\n",
       "     <input type=\"file\" id=\"files-3ba690e7-d0ab-4ba5-8038-7ec3abea4603\" name=\"files[]\" multiple disabled\n",
       "        style=\"border:none\" />\n",
       "     <output id=\"result-3ba690e7-d0ab-4ba5-8038-7ec3abea4603\">\n",
       "      Upload widget is only available when the cell has been executed in the\n",
       "      current browser session. Please rerun this cell to enable.\n",
       "      </output>\n",
       "      <script src=\"/nbextensions/google.colab/files.js\"></script> "
      ],
      "text/plain": [
       "<IPython.core.display.HTML object>"
      ]
     },
     "metadata": {
      "tags": []
     },
     "output_type": "display_data"
    },
    {
     "name": "stdout",
     "output_type": "stream",
     "text": [
      "Saving Social_Network_Ads.csv to Social_Network_Ads.csv\n"
     ]
    }
   ],
   "source": [
    "from google.colab import files\n",
    "uploaded = files.upload()"
   ]
  },
  {
   "cell_type": "code",
   "execution_count": 4,
   "metadata": {
    "id": "koWly8uW-E8V"
   },
   "outputs": [],
   "source": [
    "df = pd.read_csv('Social_Network_Ads.csv')"
   ]
  },
  {
   "cell_type": "code",
   "execution_count": 5,
   "metadata": {
    "colab": {
     "base_uri": "https://localhost:8080/"
    },
    "id": "mwjOKaiQ-E8p",
    "outputId": "145d2db4-22ac-49f1-8072-97b9de292041"
   },
   "outputs": [
    {
     "data": {
      "text/plain": [
       "User ID            0\n",
       "Gender             0\n",
       "Age                0\n",
       "EstimatedSalary    0\n",
       "Purchased          0\n",
       "dtype: int64"
      ]
     },
     "execution_count": 5,
     "metadata": {
      "tags": []
     },
     "output_type": "execute_result"
    }
   ],
   "source": [
    "df.isna().sum()"
   ]
  },
  {
   "cell_type": "markdown",
   "metadata": {
    "id": "Yj9DmsAw-E88"
   },
   "source": [
    "The data set does not have any missing values."
   ]
  },
  {
   "cell_type": "code",
   "execution_count": 6,
   "metadata": {
    "colab": {
     "base_uri": "https://localhost:8080/",
     "height": 204
    },
    "id": "b0T3GEQP-E8_",
    "outputId": "9609c107-2f62-494e-ac86-be1c3d2e6a43"
   },
   "outputs": [
    {
     "data": {
      "text/html": [
       "<div>\n",
       "<style scoped>\n",
       "    .dataframe tbody tr th:only-of-type {\n",
       "        vertical-align: middle;\n",
       "    }\n",
       "\n",
       "    .dataframe tbody tr th {\n",
       "        vertical-align: top;\n",
       "    }\n",
       "\n",
       "    .dataframe thead th {\n",
       "        text-align: right;\n",
       "    }\n",
       "</style>\n",
       "<table border=\"1\" class=\"dataframe\">\n",
       "  <thead>\n",
       "    <tr style=\"text-align: right;\">\n",
       "      <th></th>\n",
       "      <th>User ID</th>\n",
       "      <th>Gender</th>\n",
       "      <th>Age</th>\n",
       "      <th>EstimatedSalary</th>\n",
       "      <th>Purchased</th>\n",
       "    </tr>\n",
       "  </thead>\n",
       "  <tbody>\n",
       "    <tr>\n",
       "      <th>0</th>\n",
       "      <td>15624510</td>\n",
       "      <td>Male</td>\n",
       "      <td>19</td>\n",
       "      <td>19000</td>\n",
       "      <td>0</td>\n",
       "    </tr>\n",
       "    <tr>\n",
       "      <th>1</th>\n",
       "      <td>15810944</td>\n",
       "      <td>Male</td>\n",
       "      <td>35</td>\n",
       "      <td>20000</td>\n",
       "      <td>0</td>\n",
       "    </tr>\n",
       "    <tr>\n",
       "      <th>2</th>\n",
       "      <td>15668575</td>\n",
       "      <td>Female</td>\n",
       "      <td>26</td>\n",
       "      <td>43000</td>\n",
       "      <td>0</td>\n",
       "    </tr>\n",
       "    <tr>\n",
       "      <th>3</th>\n",
       "      <td>15603246</td>\n",
       "      <td>Female</td>\n",
       "      <td>27</td>\n",
       "      <td>57000</td>\n",
       "      <td>0</td>\n",
       "    </tr>\n",
       "    <tr>\n",
       "      <th>4</th>\n",
       "      <td>15804002</td>\n",
       "      <td>Male</td>\n",
       "      <td>19</td>\n",
       "      <td>76000</td>\n",
       "      <td>0</td>\n",
       "    </tr>\n",
       "  </tbody>\n",
       "</table>\n",
       "</div>"
      ],
      "text/plain": [
       "    User ID  Gender  Age  EstimatedSalary  Purchased\n",
       "0  15624510    Male   19            19000          0\n",
       "1  15810944    Male   35            20000          0\n",
       "2  15668575  Female   26            43000          0\n",
       "3  15603246  Female   27            57000          0\n",
       "4  15804002    Male   19            76000          0"
      ]
     },
     "execution_count": 6,
     "metadata": {
      "tags": []
     },
     "output_type": "execute_result"
    }
   ],
   "source": [
    "df.head()"
   ]
  },
  {
   "cell_type": "code",
   "execution_count": 7,
   "metadata": {
    "colab": {
     "base_uri": "https://localhost:8080/"
    },
    "id": "3sT9eqR2-E9q",
    "outputId": "410636a8-5e48-4bae-fb0c-3ca59ee1c5d9",
    "scrolled": true
   },
   "outputs": [
    {
     "data": {
      "text/plain": [
       "User ID             int64\n",
       "Gender             object\n",
       "Age                 int64\n",
       "EstimatedSalary     int64\n",
       "Purchased           int64\n",
       "dtype: object"
      ]
     },
     "execution_count": 7,
     "metadata": {
      "tags": []
     },
     "output_type": "execute_result"
    }
   ],
   "source": [
    "df.dtypes"
   ]
  },
  {
   "cell_type": "markdown",
   "metadata": {
    "id": "vsHLaSZt-E90"
   },
   "source": [
    "The data types of the data set are as expected"
   ]
  },
  {
   "cell_type": "code",
   "execution_count": 8,
   "metadata": {
    "colab": {
     "base_uri": "https://localhost:8080/"
    },
    "id": "QxFNl79--E-N",
    "outputId": "d279971b-279e-49be-8208-e727cd3154ae"
   },
   "outputs": [
    {
     "data": {
      "text/plain": [
       "True"
      ]
     },
     "execution_count": 8,
     "metadata": {
      "tags": []
     },
     "output_type": "execute_result"
    }
   ],
   "source": [
    "df['User ID'].is_unique"
   ]
  },
  {
   "cell_type": "markdown",
   "metadata": {
    "id": "bQKGmnJH-E-b"
   },
   "source": [
    "Since the USER ID column has retured True for is_unique check, we can say that there are no duplicate data."
   ]
  },
  {
   "cell_type": "markdown",
   "metadata": {
    "id": "jLuSdC-V-E-e"
   },
   "source": [
    "Let us now analyze the Gender attribute"
   ]
  },
  {
   "cell_type": "code",
   "execution_count": 9,
   "metadata": {
    "colab": {
     "base_uri": "https://localhost:8080/"
    },
    "id": "wrYlgKQ7-E-g",
    "outputId": "b9aeabe3-7010-413a-a4e0-9c9f3f4c2a16"
   },
   "outputs": [
    {
     "data": {
      "text/plain": [
       "Female    204\n",
       "Male      196\n",
       "Name: Gender, dtype: int64"
      ]
     },
     "execution_count": 9,
     "metadata": {
      "tags": []
     },
     "output_type": "execute_result"
    }
   ],
   "source": [
    "df['Gender'].value_counts()"
   ]
  },
  {
   "cell_type": "code",
   "execution_count": 10,
   "metadata": {
    "colab": {
     "base_uri": "https://localhost:8080/"
    },
    "id": "QaUYFwNV-E-1",
    "outputId": "bd73187c-199c-4fd8-b2f0-4d6e5705696e"
   },
   "outputs": [
    {
     "data": {
      "text/plain": [
       "count        400\n",
       "unique         2\n",
       "top       Female\n",
       "freq         204\n",
       "Name: Gender, dtype: object"
      ]
     },
     "execution_count": 10,
     "metadata": {
      "tags": []
     },
     "output_type": "execute_result"
    }
   ],
   "source": [
    "df['Gender'].describe()"
   ]
  },
  {
   "cell_type": "code",
   "execution_count": 11,
   "metadata": {
    "colab": {
     "base_uri": "https://localhost:8080/",
     "height": 308
    },
    "id": "uXX56KSN-E_A",
    "outputId": "6c3d610e-ce73-40f7-c89e-d7a6e52caafe"
   },
   "outputs": [
    {
     "data": {
      "image/png": "[encoded data removed]",
      "text/plain": [
       "<Figure size 900x300 with 1 Axes>"
      ]
     },
     "metadata": {
      "tags": []
     },
     "output_type": "display_data"
    }
   ],
   "source": [
    "data = df.Gender.value_counts(normalize = 'True') * 100\n",
    "sns.set_style(\"whitegrid\")\n",
    "fig = plt.figure(figsize=(12,4), dpi=75)\n",
    "ax1 = fig.add_subplot(111)\n",
    "sns.barplot(x=data.keys(), y=data, ci=None, palette=\"muted\",orient='v', ax=ax1)\n",
    "ax1.set_title(\"Distribution of gender of buyers\", fontsize=15)\n",
    "ax1.set_xlabel (\"Gender\")\n",
    "ax1.set_ylabel (\"% of buyers\")\n",
    "plt.show()"
   ]
  },
  {
   "cell_type": "markdown",
   "metadata": {
    "id": "451YYs6oKIL-"
   },
   "source": [
    "The gender atttribute has no missing/abnormal data. The percentage of female buyers is slightly higher than that of male buyers."
   ]
  },
  {
   "cell_type": "markdown",
   "metadata": {
    "id": "UKnQNwiZKsxC"
   },
   "source": [
    "Let us now look at the Age of the buyers"
   ]
  },
  {
   "cell_type": "code",
   "execution_count": 12,
   "metadata": {
    "colab": {
     "base_uri": "https://localhost:8080/"
    },
    "id": "P_BgK0Uw-E_S",
    "outputId": "6306a492-813e-4e42-c4ca-ffab058e1dea"
   },
   "outputs": [
    {
     "data": {
      "text/plain": [
       "count    400.000000\n",
       "mean      37.655000\n",
       "std       10.482877\n",
       "min       18.000000\n",
       "25%       29.750000\n",
       "50%       37.000000\n",
       "75%       46.000000\n",
       "max       60.000000\n",
       "Name: Age, dtype: float64"
      ]
     },
     "execution_count": 12,
     "metadata": {
      "tags": []
     },
     "output_type": "execute_result"
    }
   ],
   "source": [
    "df.Age.describe()"
   ]
  },
  {
   "cell_type": "code",
   "execution_count": 13,
   "metadata": {
    "colab": {
     "base_uri": "https://localhost:8080/",
     "height": 267
    },
    "id": "aKHSepCJ-E_U",
    "outputId": "b532100a-bd89-4716-b100-f5cba740d17a"
   },
   "outputs": [
    {
     "data": {
      "image/png": "[encoded data removed]",
      "text/plain": [
       "<Figure size 432x288 with 1 Axes>"
      ]
     },
     "metadata": {
      "tags": []
     },
     "output_type": "display_data"
    }
   ],
   "source": [
    "df.Age.hist()\n",
    "plt.show()"
   ]
  },
  {
   "cell_type": "code",
   "execution_count": 14,
   "metadata": {
    "colab": {
     "base_uri": "https://localhost:8080/"
    },
    "id": "Y-YharxkN3Pw",
    "outputId": "16e43614-4757-44cf-fd0b-5ccb2e5471f4"
   },
   "outputs": [
    {
     "name": "stdout",
     "output_type": "stream",
     "text": [
      "Max buyers are of age 35 years\n",
      "Median age of buyers is 37 years\n"
     ]
    }
   ],
   "source": [
    "print(\"Max buyers are of age {} years\".format(df.Age.mode()[0]))\n",
    "print(\"Median age of buyers is {} years\".format(int(df.Age.median())))"
   ]
  },
  {
   "cell_type": "markdown",
   "metadata": {
    "id": "7aesIIT2W74I"
   },
   "source": [
    "Let us look at the salary attribute of the buyers."
   ]
  },
  {
   "cell_type": "code",
   "execution_count": 15,
   "metadata": {
    "colab": {
     "base_uri": "https://localhost:8080/"
    },
    "id": "S8tySna0wEc0",
    "outputId": "62606d69-3eb8-429f-c2db-901d5af6bfbe"
   },
   "outputs": [
    {
     "data": {
      "text/plain": [
       "count       400.000000\n",
       "mean      69742.500000\n",
       "std       34096.960282\n",
       "min       15000.000000\n",
       "25%       43000.000000\n",
       "50%       70000.000000\n",
       "75%       88000.000000\n",
       "max      150000.000000\n",
       "Name: EstimatedSalary, dtype: float64"
      ]
     },
     "execution_count": 15,
     "metadata": {
      "tags": []
     },
     "output_type": "execute_result"
    }
   ],
   "source": [
    "df.EstimatedSalary.describe()"
   ]
  },
  {
   "cell_type": "code",
   "execution_count": 16,
   "metadata": {
    "colab": {
     "base_uri": "https://localhost:8080/",
     "height": 282
    },
    "id": "cSYNrp2HwMxb",
    "outputId": "a2725d89-da9c-42d9-efd4-3f9115e4ab95"
   },
   "outputs": [
    {
     "data": {
      "text/plain": [
       "<matplotlib.axes._subplots.AxesSubplot at 0x7fe84846bd30>"
      ]
     },
     "execution_count": 16,
     "metadata": {
      "tags": []
     },
     "output_type": "execute_result"
    },
    {
     "data": {
      "image/png": "[encoded data removed]",
      "text/plain": [
       "<Figure size 432x288 with 1 Axes>"
      ]
     },
     "metadata": {
      "tags": []
     },
     "output_type": "display_data"
    }
   ],
   "source": [
    "df.EstimatedSalary.hist()"
   ]
  },
  {
   "cell_type": "code",
   "execution_count": 17,
   "metadata": {
    "colab": {
     "base_uri": "https://localhost:8080/"
    },
    "id": "ybS8wMp0x18J",
    "outputId": "51a2709f-01d0-431d-b1f2-d5073ea16ee9"
   },
   "outputs": [
    {
     "name": "stdout",
     "output_type": "stream",
     "text": [
      "Max buyers have a salary of $72000\n",
      "Median salary of buyers is $70000\n"
     ]
    }
   ],
   "source": [
    "print(\"Max buyers have a salary of ${}\".format(df.EstimatedSalary.mode()[0]))\n",
    "print(\"Median salary of buyers is ${}\".format(int(df.EstimatedSalary.median())))"
   ]
  },
  {
   "cell_type": "markdown",
   "metadata": {
    "id": "DK4ufObMzq0i"
   },
   "source": [
    "Let us look at the class Purchased"
   ]
  },
  {
   "cell_type": "code",
   "execution_count": 18,
   "metadata": {
    "colab": {
     "base_uri": "https://localhost:8080/"
    },
    "id": "IT4mrmPn1E9l",
    "outputId": "c0c8140a-7aef-44ad-d15e-cd2ff65a2266"
   },
   "outputs": [
    {
     "data": {
      "text/plain": [
       "0    0.6425\n",
       "1    0.3575\n",
       "Name: Purchased, dtype: float64"
      ]
     },
     "execution_count": 18,
     "metadata": {
      "tags": []
     },
     "output_type": "execute_result"
    }
   ],
   "source": [
    "df.Purchased.value_counts(normalize=True)"
   ]
  },
  {
   "cell_type": "markdown",
   "metadata": {
    "id": "ScaHgrtr1Jjw"
   },
   "source": [
    "Since the data doesn't describe what 1 and 0 stands for , I assume 1 signifies pruchase of a product and 0 signifies not purchases. At the outset from the given data it looks like 64% of the buyers did not buy the product. It can be due to a variety of reason, like the product may be not affordable to many of the people from the data set or it may cater to an age group that is not centered around the mode/median age of the buyers. "
   ]
  },
  {
   "cell_type": "code",
   "execution_count": 19,
   "metadata": {
    "colab": {
     "base_uri": "https://localhost:8080/",
     "height": 383
    },
    "id": "re3-X_fhRqhi",
    "outputId": "f2f00d88-db4e-466e-8489-2b986c35b76a"
   },
   "outputs": [
    {
     "data": {
      "image/png": "[encoded data removed]",
      "text/plain": [
       "<Figure size 419.875x360 with 1 Axes>"
      ]
     },
     "metadata": {
      "tags": []
     },
     "output_type": "display_data"
    }
   ],
   "source": [
    "sns.lmplot(data=df, x=\"Age\", y=\"EstimatedSalary\", fit_reg=False, hue=\"Purchased\")\n",
    "plt.show()"
   ]
  },
  {
   "cell_type": "markdown",
   "metadata": {
    "id": "h0nme0QqUJxV"
   },
   "source": [
    "As can be seen from the above graph, we see that people below age 40 years and having a salary less that 80000 have not purchased the the product."
   ]
  },
  {
   "cell_type": "code",
   "execution_count": 20,
   "metadata": {
    "colab": {
     "base_uri": "https://localhost:8080/",
     "height": 408
    },
    "id": "RmWTvmxiS14J",
    "outputId": "2afe7c74-7268-4100-aa76-09d327d630c4"
   },
   "outputs": [
    {
     "data": {
      "text/plain": [
       "<seaborn.axisgrid.PairGrid at 0x7fe83fb97cf8>"
      ]
     },
     "execution_count": 20,
     "metadata": {
      "tags": []
     },
     "output_type": "execute_result"
    },
    {
     "data": {
      "text/plain": [
       "<Figure size 1050x1050 with 0 Axes>"
      ]
     },
     "metadata": {
      "tags": []
     },
     "output_type": "display_data"
    },
    {
     "data": {
      "image/png": "[encoded data removed]",
      "text/plain": [
       "<Figure size 419.875x360 with 6 Axes>"
      ]
     },
     "metadata": {
      "tags": []
     },
     "output_type": "display_data"
    }
   ],
   "source": [
    "fig = plt.figure(figsize=(14,14), dpi=75)\n",
    "sns.pairplot(df[df.columns[1:]], kind=\"scatter\", markers=[\"o\", \"D\"], hue=\"Purchased\")"
   ]
  },
  {
   "cell_type": "code",
   "execution_count": 21,
   "metadata": {
    "colab": {
     "base_uri": "https://localhost:8080/",
     "height": 383
    },
    "id": "-cLOLSvzbCaa",
    "outputId": "f78cd4ca-a8dc-4e7c-bad2-66fc7625a3ab"
   },
   "outputs": [
    {
     "data": {
      "image/png": "[encoded data removed]",
      "text/plain": [
       "<Figure size 779.875x360 with 2 Axes>"
      ]
     },
     "metadata": {
      "tags": []
     },
     "output_type": "display_data"
    }
   ],
   "source": [
    "sns.relplot(x=\"EstimatedSalary\", y=\"Age\", hue=\"Purchased\", col=\"Gender\", data=df);"
   ]
  },
  {
   "cell_type": "markdown",
   "metadata": {
    "id": "bvyRvtTRbjwG"
   },
   "source": [
    "The above plot illustrates the point that the the distribution of males and females who have not purchased the product is similar i.e people belonging to both the genders with a salary of less than 80k and age less than 40 have not purchased the product"
   ]
  },
  {
   "cell_type": "code",
   "execution_count": 22,
   "metadata": {
    "colab": {
     "base_uri": "https://localhost:8080/",
     "height": 346
    },
    "id": "bL9Xd9W6dQYL",
    "outputId": "aea35085-b5e4-46f0-f58d-a0a2cab6fc55"
   },
   "outputs": [
    {
     "data": {
      "image/png": "[encoded data removed]",
      "text/plain": [
       "<Figure size 1050x375 with 2 Axes>"
      ]
     },
     "metadata": {
      "tags": []
     },
     "output_type": "display_data"
    }
   ],
   "source": [
    "fig = plt.figure(figsize=(14,5), dpi=75)\n",
    "plt.subplot(121)\n",
    "sns.histplot(df, x = 'EstimatedSalary', hue = 'Gender')\n",
    "plt.subplot(122)\n",
    "sns.histplot(df, x = 'Age', hue = 'Gender')\n",
    "plt.show()"
   ]
  },
  {
   "cell_type": "markdown",
   "metadata": {
    "id": "BDzT2BKOjF3z"
   },
   "source": [
    "The above graph shows that in the data set the more number of males have salaries around the median salary. Surprisingly number of females receiving high salaries(>100k) are more than males. "
   ]
  },
  {
   "cell_type": "markdown",
   "metadata": {
    "id": "f0uH72QW4s8f"
   },
   "source": [
    "Before we proceeed we can encode Male and Female gender as 1 and 0 respectively."
   ]
  },
  {
   "cell_type": "code",
   "execution_count": 23,
   "metadata": {
    "id": "IJdGjzbT9qKT"
   },
   "outputs": [],
   "source": [
    "for index, rows in df.iterrows():\n",
    "  df.at[index, 'Gender'] = 1 if df.iloc[index]['Gender'] == 'Male' else 0"
   ]
  },
  {
   "cell_type": "code",
   "execution_count": 24,
   "metadata": {
    "colab": {
     "base_uri": "https://localhost:8080/"
    },
    "id": "1u4l4IvnCS0K",
    "outputId": "1b639012-ba5f-4f69-ae50-c8a7d52fab55"
   },
   "outputs": [
    {
     "data": {
      "text/plain": [
       "0    204\n",
       "1    196\n",
       "Name: Gender, dtype: int64"
      ]
     },
     "execution_count": 24,
     "metadata": {
      "tags": []
     },
     "output_type": "execute_result"
    }
   ],
   "source": [
    "df.Gender.value_counts()"
   ]
  },
  {
   "cell_type": "code",
   "execution_count": 25,
   "metadata": {
    "colab": {
     "base_uri": "https://localhost:8080/"
    },
    "id": "RAL63NaY-b_z",
    "outputId": "82d1961f-794a-4a83-df12-446d29b09745"
   },
   "outputs": [
    {
     "data": {
      "text/plain": [
       "User ID            int64\n",
       "Gender             int64\n",
       "Age                int64\n",
       "EstimatedSalary    int64\n",
       "Purchased          int64\n",
       "dtype: object"
      ]
     },
     "execution_count": 25,
     "metadata": {
      "tags": []
     },
     "output_type": "execute_result"
    }
   ],
   "source": [
    "df['Gender'] = df['Gender'].astype(int)\n",
    "df.dtypes"
   ]
  },
  {
   "cell_type": "markdown",
   "metadata": {
    "id": "WzKaQdcuAU0Q"
   },
   "source": [
    "We have now converted the Gender data type to type int"
   ]
  },
  {
   "cell_type": "code",
   "execution_count": 26,
   "metadata": {
    "colab": {
     "base_uri": "https://localhost:8080/",
     "height": 265
    },
    "id": "VMiGwoG9A-Go",
    "outputId": "0f682558-e623-44f4-dba5-3dd8e62a05b6"
   },
   "outputs": [
    {
     "data": {
      "image/png": "[encoded data removed]",
      "text/plain": [
       "<Figure size 432x288 with 1 Axes>"
      ]
     },
     "metadata": {
      "tags": []
     },
     "output_type": "display_data"
    }
   ],
   "source": [
    "df.boxplot(column = [\"EstimatedSalary\", \"Age\"])\n",
    "plt.show()"
   ]
  },
  {
   "cell_type": "markdown",
   "metadata": {
    "id": "_SLFNBrsQFGZ"
   },
   "source": [
    "As age and estimated salary are in a different scale, we will normalize these columns\n"
   ]
  },
  {
   "cell_type": "code",
   "execution_count": 27,
   "metadata": {
    "id": "XxCigdQ-Vl20"
   },
   "outputs": [],
   "source": [
    "scaled_df = df.copy(deep=True)\n",
    "num_cols = scaled_df.columns[2:4]\n",
    "min, max = 0, 1 # new scale\n",
    "for c in num_cols:\n",
    "    X = scaled_df[c]\n",
    "    X_std = (X - X.min(axis=0)) / (X.max(axis=0) - X.min(axis=0))\n",
    "    X_scaled = X_std * (max - min) + min\n",
    "    scaled_df[c] = X_scaled"
   ]
  },
  {
   "cell_type": "code",
   "execution_count": 28,
   "metadata": {
    "colab": {
     "base_uri": "https://localhost:8080/"
    },
    "id": "0e33O0-ZPqQ4",
    "outputId": "0330ea33-92d2-4bc6-99db-97f4acaf4ee1"
   },
   "outputs": [
    {
     "data": {
      "text/plain": [
       "User ID              int64\n",
       "Gender               int64\n",
       "Age                float64\n",
       "EstimatedSalary    float64\n",
       "Purchased            int64\n",
       "dtype: object"
      ]
     },
     "execution_count": 28,
     "metadata": {
      "tags": []
     },
     "output_type": "execute_result"
    }
   ],
   "source": [
    "scaled_df.dtypes"
   ]
  },
  {
   "cell_type": "code",
   "execution_count": 28,
   "metadata": {
    "id": "1Cc8dPqTPpwA"
   },
   "outputs": [],
   "source": []
  },
  {
   "cell_type": "code",
   "execution_count": 29,
   "metadata": {
    "colab": {
     "base_uri": "https://localhost:8080/",
     "height": 265
    },
    "id": "cjCGxSN4V_YO",
    "outputId": "8a40e773-998b-4b7a-e975-7fe068023573"
   },
   "outputs": [
    {
     "data": {
      "image/png": "[encoded data removed]",
      "text/plain": [
       "<Figure size 432x288 with 1 Axes>"
      ]
     },
     "metadata": {
      "tags": []
     },
     "output_type": "display_data"
    }
   ],
   "source": [
    "sns.boxplot(data=scaled_df[num_cols])\n",
    "plt.show()"
   ]
  },
  {
   "cell_type": "markdown",
   "metadata": {
    "id": "PYaTHE5KQXo5"
   },
   "source": [
    "From the above graph, we can see that the data has no outliers. "
   ]
  },
  {
   "cell_type": "code",
   "execution_count": 30,
   "metadata": {
    "colab": {
     "base_uri": "https://localhost:8080/",
     "height": 346
    },
    "id": "-6AePDigLngx",
    "outputId": "927b700b-c084-4f97-977c-b4af15561cfc"
   },
   "outputs": [
    {
     "data": {
      "image/png": "[encoded data removed]",
      "text/plain": [
       "<Figure size 750x375 with 2 Axes>"
      ]
     },
     "metadata": {
      "tags": []
     },
     "output_type": "display_data"
    }
   ],
   "source": [
    "fig = plt.figure(figsize=(10,5), dpi=75)\n",
    "plt.subplot(121)\n",
    "sns.violinplot(x=scaled_df['Gender'], y=scaled_df['EstimatedSalary'])\n",
    "plt.subplot(122)\n",
    "sns.violinplot(x=scaled_df['Gender'], y=scaled_df['Age'])\n",
    "plt.show()"
   ]
  },
  {
   "cell_type": "markdown",
   "metadata": {
    "id": "vfy_TJ77q-A4"
   },
   "source": [
    "The above vioilin plot emphasizes on the point that distribution of males and females are not totally similar. There are more males( represented by 0) around the median salary and age."
   ]
  },
  {
   "cell_type": "code",
   "execution_count": 31,
   "metadata": {
    "colab": {
     "base_uri": "https://localhost:8080/",
     "height": 297
    },
    "id": "ssOY7EbyvpS3",
    "outputId": "0af4f44e-f46a-45cb-b9eb-906787031e54"
   },
   "outputs": [
    {
     "data": {
      "text/html": [
       "<div>\n",
       "<style scoped>\n",
       "    .dataframe tbody tr th:only-of-type {\n",
       "        vertical-align: middle;\n",
       "    }\n",
       "\n",
       "    .dataframe tbody tr th {\n",
       "        vertical-align: top;\n",
       "    }\n",
       "\n",
       "    .dataframe thead th {\n",
       "        text-align: right;\n",
       "    }\n",
       "</style>\n",
       "<table border=\"1\" class=\"dataframe\">\n",
       "  <thead>\n",
       "    <tr style=\"text-align: right;\">\n",
       "      <th></th>\n",
       "      <th>User ID</th>\n",
       "      <th>Gender</th>\n",
       "      <th>Age</th>\n",
       "      <th>EstimatedSalary</th>\n",
       "      <th>Purchased</th>\n",
       "    </tr>\n",
       "  </thead>\n",
       "  <tbody>\n",
       "    <tr>\n",
       "      <th>count</th>\n",
       "      <td>4.000000e+02</td>\n",
       "      <td>400.000000</td>\n",
       "      <td>400.000000</td>\n",
       "      <td>400.000000</td>\n",
       "      <td>400.000000</td>\n",
       "    </tr>\n",
       "    <tr>\n",
       "      <th>mean</th>\n",
       "      <td>1.569154e+07</td>\n",
       "      <td>0.490000</td>\n",
       "      <td>0.467976</td>\n",
       "      <td>0.405500</td>\n",
       "      <td>0.357500</td>\n",
       "    </tr>\n",
       "    <tr>\n",
       "      <th>std</th>\n",
       "      <td>7.165832e+04</td>\n",
       "      <td>0.500526</td>\n",
       "      <td>0.249592</td>\n",
       "      <td>0.252570</td>\n",
       "      <td>0.479864</td>\n",
       "    </tr>\n",
       "    <tr>\n",
       "      <th>min</th>\n",
       "      <td>1.556669e+07</td>\n",
       "      <td>0.000000</td>\n",
       "      <td>0.000000</td>\n",
       "      <td>0.000000</td>\n",
       "      <td>0.000000</td>\n",
       "    </tr>\n",
       "    <tr>\n",
       "      <th>25%</th>\n",
       "      <td>1.562676e+07</td>\n",
       "      <td>0.000000</td>\n",
       "      <td>0.279762</td>\n",
       "      <td>0.207407</td>\n",
       "      <td>0.000000</td>\n",
       "    </tr>\n",
       "    <tr>\n",
       "      <th>50%</th>\n",
       "      <td>1.569434e+07</td>\n",
       "      <td>0.000000</td>\n",
       "      <td>0.452381</td>\n",
       "      <td>0.407407</td>\n",
       "      <td>0.000000</td>\n",
       "    </tr>\n",
       "    <tr>\n",
       "      <th>75%</th>\n",
       "      <td>1.575036e+07</td>\n",
       "      <td>1.000000</td>\n",
       "      <td>0.666667</td>\n",
       "      <td>0.540741</td>\n",
       "      <td>1.000000</td>\n",
       "    </tr>\n",
       "    <tr>\n",
       "      <th>max</th>\n",
       "      <td>1.581524e+07</td>\n",
       "      <td>1.000000</td>\n",
       "      <td>1.000000</td>\n",
       "      <td>1.000000</td>\n",
       "      <td>1.000000</td>\n",
       "    </tr>\n",
       "  </tbody>\n",
       "</table>\n",
       "</div>"
      ],
      "text/plain": [
       "            User ID      Gender         Age  EstimatedSalary   Purchased\n",
       "count  4.000000e+02  400.000000  400.000000       400.000000  400.000000\n",
       "mean   1.569154e+07    0.490000    0.467976         0.405500    0.357500\n",
       "std    7.165832e+04    0.500526    0.249592         0.252570    0.479864\n",
       "min    1.556669e+07    0.000000    0.000000         0.000000    0.000000\n",
       "25%    1.562676e+07    0.000000    0.279762         0.207407    0.000000\n",
       "50%    1.569434e+07    0.000000    0.452381         0.407407    0.000000\n",
       "75%    1.575036e+07    1.000000    0.666667         0.540741    1.000000\n",
       "max    1.581524e+07    1.000000    1.000000         1.000000    1.000000"
      ]
     },
     "execution_count": 31,
     "metadata": {
      "tags": []
     },
     "output_type": "execute_result"
    }
   ],
   "source": [
    "scaled_df.describe()"
   ]
  },
  {
   "cell_type": "code",
   "execution_count": 32,
   "metadata": {
    "colab": {
     "base_uri": "https://localhost:8080/"
    },
    "id": "kCwJAITOw6vL",
    "outputId": "cb21566f-0e6c-472b-b155-819b221c76c3"
   },
   "outputs": [
    {
     "data": {
      "text/plain": [
       "User ID              int64\n",
       "Gender               int64\n",
       "Age                float64\n",
       "EstimatedSalary    float64\n",
       "Purchased            int64\n",
       "dtype: object"
      ]
     },
     "execution_count": 32,
     "metadata": {
      "tags": []
     },
     "output_type": "execute_result"
    }
   ],
   "source": [
    "scaled_df.dtypes"
   ]
  },
  {
   "cell_type": "code",
   "execution_count": 33,
   "metadata": {
    "colab": {
     "base_uri": "https://localhost:8080/",
     "height": 173
    },
    "id": "w1QMo8WvBu3Q",
    "outputId": "ec44c746-411f-434a-f761-7b7c9390d0fe"
   },
   "outputs": [
    {
     "data": {
      "text/html": [
       "<div>\n",
       "<style scoped>\n",
       "    .dataframe tbody tr th:only-of-type {\n",
       "        vertical-align: middle;\n",
       "    }\n",
       "\n",
       "    .dataframe tbody tr th {\n",
       "        vertical-align: top;\n",
       "    }\n",
       "\n",
       "    .dataframe thead th {\n",
       "        text-align: right;\n",
       "    }\n",
       "</style>\n",
       "<table border=\"1\" class=\"dataframe\">\n",
       "  <thead>\n",
       "    <tr style=\"text-align: right;\">\n",
       "      <th></th>\n",
       "      <th>Gender</th>\n",
       "      <th>Age</th>\n",
       "      <th>EstimatedSalary</th>\n",
       "      <th>Purchased</th>\n",
       "    </tr>\n",
       "  </thead>\n",
       "  <tbody>\n",
       "    <tr>\n",
       "      <th>Gender</th>\n",
       "      <td>1.000000</td>\n",
       "      <td>-0.073741</td>\n",
       "      <td>-0.060435</td>\n",
       "      <td>-0.042469</td>\n",
       "    </tr>\n",
       "    <tr>\n",
       "      <th>Age</th>\n",
       "      <td>-0.073741</td>\n",
       "      <td>1.000000</td>\n",
       "      <td>0.155238</td>\n",
       "      <td>0.622454</td>\n",
       "    </tr>\n",
       "    <tr>\n",
       "      <th>EstimatedSalary</th>\n",
       "      <td>-0.060435</td>\n",
       "      <td>0.155238</td>\n",
       "      <td>1.000000</td>\n",
       "      <td>0.362083</td>\n",
       "    </tr>\n",
       "    <tr>\n",
       "      <th>Purchased</th>\n",
       "      <td>-0.042469</td>\n",
       "      <td>0.622454</td>\n",
       "      <td>0.362083</td>\n",
       "      <td>1.000000</td>\n",
       "    </tr>\n",
       "  </tbody>\n",
       "</table>\n",
       "</div>"
      ],
      "text/plain": [
       "                   Gender       Age  EstimatedSalary  Purchased\n",
       "Gender           1.000000 -0.073741        -0.060435  -0.042469\n",
       "Age             -0.073741  1.000000         0.155238   0.622454\n",
       "EstimatedSalary -0.060435  0.155238         1.000000   0.362083\n",
       "Purchased       -0.042469  0.622454         0.362083   1.000000"
      ]
     },
     "execution_count": 33,
     "metadata": {
      "tags": []
     },
     "output_type": "execute_result"
    }
   ],
   "source": [
    "scaled_df[scaled_df.columns[1:]].corr()"
   ]
  },
  {
   "cell_type": "markdown",
   "metadata": {
    "id": "hRwzhjsxCxzo"
   },
   "source": [
    "Age and Estimated Salary have very less correlation. "
   ]
  },
  {
   "cell_type": "markdown",
   "metadata": {
    "id": "KdUkd1WYs86y"
   },
   "source": [
    "##Data Dictionary of preprocessed data\n",
    "\n",
    "|#|Attribute|Data Type|Range|Attribute Type|Description|\n",
    "|-:|:-|:-|:-|:-|:-|\n",
    "|1|User Id|int64|[1556669,1581542]| integer| User ID of the buyer. This data is not of much importance for preprocessing\n",
    "|2|Gender|int64|0 or 1|categorical| 1 indicates Male category and 0 indicates female category\n",
    "|3|EstimatedSalary|float64|[0,1]|floating|Gives the estimated salary of the buyers. This data has been scaled to (0,1)\n",
    "|4|Age|float64|[0,1]| floating| Gives the age of the buyer. This data has been scaled to (0,1)\n",
    "|5|Purchased|int64|0 or 1| categorical| 0 signifies that the buyer has not purchased the product and 1 signifies that the buyer has purchased\n"
   ]
  },
  {
   "cell_type": "markdown",
   "metadata": {
    "id": "FYfaOfjV0bW2"
   },
   "source": [
    "Note: We can convert estimated salary and age to categorical data for visualization purposes.\n",
    "Also we will not be using User Id attibute for further analysis"
   ]
  },
  {
   "cell_type": "markdown",
   "metadata": {
    "id": "YGFhh-_ls0eo"
   },
   "source": [
    "We will now start with building the classifiers"
   ]
  },
  {
   "cell_type": "code",
   "execution_count": 34,
   "metadata": {
    "id": "TBHRBM8cWNc9"
   },
   "outputs": [],
   "source": [
    "X = scaled_df[['Age', 'EstimatedSalary', 'Gender']]\n",
    "y = scaled_df['Purchased']\n"
   ]
  },
  {
   "cell_type": "code",
   "execution_count": 35,
   "metadata": {
    "colab": {
     "base_uri": "https://localhost:8080/"
    },
    "id": "Txzr8jb07-m0",
    "outputId": "0e6485d3-c37e-4fc3-e98b-58af967e28b4"
   },
   "outputs": [
    {
     "data": {
      "text/plain": [
       "(268, 3)"
      ]
     },
     "execution_count": 35,
     "metadata": {
      "tags": []
     },
     "output_type": "execute_result"
    }
   ],
   "source": [
    "X_train.shape"
   ]
  },
  {
   "cell_type": "code",
   "execution_count": 176,
   "metadata": {
    "colab": {
     "base_uri": "https://localhost:8080/"
    },
    "id": "Vkls4Muz80Ir",
    "outputId": "0778c529-9e96-49c0-f7bb-81bac9465875"
   },
   "outputs": [
    {
     "name": "stdout",
     "output_type": "stream",
     "text": [
      "KNN Training error: 0.08 Test Error: 0.11\n",
      "KNN Training error: 0.08 Test Error: 0.12\n",
      "KNN Training error: 0.07 Test Error: 0.09\n",
      "KNN Training error: 0.08 Test Error: 0.09\n",
      "KNN Training error: 0.09 Test Error: 0.08\n",
      "KNN Training error: 0.08 Test Error: 0.08\n",
      "KNN Training error: 0.08 Test Error: 0.09\n",
      "KNN Training error: 0.09 Test Error: 0.05\n",
      "KNN Training error: 0.07 Test Error: 0.11\n",
      "KNN Training error: 0.07 Test Error: 0.13\n"
     ]
    }
   ],
   "source": [
    "knn = KNeighborsClassifier(n_neighbors=5, metric='minkowski', p=2)\n",
    "for epoch in range(10):\n",
    "  X_train, X_test, y_train, y_test = train_test_split(X, y, test_size=0.33)\n",
    "  knn.fit(X_train, y_train) # fit training data\n",
    "  y_hat_tr = knn.predict(X_train)\n",
    "  err_tr = 1 - accuracy_score(y_train, y_hat_tr)\n",
    "  y_hat_te = knn.predict(X_test)\n",
    "  err_te = 1 - accuracy_score(y_test, y_hat_te)\n",
    "  print(\"KNN Training error: {:.2f} Test Error: {:.2f}\".format(err_tr, err_te))"
   ]
  },
  {
   "cell_type": "code",
   "execution_count": 72,
   "metadata": {
    "colab": {
     "base_uri": "https://localhost:8080/"
    },
    "id": "HhxOxGEx9EZq",
    "outputId": "a761d3aa-36f3-4065-ab96-f00f4aaf9d8f"
   },
   "outputs": [
    {
     "name": "stdout",
     "output_type": "stream",
     "text": [
      " Logistic Regression Training error: 0.17 Test Error: 0.20\n",
      " Logistic Regression Training error: 0.15 Test Error: 0.21\n",
      " Logistic Regression Training error: 0.18 Test Error: 0.17\n",
      " Logistic Regression Training error: 0.19 Test Error: 0.15\n",
      " Logistic Regression Training error: 0.18 Test Error: 0.19\n",
      " Logistic Regression Training error: 0.18 Test Error: 0.23\n",
      " Logistic Regression Training error: 0.18 Test Error: 0.17\n",
      " Logistic Regression Training error: 0.18 Test Error: 0.17\n",
      " Logistic Regression Training error: 0.19 Test Error: 0.20\n",
      " Logistic Regression Training error: 0.19 Test Error: 0.14\n"
     ]
    }
   ],
   "source": [
    "from sklearn.linear_model import LogisticRegression\n",
    "lr = LogisticRegression()\n",
    "\n",
    "for epoch in range(10):\n",
    "  X_train, X_test, y_train, y_test = train_test_split(X, y, test_size=0.33)\n",
    "  lr.fit(X_train, y_train)\n",
    "  y_hat_tr = lr.predict(X_train)\n",
    "  err_tr = 1 - accuracy_score(y_train, y_hat_tr)\n",
    "  y_hat_te = lr.predict(X_test)\n",
    "  err_te = 1 - accuracy_score(y_test, y_hat_te)\n",
    "  print(\" Logistic Regression Training error: {:.2f} Test Error: {:.2f}\".format(err_tr, err_te))"
   ]
  },
  {
   "cell_type": "code",
   "execution_count": 73,
   "metadata": {
    "colab": {
     "base_uri": "https://localhost:8080/"
    },
    "id": "U3g4b8jl_VuZ",
    "outputId": "5f2d70df-a79f-42a1-baab-5b065d1acd5b"
   },
   "outputs": [
    {
     "name": "stdout",
     "output_type": "stream",
     "text": [
      "Decision Tree Classifier Training error: 0.00 Test Error: 0.17\n",
      "Decision Tree Classifier Training error: 0.00 Test Error: 0.15\n",
      "Decision Tree Classifier Training error: 0.00 Test Error: 0.14\n",
      "Decision Tree Classifier Training error: 0.00 Test Error: 0.11\n",
      "Decision Tree Classifier Training error: 0.00 Test Error: 0.19\n",
      "Decision Tree Classifier Training error: 0.00 Test Error: 0.17\n",
      "Decision Tree Classifier Training error: 0.00 Test Error: 0.14\n",
      "Decision Tree Classifier Training error: 0.00 Test Error: 0.21\n",
      "Decision Tree Classifier Training error: 0.00 Test Error: 0.16\n",
      "Decision Tree Classifier Training error: 0.00 Test Error: 0.14\n"
     ]
    }
   ],
   "source": [
    "from sklearn.tree import DecisionTreeClassifier\n",
    "dtc = DecisionTreeClassifier()\n",
    "for epoch in range(10):\n",
    "  X_train, X_test, y_train, y_test = train_test_split(X, y, test_size=0.33)\n",
    "  dtc.fit(X_train, y_train)\n",
    "  y_hat_tr = dtc.predict(X_train)\n",
    "  err_tr = 1 - accuracy_score(y_train, y_hat_tr)\n",
    "  y_hat_te = dtc.predict(X_test)\n",
    "  err_te = 1 - accuracy_score(y_test, y_hat_te)\n",
    "  print(\"Decision Tree Classifier Training error: {:.2f} Test Error: {:.2f}\".format(err_tr, err_te))"
   ]
  },
  {
   "cell_type": "code",
   "execution_count": 74,
   "metadata": {
    "colab": {
     "base_uri": "https://localhost:8080/"
    },
    "id": "1fneJ5HS3hE0",
    "outputId": "916c7634-372e-4770-edd9-37981aeba2ec"
   },
   "outputs": [
    {
     "name": "stdout",
     "output_type": "stream",
     "text": [
      "Gaussain Naive Bayes Training error: 0.12 Test Error: 0.09\n",
      "Gaussain Naive Bayes Training error: 0.10 Test Error: 0.11\n",
      "Gaussain Naive Bayes Training error: 0.13 Test Error: 0.08\n",
      "Gaussain Naive Bayes Training error: 0.11 Test Error: 0.09\n",
      "Gaussain Naive Bayes Training error: 0.10 Test Error: 0.11\n",
      "Gaussain Naive Bayes Training error: 0.11 Test Error: 0.12\n",
      "Gaussain Naive Bayes Training error: 0.11 Test Error: 0.10\n",
      "Gaussain Naive Bayes Training error: 0.12 Test Error: 0.07\n",
      "Gaussain Naive Bayes Training error: 0.10 Test Error: 0.11\n",
      "Gaussain Naive Bayes Training error: 0.12 Test Error: 0.12\n"
     ]
    }
   ],
   "source": [
    "from sklearn.naive_bayes import GaussianNB\n",
    "nb = GaussianNB()\n",
    "for epoch in range(10):\n",
    "  X_train, X_test, y_train, y_test = train_test_split(X, y, test_size=0.33)\n",
    "  nb.fit(X_train, y_train)\n",
    "  y_hat_tr = nb.predict(X_train)\n",
    "  err_tr = 1 - accuracy_score(y_train, y_hat_tr)\n",
    "  y_hat_te = nb.predict(X_test)\n",
    "  err_te = 1 - accuracy_score(y_test, y_hat_te)\n",
    "  print(\"Gaussain Naive Bayes Training error: {:.2f} Test Error: {:.2f}\".format(err_tr, err_te))"
   ]
  },
  {
   "cell_type": "code",
   "execution_count": 90,
   "metadata": {
    "colab": {
     "base_uri": "https://localhost:8080/"
    },
    "id": "NBIeem3SB034",
    "outputId": "bee953ca-b5fd-4807-e24c-b2f8c9a2cd85"
   },
   "outputs": [
    {
     "name": "stdout",
     "output_type": "stream",
     "text": [
      "Support Vector Classifier Training error: 0.17 Test Error: 0.13\n",
      "Support Vector Classifier Training error: 0.16 Test Error: 0.14\n",
      "Support Vector Classifier Training error: 0.13 Test Error: 0.17\n",
      "Support Vector Classifier Training error: 0.16 Test Error: 0.14\n",
      "Support Vector Classifier Training error: 0.15 Test Error: 0.17\n",
      "Support Vector Classifier Training error: 0.15 Test Error: 0.18\n",
      "Support Vector Classifier Training error: 0.13 Test Error: 0.20\n",
      "Support Vector Classifier Training error: 0.18 Test Error: 0.17\n",
      "Support Vector Classifier Training error: 0.17 Test Error: 0.17\n",
      "Support Vector Classifier Training error: 0.16 Test Error: 0.14\n"
     ]
    }
   ],
   "source": [
    "from sklearn.svm import LinearSVC\n",
    "svc = LinearSVC()\n",
    "for epoch in range(10):\n",
    "  X_train, X_test, y_train, y_test = train_test_split(X, y, test_size=0.33)\n",
    "  svc.fit(X_train, y_train)\n",
    "  y_hat_tr = svc.predict(X_train)\n",
    "  err_tr = 1 - accuracy_score(y_train, y_hat_tr)\n",
    "  y_hat_te = svc.predict(X_test)\n",
    "  err_te = 1 - accuracy_score(y_test, y_hat_te)\n",
    "  print(\"Support Vector Classifier Training error: {:.2f} Test Error: {:.2f}\".format(err_tr, err_te))"
   ]
  },
  {
   "cell_type": "code",
   "execution_count": 83,
   "metadata": {
    "colab": {
     "base_uri": "https://localhost:8080/"
    },
    "id": "Wsmp-0_zDdeV",
    "outputId": "9620c31a-8ab4-4949-d6d9-d61d7d32b5cb"
   },
   "outputs": [
    {
     "name": "stdout",
     "output_type": "stream",
     "text": [
      "Random Forest Classifier Training error: 0.00 Test Error: 0.10\n",
      "Random Forest Classifier Training error: 0.00 Test Error: 0.09\n",
      "Random Forest Classifier Training error: 0.00 Test Error: 0.08\n",
      "Random Forest Classifier Training error: 0.00 Test Error: 0.13\n",
      "Random Forest Classifier Training error: 0.00 Test Error: 0.10\n",
      "Random Forest Classifier Training error: 0.00 Test Error: 0.12\n",
      "Random Forest Classifier Training error: 0.00 Test Error: 0.10\n",
      "Random Forest Classifier Training error: 0.00 Test Error: 0.12\n",
      "Random Forest Classifier Training error: 0.00 Test Error: 0.08\n",
      "Random Forest Classifier Training error: 0.00 Test Error: 0.13\n"
     ]
    }
   ],
   "source": [
    "from sklearn.ensemble import RandomForestClassifier\n",
    "rfc = RandomForestClassifier()\n",
    "for epoch in range(10):\n",
    "  X_train, X_test, y_train, y_test = train_test_split(X, y, test_size=0.33)\n",
    "  rfc.fit(X_train, y_train)\n",
    "  y_hat_tr = rfc.predict(X_train)\n",
    "  err_tr = 1 - accuracy_score(y_train, y_hat_tr)\n",
    "  y_hat_te = rfc.predict(X_test)\n",
    "  err_te = 1 - accuracy_score(y_test, y_hat_te)\n",
    "  print(\"Random Forest Classifier Training error: {:.2f} Test Error: {:.2f}\".format(err_tr, err_te))"
   ]
  },
  {
   "cell_type": "markdown",
   "metadata": {
    "id": "V1vDmQRSF3jZ"
   },
   "source": [
    "Summarizing the above results, we have the following observations for one run:\n",
    "<br></br>\n",
    "\n",
    "|#|Classifier Type|Training Error|Test Error|\n",
    "|-:|:-|:-|:-|\n",
    "|1|LogisticRegression|0.19|0.16|\n",
    "|2|KNeighborsClassifier|0.08|0.08|\n",
    "|3|DecisionTreeClassifier|0.0|0.12|\n",
    "|4|GaussianNB|0.11|0.09|\n",
    "|5|LinearSVC|0.17|0.12|\n",
    "|6|RandomForestClassifier|0.00|0.08|\n",
    "\n",
    "As can be seen from the above table, random forest classifier gives the least train and test error rates. This will change on running the above block of codes multiple times. Decsison Tree classifier does well on training data but not on test data"
   ]
  },
  {
   "cell_type": "code",
   "execution_count": null,
   "metadata": {
    "id": "Ev54K1T5M8_Q"
   },
   "outputs": [],
   "source": []
  },
  {
   "cell_type": "code",
   "execution_count": 91,
   "metadata": {
    "colab": {
     "base_uri": "https://localhost:8080/",
     "height": 533
    },
    "id": "Yw8GMWbY7QFQ",
    "outputId": "b4aeb708-b61f-464c-f36c-b6fe826a639c"
   },
   "outputs": [
    {
     "data": {
      "image/png": "[encoded data removed]",
      "text/plain": [
       "<Figure size 600x600 with 1 Axes>"
      ]
     },
     "metadata": {
      "tags": []
     },
     "output_type": "display_data"
    }
   ],
   "source": [
    "X_test2 = X_test.copy()\n",
    "X_test2['result'] = ['Correct' if x else 'Incorrect' for x in (y_hat_te == y_test)]\n",
    "\n",
    "import seaborn as sns\n",
    "fig, ax1 = plt.subplots(figsize=(6,6), dpi=100)\n",
    "sns.scatterplot(data=X_test2, x=\"Age\", y=\"EstimatedSalary\", hue='result')\n",
    "ax1.set_aspect(1.0)"
   ]
  },
  {
   "cell_type": "markdown",
   "metadata": {
    "id": "3GKKOZe4Au3h"
   },
   "source": [
    "# LAB4"
   ]
  },
  {
   "cell_type": "markdown",
   "metadata": {
    "id": "TCgbxfhCM_Bp"
   },
   "source": [
    "## k-fold cross validation using accuracy score"
   ]
  },
  {
   "cell_type": "code",
   "execution_count": 261,
   "metadata": {
    "id": "AQ-vnrbI7A0A"
   },
   "outputs": [],
   "source": [
    "kf = KFold(shuffle=True, random_state=0)"
   ]
  },
  {
   "cell_type": "code",
   "execution_count": 262,
   "metadata": {
    "colab": {
     "base_uri": "https://localhost:8080/"
    },
    "id": "w2leU1mI4CL6",
    "outputId": "9ceaaff7-c39a-4e05-d247-76c02eaff5c0"
   },
   "outputs": [
    {
     "name": "stdout",
     "output_type": "stream",
     "text": [
      "Fold 1: err.train=0.0906, err.test=0.0500\n",
      "Fold 2: err.train=0.0687, err.test=0.1250\n",
      "Fold 3: err.train=0.0781, err.test=0.1125\n",
      "Fold 4: err.train=0.0656, err.test=0.1250\n",
      "Fold 5: err.train=0.0969, err.test=0.0500\n",
      "KNN err_train(avg)=0.0800, err_test(avg)=0.0925\n"
     ]
    }
   ],
   "source": [
    "err_train = []\n",
    "err_test = []\n",
    "for fold, (train_index, test_index) in enumerate(kf.split(X)):\n",
    "    X_train, X_test = X.iloc[train_index], X.iloc[test_index]\n",
    "    y_train, y_test = y.iloc[train_index], y.iloc[test_index]\n",
    "    \n",
    "    knn.fit(X_train, y_train)\n",
    "    \n",
    "    y_hat_tr = knn.predict(X_train)\n",
    "    \n",
    "    err_tr = 1 - accuracy_score(y_train, y_hat_tr)\n",
    "    err_train.append(err_tr)\n",
    "    \n",
    "    y_hat_te = knn.predict(X_test)\n",
    "    \n",
    "    err_te = 1 - accuracy_score(y_test, y_hat_te)\n",
    "    \n",
    "    err_test.append(err_te)\n",
    "    \n",
    "    print('Fold {}: err.train={:0.4f}, err.test={:0.4f}'.format(fold+1, err_tr, err_te))\n",
    "\n",
    "print(\"KNN err_train(avg)={:0.4f}, err_test(avg)={:0.4f}\".format(np.mean(err_train),np.mean(err_test)))"
   ]
  },
  {
   "cell_type": "code",
   "execution_count": 263,
   "metadata": {
    "colab": {
     "base_uri": "https://localhost:8080/"
    },
    "id": "xEbSnAwu8ZOf",
    "outputId": "b629244b-a75d-4957-89d5-af47b18af310"
   },
   "outputs": [
    {
     "name": "stdout",
     "output_type": "stream",
     "text": [
      "Fold 1: err.train=0.2031, err.test=0.0750\n",
      "Fold 2: err.train=0.1687, err.test=0.2625\n",
      "Fold 3: err.train=0.1594, err.test=0.2750\n",
      "Fold 4: err.train=0.1625, err.test=0.1875\n",
      "Fold 5: err.train=0.1969, err.test=0.0750\n",
      " Logistic Regression err_train(avg)=0.1781, err_test(avg)=0.1750\n"
     ]
    }
   ],
   "source": [
    "err_train = []\n",
    "err_test = []\n",
    "for fold, (train_index, test_index) in enumerate(kf.split(X)):\n",
    "    X_train, X_test = X.iloc[train_index], X.iloc[test_index]\n",
    "    y_train, y_test = y.iloc[train_index], y.iloc[test_index]\n",
    "    \n",
    "    lr.fit(X_train, y_train)\n",
    "    \n",
    "    y_hat_tr = lr.predict(X_train)\n",
    "    \n",
    "    err_tr = 1 - accuracy_score(y_train, y_hat_tr)\n",
    "    err_train.append(err_tr)\n",
    "    \n",
    "    y_hat_te = lr.predict(X_test)\n",
    "    \n",
    "    err_te = 1 - accuracy_score(y_test, y_hat_te)\n",
    "    \n",
    "    err_test.append(err_te)\n",
    "    \n",
    "    print('Fold {}: err.train={:0.4f}, err.test={:0.4f}'.format(fold+1, err_tr, err_te))\n",
    "\n",
    "print(\" Logistic Regression err_train(avg)={:0.4f}, err_test(avg)={:0.4f}\".format(np.mean(err_train),np.mean(err_test)))"
   ]
  },
  {
   "cell_type": "code",
   "execution_count": 264,
   "metadata": {
    "colab": {
     "base_uri": "https://localhost:8080/"
    },
    "id": "yAfKrPQq_RTV",
    "outputId": "cbe6afe5-8282-4004-b335-80b5a19611f3"
   },
   "outputs": [
    {
     "name": "stdout",
     "output_type": "stream",
     "text": [
      "Fold 1: err.train=0.0000, err.test=0.1000\n",
      "Fold 2: err.train=0.0031, err.test=0.1750\n",
      "Fold 3: err.train=0.0031, err.test=0.1750\n",
      "Fold 4: err.train=0.0000, err.test=0.1500\n",
      "Fold 5: err.train=0.0031, err.test=0.0750\n",
      "Decision Tree Classifiers err_train(avg)=0.0019, err_test(avg)=0.1350\n"
     ]
    }
   ],
   "source": [
    "err_train = []\n",
    "err_test = []\n",
    "for fold, (train_index, test_index) in enumerate(kf.split(X)):\n",
    "    X_train, X_test = X.iloc[train_index], X.iloc[test_index]\n",
    "    y_train, y_test = y.iloc[train_index], y.iloc[test_index]\n",
    "    \n",
    "    dtc.fit(X_train, y_train)\n",
    "    \n",
    "    y_hat_tr = dtc.predict(X_train)\n",
    "    \n",
    "    err_tr = 1 - accuracy_score(y_train, y_hat_tr)\n",
    "    err_train.append(err_tr)\n",
    "    \n",
    "    y_hat_te = dtc.predict(X_test)\n",
    "    \n",
    "    err_te = 1 - accuracy_score(y_test, y_hat_te)\n",
    "    \n",
    "    err_test.append(err_te)\n",
    "    \n",
    "    print('Fold {}: err.train={:0.4f}, err.test={:0.4f}'.format(fold+1, err_tr, err_te))\n",
    "\n",
    "print(\"Decision Tree Classifiers err_train(avg)={:0.4f}, err_test(avg)={:0.4f}\".format(np.mean(err_train),np.mean(err_test)))"
   ]
  },
  {
   "cell_type": "code",
   "execution_count": 265,
   "metadata": {
    "colab": {
     "base_uri": "https://localhost:8080/"
    },
    "id": "PvPVScJx_crQ",
    "outputId": "f66bda4d-c445-44de-d0e1-4e58f0ea69e8"
   },
   "outputs": [
    {
     "name": "stdout",
     "output_type": "stream",
     "text": [
      "Fold 1: err.train=0.1188, err.test=0.0750\n",
      "Fold 2: err.train=0.0906, err.test=0.1625\n",
      "Fold 3: err.train=0.0906, err.test=0.1875\n",
      "Fold 4: err.train=0.0938, err.test=0.1375\n",
      "Fold 5: err.train=0.1281, err.test=0.0125\n",
      " Naive Bayes err_train(avg)=0.1044, err_test(avg)=0.1150\n"
     ]
    }
   ],
   "source": [
    "err_train = []\n",
    "err_test = []\n",
    "for fold, (train_index, test_index) in enumerate(kf.split(X)):\n",
    "    X_train, X_test = X.iloc[train_index], X.iloc[test_index]\n",
    "    y_train, y_test = y.iloc[train_index], y.iloc[test_index]\n",
    "    \n",
    "    nb.fit(X_train, y_train)\n",
    "    \n",
    "    y_hat_tr = nb.predict(X_train)\n",
    "    \n",
    "    err_tr = 1 - accuracy_score(y_train, y_hat_tr)\n",
    "    err_train.append(err_tr)\n",
    "    \n",
    "    y_hat_te = nb.predict(X_test)\n",
    "    \n",
    "    err_te = 1 - accuracy_score(y_test, y_hat_te)\n",
    "    \n",
    "    err_test.append(err_te)\n",
    "    \n",
    "    print('Fold {}: err.train={:0.4f}, err.test={:0.4f}'.format(fold+1, err_tr, err_te))\n",
    "\n",
    "print(\" Naive Bayes err_train(avg)={:0.4f}, err_test(avg)={:0.4f}\".format(np.mean(err_train),np.mean(err_test)))"
   ]
  },
  {
   "cell_type": "code",
   "execution_count": 266,
   "metadata": {
    "colab": {
     "base_uri": "https://localhost:8080/"
    },
    "id": "aqRv4apwFZKL",
    "outputId": "3ceef6dc-21f0-496b-a391-3d86ae4a9213"
   },
   "outputs": [
    {
     "name": "stdout",
     "output_type": "stream",
     "text": [
      "Fold 1: err.train=0.1719, err.test=0.0750\n",
      "Fold 2: err.train=0.1438, err.test=0.2125\n",
      "Fold 3: err.train=0.1438, err.test=0.2625\n",
      "Fold 4: err.train=0.1344, err.test=0.1875\n",
      "Fold 5: err.train=0.1719, err.test=0.0750\n",
      "SVC err_train(avg)=0.1531, err_test(avg)=0.1625\n"
     ]
    }
   ],
   "source": [
    "err_train = []\n",
    "err_test = []\n",
    "for fold, (train_index, test_index) in enumerate(kf.split(X)):\n",
    "    X_train, X_test = X.iloc[train_index], X.iloc[test_index]\n",
    "    y_train, y_test = y.iloc[train_index], y.iloc[test_index]\n",
    "    \n",
    "    svc.fit(X_train, y_train)\n",
    "    \n",
    "    y_hat_tr = svc.predict(X_train)\n",
    "    \n",
    "    err_tr = 1 - accuracy_score(y_train, y_hat_tr)\n",
    "    err_train.append(err_tr)\n",
    "    \n",
    "    y_hat_te = svc.predict(X_test)\n",
    "    \n",
    "    err_te = 1 - accuracy_score(y_test, y_hat_te)\n",
    "    \n",
    "    err_test.append(err_te)\n",
    "    \n",
    "    print('Fold {}: err.train={:0.4f}, err.test={:0.4f}'.format(fold+1, err_tr, err_te))\n",
    "\n",
    "print(\"SVC err_train(avg)={:0.4f}, err_test(avg)={:0.4f}\".format(np.mean(err_train),np.mean(err_test)))"
   ]
  },
  {
   "cell_type": "code",
   "execution_count": 267,
   "metadata": {
    "colab": {
     "base_uri": "https://localhost:8080/"
    },
    "id": "Cgq5zldDLvcu",
    "outputId": "e623c3a7-8c7a-4f32-e288-51da2dfeb7e4"
   },
   "outputs": [
    {
     "name": "stdout",
     "output_type": "stream",
     "text": [
      "Fold 1: err.train=0.0000, err.test=0.0750\n",
      "Fold 2: err.train=0.0031, err.test=0.1375\n",
      "Fold 3: err.train=0.0031, err.test=0.1250\n",
      "Fold 4: err.train=0.0000, err.test=0.1375\n",
      "Fold 5: err.train=0.0031, err.test=0.0750\n",
      " Random Forest Classifier err_train(avg)=0.0019, err_test(avg)=0.1100\n"
     ]
    }
   ],
   "source": [
    "err_train = []\n",
    "err_test = []\n",
    "for fold, (train_index, test_index) in enumerate(kf.split(X)):\n",
    "    X_train, X_test = X.iloc[train_index], X.iloc[test_index]\n",
    "    y_train, y_test = y.iloc[train_index], y.iloc[test_index]\n",
    "    \n",
    "    rfc.fit(X_train, y_train)\n",
    "    \n",
    "    y_hat_tr = rfc.predict(X_train)\n",
    "    \n",
    "    err_tr = 1 - accuracy_score(y_train, y_hat_tr)\n",
    "    err_train.append(err_tr)\n",
    "    \n",
    "    y_hat_te = rfc.predict(X_test)\n",
    "    \n",
    "    err_te = 1 - accuracy_score(y_test, y_hat_te)\n",
    "    \n",
    "    err_test.append(err_te)\n",
    "    \n",
    "    print('Fold {}: err.train={:0.4f}, err.test={:0.4f}'.format(fold+1, err_tr, err_te))\n",
    "\n",
    "print(\" Random Forest Classifier err_train(avg)={:0.4f}, err_test(avg)={:0.4f}\".format(np.mean(err_train),np.mean(err_test)))"
   ]
  },
  {
   "cell_type": "markdown",
   "metadata": {
    "id": "bISp8BeHMOhh"
   },
   "source": [
    "As can be seen from the above results, the test error changes every fold. This can be attributed to the fact that the classifier sees different sets of inputs every run.\n",
    "\n",
    "During our Lab 3 work, we saw that running train test split multiple times reulted in different test error rates on every run. Now we see that the average test error rate / generalization error does not change on running k folds multiple times. So k folds is a better way to estimate the performace of a classifier. \n",
    "\n",
    "Summarizing the above results, we have the following generalization errors using the accuracy score measure on 5 fold runs:\n",
    "<br></br>\n",
    "\n",
    "|#|Classifier Type|1-run Train Err|1-run Test Err|5-fold Train Err| 5-fold Test err|\n",
    "|-:|:-|:-|:-|:-|:-|\n",
    "|1|LogisticRegression|0.19|0.16|0.17|0.18\n",
    "|2|KNeighborsClassifier|0.08|0.08|0.08|0.09\n",
    "|3|DecisionTreeClassifier|0.00|0.12|0.00|0.14\n",
    "|4|GaussianNB|0.11|0.09|0.10|0.11\n",
    "|5|LinearSVC|0.17|0.12|0.15|0.16\n",
    "|6|RandomForestClassifier|0.00|0.08|0.00|0.11|\n",
    "\n",
    "As can be seen from the above table, KNN classifier gives the least test error rates on multiple test runs. We saw that RFC was also giving low test error rate but on multiple runs its changing.\n",
    "\n",
    "We also see that logistic regression and linear SVC classifiers have a higher training and test error rates. These classifiers underfit the data.\n",
    "\n",
    "Even though Random Forest Classifier and Decision tree classifiers do well on training data they dont generalize well to test data. They thus over fit the data."
   ]
  },
  {
   "cell_type": "markdown",
   "metadata": {
    "id": "DEw77sOdO4cT"
   },
   "source": [
    "## k-folds cross validation using F1 measure\n"
   ]
  },
  {
   "cell_type": "code",
   "execution_count": 268,
   "metadata": {
    "colab": {
     "base_uri": "https://localhost:8080/"
    },
    "id": "SnMQ1-bBTTUw",
    "outputId": "1e242180-2c2f-4416-d271-3e0b65a4d26e"
   },
   "outputs": [
    {
     "name": "stdout",
     "output_type": "stream",
     "text": [
      "Fold 1: f1.train=0.88, f1.test=0.91\n",
      "Fold 2: f1.train=0.90, f1.test=0.86\n",
      "Fold 3: f1.train=0.89, f1.test=0.86\n",
      "Fold 4: f1.train=0.91, f1.test=0.83\n",
      "Fold 5: f1.train=0.87, f1.test=0.92\n",
      "KNN f1_train(avg)=0.89, f1_test(avg)=0.88\n"
     ]
    }
   ],
   "source": [
    "f1_train = []\n",
    "f1_test = []\n",
    "for fold, (train_index, test_index) in enumerate(kf.split(X)):\n",
    "    X_train, X_test = X.iloc[train_index], X.iloc[test_index]\n",
    "    y_train, y_test = y.iloc[train_index], y.iloc[test_index]\n",
    "    \n",
    "    knn.fit(X_train, y_train)\n",
    "    \n",
    "    y_hat_tr = knn.predict(X_train)\n",
    "    \n",
    "    f1_tr = f1_score(y_train, y_hat_tr)\n",
    "    f1_train.append(f1_tr)\n",
    "    \n",
    "    y_hat_te = knn.predict(X_test)\n",
    "    \n",
    "    f1_te = f1_score(y_test, y_hat_te)\n",
    "    \n",
    "    f1_test.append(f1_te)\n",
    "    \n",
    "    print('Fold {}: f1.train={:0.2f}, f1.test={:0.2f}'.format(fold+1, f1_tr, f1_te))\n",
    "\n",
    "print(\"KNN f1_train(avg)={:0.2f}, f1_test(avg)={:0.2f}\".format(np.mean(f1_train),np.mean(f1_test)))"
   ]
  },
  {
   "cell_type": "code",
   "execution_count": 269,
   "metadata": {
    "colab": {
     "base_uri": "https://localhost:8080/"
    },
    "id": "qRTmM8XeTTVA",
    "outputId": "fc0cec37-23e3-4142-9e62-5e44e3737ed4"
   },
   "outputs": [
    {
     "name": "stdout",
     "output_type": "stream",
     "text": [
      "Fold 1: f1.train=0.69, f1.test=0.84\n",
      "Fold 2: f1.train=0.70, f1.test=0.66\n",
      "Fold 3: f1.train=0.73, f1.test=0.58\n",
      "Fold 4: f1.train=0.74, f1.test=0.69\n",
      "Fold 5: f1.train=0.69, f1.test=0.86\n",
      "Logistic Regression f1_train(avg)=0.71, f1_test(avg)=0.73\n"
     ]
    }
   ],
   "source": [
    "f1_train = []\n",
    "f1_test = []\n",
    "for fold, (train_index, test_index) in enumerate(kf.split(X)):\n",
    "    X_train, X_test = X.iloc[train_index], X.iloc[test_index]\n",
    "    y_train, y_test = y.iloc[train_index], y.iloc[test_index]\n",
    "    \n",
    "    lr.fit(X_train, y_train)\n",
    "    \n",
    "    y_hat_tr = lr.predict(X_train)\n",
    "    \n",
    "    f1_tr = f1_score(y_train, y_hat_tr)\n",
    "    f1_train.append(f1_tr)\n",
    "    \n",
    "    y_hat_te = lr.predict(X_test)\n",
    "    \n",
    "    f1_te = f1_score(y_test, y_hat_te)\n",
    "    \n",
    "    f1_test.append(f1_te)\n",
    "    \n",
    "    print('Fold {}: f1.train={:0.2f}, f1.test={:0.2f}'.format(fold+1, f1_tr, f1_te))\n",
    "\n",
    "print(\"Logistic Regression f1_train(avg)={:0.2f}, f1_test(avg)={:0.2f}\".format(np.mean(f1_train),np.mean(f1_test)))"
   ]
  },
  {
   "cell_type": "code",
   "execution_count": 270,
   "metadata": {
    "colab": {
     "base_uri": "https://localhost:8080/"
    },
    "id": "1Y7dIk5JTTVB",
    "outputId": "2590e590-59b4-4ec8-a145-0ce8d9dbc545"
   },
   "outputs": [
    {
     "name": "stdout",
     "output_type": "stream",
     "text": [
      "Fold 1: f1.train=1.00, f1.test=0.84\n",
      "Fold 2: f1.train=1.00, f1.test=0.82\n",
      "Fold 3: f1.train=1.00, f1.test=0.72\n",
      "Fold 4: f1.train=1.00, f1.test=0.77\n",
      "Fold 5: f1.train=1.00, f1.test=0.84\n",
      "Decision Tree Classifier f1_train(avg)=1.00, f1_test(avg)=0.80\n"
     ]
    }
   ],
   "source": [
    "f1_train = []\n",
    "f1_test = []\n",
    "for fold, (train_index, test_index) in enumerate(kf.split(X)):\n",
    "    X_train, X_test = X.iloc[train_index], X.iloc[test_index]\n",
    "    y_train, y_test = y.iloc[train_index], y.iloc[test_index]\n",
    "    \n",
    "    dtc.fit(X_train, y_train)\n",
    "    \n",
    "    y_hat_tr = dtc.predict(X_train)\n",
    "    \n",
    "    f1_tr = f1_score(y_train, y_hat_tr)\n",
    "    f1_train.append(f1_tr)\n",
    "    \n",
    "    y_hat_te = dtc.predict(X_test)\n",
    "    \n",
    "    f1_te = f1_score(y_test, y_hat_te)\n",
    "    \n",
    "    f1_test.append(f1_te)\n",
    "    \n",
    "    print('Fold {}: f1.train={:0.2f}, f1.test={:0.2f}'.format(fold+1, f1_tr, f1_te))\n",
    "\n",
    "print(\"Decision Tree Classifier f1_train(avg)={:0.2f}, f1_test(avg)={:0.2f}\".format(np.mean(f1_train),np.mean(f1_test)))"
   ]
  },
  {
   "cell_type": "code",
   "execution_count": 271,
   "metadata": {
    "colab": {
     "base_uri": "https://localhost:8080/"
    },
    "id": "W7Bl9bcFTTVB",
    "outputId": "74136d07-3078-417f-ad0b-8d55440bd802"
   },
   "outputs": [
    {
     "name": "stdout",
     "output_type": "stream",
     "text": [
      "Fold 1: f1.train=0.84, f1.test=0.86\n",
      "Fold 2: f1.train=0.86, f1.test=0.82\n",
      "Fold 3: f1.train=0.86, f1.test=0.75\n",
      "Fold 4: f1.train=0.87, f1.test=0.81\n",
      "Fold 5: f1.train=0.82, f1.test=0.98\n",
      "Naive Bayes f1_train(avg)=0.85, f1_test(avg)=0.84\n"
     ]
    }
   ],
   "source": [
    "f1_train = []\n",
    "f1_test = []\n",
    "for fold, (train_index, test_index) in enumerate(kf.split(X)):\n",
    "    X_train, X_test = X.iloc[train_index], X.iloc[test_index]\n",
    "    y_train, y_test = y.iloc[train_index], y.iloc[test_index]\n",
    "    \n",
    "    nb.fit(X_train, y_train)\n",
    "    \n",
    "    y_hat_tr = nb.predict(X_train)\n",
    "    \n",
    "    f1_tr = f1_score(y_train, y_hat_tr)\n",
    "    f1_train.append(f1_tr)\n",
    "    \n",
    "    y_hat_te = nb.predict(X_test)\n",
    "    \n",
    "    f1_te = f1_score(y_test, y_hat_te)\n",
    "    \n",
    "    f1_test.append(f1_te)\n",
    "    \n",
    "    print('Fold {}: f1.train={:0.2f}, f1.test={:0.2f}'.format(fold+1, f1_tr, f1_te))\n",
    "\n",
    "print(\"Naive Bayes f1_train(avg)={:0.2f}, f1_test(avg)={:0.2f}\".format(np.mean(f1_train),np.mean(f1_test)))"
   ]
  },
  {
   "cell_type": "code",
   "execution_count": 272,
   "metadata": {
    "colab": {
     "base_uri": "https://localhost:8080/"
    },
    "id": "KMRcEiAvTTVC",
    "outputId": "f66d330d-b064-4616-dd75-f246c389442b"
   },
   "outputs": [
    {
     "name": "stdout",
     "output_type": "stream",
     "text": [
      "Fold 1: f1.train=0.75, f1.test=0.85\n",
      "Fold 2: f1.train=0.76, f1.test=0.75\n",
      "Fold 3: f1.train=0.77, f1.test=0.62\n",
      "Fold 4: f1.train=0.80, f1.test=0.69\n",
      "Fold 5: f1.train=0.75, f1.test=0.86\n",
      "SVC f1_train(avg)=0.76, f1_test(avg)=0.76\n"
     ]
    }
   ],
   "source": [
    "f1_train = []\n",
    "f1_test = []\n",
    "for fold, (train_index, test_index) in enumerate(kf.split(X)):\n",
    "    X_train, X_test = X.iloc[train_index], X.iloc[test_index]\n",
    "    y_train, y_test = y.iloc[train_index], y.iloc[test_index]\n",
    "    \n",
    "    svc.fit(X_train, y_train)\n",
    "    \n",
    "    y_hat_tr = svc.predict(X_train)\n",
    "    \n",
    "    f1_tr = f1_score(y_train, y_hat_tr)\n",
    "    f1_train.append(f1_tr)\n",
    "    \n",
    "    y_hat_te = svc.predict(X_test)\n",
    "    \n",
    "    f1_te = f1_score(y_test, y_hat_te)\n",
    "    \n",
    "    f1_test.append(f1_te)\n",
    "    \n",
    "    print('Fold {}: f1.train={:0.2f}, f1.test={:0.2f}'.format(fold+1, f1_tr, f1_te))\n",
    "\n",
    "print(\"SVC f1_train(avg)={:0.2f}, f1_test(avg)={:0.2f}\".format(np.mean(f1_train),np.mean(f1_test)))"
   ]
  },
  {
   "cell_type": "code",
   "execution_count": 273,
   "metadata": {
    "colab": {
     "base_uri": "https://localhost:8080/"
    },
    "id": "gOLzCuGSTTVD",
    "outputId": "1293d989-8345-4d55-ea66-e814dcb6ef79"
   },
   "outputs": [
    {
     "name": "stdout",
     "output_type": "stream",
     "text": [
      "Fold 1: f1.train=1.00, f1.test=0.87\n",
      "Fold 2: f1.train=1.00, f1.test=0.85\n",
      "Fold 3: f1.train=1.00, f1.test=0.85\n",
      "Fold 4: f1.train=1.00, f1.test=0.81\n",
      "Fold 5: f1.train=1.00, f1.test=0.94\n",
      "Random Forest Classifier f1_train(avg)=1.00, f1_test(avg)=0.86\n"
     ]
    }
   ],
   "source": [
    "f1_train = []\n",
    "f1_test = []\n",
    "for fold, (train_index, test_index) in enumerate(kf.split(X)):\n",
    "    X_train, X_test = X.iloc[train_index], X.iloc[test_index]\n",
    "    y_train, y_test = y.iloc[train_index], y.iloc[test_index]\n",
    "    \n",
    "    rfc.fit(X_train, y_train)\n",
    "    \n",
    "    y_hat_tr = rfc.predict(X_train)\n",
    "    \n",
    "    f1_tr = f1_score(y_train, y_hat_tr)\n",
    "    f1_train.append(f1_tr)\n",
    "    \n",
    "    y_hat_te = rfc.predict(X_test)\n",
    "    \n",
    "    f1_te = f1_score(y_test, y_hat_te)\n",
    "    \n",
    "    f1_test.append(f1_te)\n",
    "    \n",
    "    print('Fold {}: f1.train={:0.2f}, f1.test={:0.2f}'.format(fold+1, f1_tr, f1_te))\n",
    "\n",
    "print(\"Random Forest Classifier f1_train(avg)={:0.2f}, f1_test(avg)={:0.2f}\".format(np.mean(f1_train),np.mean(f1_test)))"
   ]
  },
  {
   "cell_type": "code",
   "execution_count": 275,
   "metadata": {
    "id": "piSmX9Rs2C-_"
   },
   "outputs": [],
   "source": [
    "kf = KFold(n_splits = 10, shuffle=True, random_state=0)"
   ]
  },
  {
   "cell_type": "code",
   "execution_count": 276,
   "metadata": {
    "colab": {
     "base_uri": "https://localhost:8080/"
    },
    "id": "K44yxmyA2PmB",
    "outputId": "cb6678ba-1122-4a50-ba58-1fd698d393f3"
   },
   "outputs": [
    {
     "name": "stdout",
     "output_type": "stream",
     "text": [
      "Fold 1: f1.train=1.00, f1.test=0.82\n",
      "Fold 2: f1.train=1.00, f1.test=0.90\n",
      "Fold 3: f1.train=1.00, f1.test=0.86\n",
      "Fold 4: f1.train=1.00, f1.test=0.86\n",
      "Fold 5: f1.train=1.00, f1.test=0.76\n",
      "Fold 6: f1.train=1.00, f1.test=0.94\n",
      "Fold 7: f1.train=1.00, f1.test=0.73\n",
      "Fold 8: f1.train=1.00, f1.test=0.85\n",
      "Fold 9: f1.train=1.00, f1.test=0.92\n",
      "Fold 10: f1.train=1.00, f1.test=0.96\n",
      "Random Forest Classifier f1_train(avg)=1.00, f1_test(avg)=0.86\n"
     ]
    }
   ],
   "source": [
    "f1_train = []\n",
    "f1_test = []\n",
    "for fold, (train_index, test_index) in enumerate(kf.split(X)):\n",
    "    X_train, X_test = X.iloc[train_index], X.iloc[test_index]\n",
    "    y_train, y_test = y.iloc[train_index], y.iloc[test_index]\n",
    "    \n",
    "    rfc.fit(X_train, y_train)\n",
    "    \n",
    "    y_hat_tr = rfc.predict(X_train)\n",
    "    \n",
    "    f1_tr = f1_score(y_train, y_hat_tr)\n",
    "    f1_train.append(f1_tr)\n",
    "    \n",
    "    y_hat_te = rfc.predict(X_test)\n",
    "    \n",
    "    f1_te = f1_score(y_test, y_hat_te)\n",
    "    \n",
    "    f1_test.append(f1_te)\n",
    "    \n",
    "    print('Fold {}: f1.train={:0.2f}, f1.test={:0.2f}'.format(fold+1, f1_tr, f1_te))\n",
    "\n",
    "print(\"Random Forest Classifier f1_train(avg)={:0.2f}, f1_test(avg)={:0.2f}\".format(np.mean(f1_train),np.mean(f1_test)))"
   ]
  },
  {
   "cell_type": "code",
   "execution_count": 277,
   "metadata": {
    "colab": {
     "base_uri": "https://localhost:8080/"
    },
    "id": "pfU4_xnf2cRl",
    "outputId": "d324a7a9-b6b9-42dc-cd02-037bdd2697aa"
   },
   "outputs": [
    {
     "name": "stdout",
     "output_type": "stream",
     "text": [
      "Fold 1: f1.train=0.89, f1.test=0.82\n",
      "Fold 2: f1.train=0.88, f1.test=0.97\n",
      "Fold 3: f1.train=0.89, f1.test=0.84\n",
      "Fold 4: f1.train=0.89, f1.test=0.89\n",
      "Fold 5: f1.train=0.89, f1.test=0.85\n",
      "Fold 6: f1.train=0.88, f1.test=0.91\n",
      "Fold 7: f1.train=0.90, f1.test=0.81\n",
      "Fold 8: f1.train=0.89, f1.test=0.85\n",
      "Fold 9: f1.train=0.87, f1.test=0.96\n",
      "Fold 10: f1.train=0.88, f1.test=0.92\n",
      "KNN f1_train(avg)=0.89, f1_test(avg)=0.88\n"
     ]
    }
   ],
   "source": [
    "f1_train = []\n",
    "f1_test = []\n",
    "for fold, (train_index, test_index) in enumerate(kf.split(X)):\n",
    "    X_train, X_test = X.iloc[train_index], X.iloc[test_index]\n",
    "    y_train, y_test = y.iloc[train_index], y.iloc[test_index]\n",
    "    \n",
    "    knn.fit(X_train, y_train)\n",
    "    \n",
    "    y_hat_tr = knn.predict(X_train)\n",
    "    \n",
    "    f1_tr = f1_score(y_train, y_hat_tr)\n",
    "    f1_train.append(f1_tr)\n",
    "    \n",
    "    y_hat_te = knn.predict(X_test)\n",
    "    \n",
    "    f1_te = f1_score(y_test, y_hat_te)\n",
    "    \n",
    "    f1_test.append(f1_te)\n",
    "    \n",
    "    print('Fold {}: f1.train={:0.2f}, f1.test={:0.2f}'.format(fold+1, f1_tr, f1_te))\n",
    "\n",
    "print(\"KNN f1_train(avg)={:0.2f}, f1_test(avg)={:0.2f}\".format(np.mean(f1_train),np.mean(f1_test)))"
   ]
  },
  {
   "cell_type": "markdown",
   "metadata": {
    "id": "1NrPfC4PTTVE"
   },
   "source": [
    "Running k fold test above and measuring the performance of the classifiers using f1 score as the measure has resulted in similar performance as that of k fold with accuracy score. \n",
    "\n",
    "\n",
    "Summarizing the above results, we have the following observations:\n",
    "<br></br>\n",
    "\n",
    "|#|Classifier Type|1-run Train Err|1-run Test Err|5-fold Train Err| 5-fold Test err|5-fold Train F1|5-fold Test F1|\n",
    "|-:|:-|:-|:-|:-|:-|:-|:-|\n",
    "|1|LogisticRegression|0.19|0.16|0.17|0.18|0.71|0.73\n",
    "|2|KNeighborsClassifier|0.08|0.08|0.08|0.09|0.89|0.88\n",
    "|3|DecisionTreeClassifier|0.00|0.12|0.00|0.14|1.00|0.81\n",
    "|4|GaussianNB|0.11|0.09|0.10|0.11|0.85|0.84\n",
    "|5|LinearSVC|0.17|0.12|0.15|0.16 |0.76|0.76\n",
    "|6|RandomForestClassifier|0.00|0.08|0.00|0.11|1.00|0.86\n",
    "\n",
    "Firsty, the one run train and test error rates change every run, so we cannot draw any conclusion on the classifier performance from there.\n",
    "\n",
    "As mentioned in the previous section, KNN and GaussianNB sclassifiers have ideal training and test error rates with no underfitting or overfitting issues. Since KNN has the least test error rates, we consider it the best classifier based on the accuracy score (or error rate).\n",
    "\n",
    "F1 scores take into account the number of false positives and false negatives. \n",
    "\n",
    "Comparing the F1 scores of the various classifiers we see that logistic regression and Linear SVC, have low F1 scores compared to the other classifiers. This means that the model has less precision and recall values. Hence its performance is poor.\n",
    "\n",
    "We also see that Decision Tree classifier and Random Forest Classifier has the perfect F1 score on training data, which means that there are no False Postives or False Negatives. This classifier is fitting the training data quite well but the Decision Tree Classifier does not generalize well on the test data.\n",
    "\n",
    "KNN and GaussianNB classifiers have ideal training and test F1 scores with no underfitting or overfitting issues. But KNN classifier has the highest test F1 score and hence we chose this as the best performing classifier.\n",
    "\n",
    "KNN classifier also has the least test error rate and highest F1 score, so it is the best classifier to use\n",
    "\n",
    "---\n",
    "\n",
    "**Similar performance of Classifiers with different metrics**\n",
    "\n",
    "We have noticied that the classifiers are performing similarly when we use the accuracy score measure and when we use the F1 score measure. This can be attributed to the fact that we do not have a class imbalance problem in our dataset. From our previous analysis we know that 64% of the buyers didnt purchase the product and 36% of them did. So we see that we dont have dominating postive classes or dominating negative classes. Hence the F1 score metric should behave the same across classifiers as the accuracy score metric \n"
   ]
  },
  {
   "cell_type": "code",
   "execution_count": 273,
   "metadata": {
    "id": "kgbg4rDLnXjR"
   },
   "outputs": [],
   "source": []
  }
 ],
 "metadata": {
  "colab": {
   "collapsed_sections": [],
   "name": "kekuda_1_lab4.ipynb",
   "provenance": []
  },
  "kernelspec": {
   "display_name": "Python 3",
   "language": "python",
   "name": "python3"
  },
  "language_info": {
   "codemirror_mode": {
    "name": "ipython",
    "version": 3
   },
   "file_extension": ".py",
   "mimetype": "text/x-python",
   "name": "python",
   "nbconvert_exporter": "python",
   "pygments_lexer": "ipython3",
   "version": "3.7.4"
  }
 },
 "nbformat": 4,
 "nbformat_minor": 1
}
