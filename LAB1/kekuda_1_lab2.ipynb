{
 "cells": [
  {
   "cell_type": "markdown",
   "metadata": {},
   "source": [
    "# Exploratory Data Analysis"
   ]
  },
  {
   "cell_type": "markdown",
   "metadata": {},
   "source": [
    "Name: Akshay Kekuda"
   ]
  },
  {
   "cell_type": "markdown",
   "metadata": {},
   "source": [
    "# LAB1 "
   ]
  },
  {
   "cell_type": "markdown",
   "metadata": {},
   "source": [
    "## Requirement 1"
   ]
  },
  {
   "cell_type": "markdown",
   "metadata": {},
   "source": [
    "The data is about the representation of women and transgenders in comics. Theere are two data sets. One from Marvel and other from DC. Both datasets have a set of attributes associated with them. The rows of the data set are comic book characters. Each character has a id, name and url unique to it. Then certain categorical atrributes are specified for these characters. We need to do an analysis between DC and Marvel set to determine which one has more gender descrimination. And the difeerences between the two data.\n",
    "\n",
    "The article mentions that in recent years there has been some efforsts to include women in comic books. THere has alos been a steady rise in comic book fans which are female. "
   ]
  },
  {
   "cell_type": "code",
   "execution_count": 1,
   "metadata": {},
   "outputs": [],
   "source": [
    "import pandas as pd\n",
    "import numpy as np\n",
    "import matplotlib.pyplot as plt\n",
    "%matplotlib inline\n",
    "import seaborn as sns"
   ]
  },
  {
   "cell_type": "code",
   "execution_count": 2,
   "metadata": {},
   "outputs": [],
   "source": [
    "#Using wget from github server converts the file to html. So I am using the downloaded file stored in /data\n",
    "\n",
    "# !wget -nc -P data https://github.com/fivethirtyeight/data/blob/master/comic-characters/dc-wikia-data.csv\n",
    "# !wget -nc -P data https://github.com/fivethirtyeight/data/blob/master/comic-characters/marvel-wikia-data.csv"
   ]
  },
  {
   "cell_type": "code",
   "execution_count": 3,
   "metadata": {},
   "outputs": [],
   "source": [
    "df1 = pd.read_csv('data/dc-wikia-data.csv')\n",
    "df2 = pd.read_csv('data/marvel-wikia-data.csv')"
   ]
  },
  {
   "cell_type": "code",
   "execution_count": 4,
   "metadata": {},
   "outputs": [
    {
     "data": {
      "text/html": [
       "<div>\n",
       "<style scoped>\n",
       "    .dataframe tbody tr th:only-of-type {\n",
       "        vertical-align: middle;\n",
       "    }\n",
       "\n",
       "    .dataframe tbody tr th {\n",
       "        vertical-align: top;\n",
       "    }\n",
       "\n",
       "    .dataframe thead th {\n",
       "        text-align: right;\n",
       "    }\n",
       "</style>\n",
       "<table border=\"1\" class=\"dataframe\">\n",
       "  <thead>\n",
       "    <tr style=\"text-align: right;\">\n",
       "      <th></th>\n",
       "      <th>page_id</th>\n",
       "      <th>name</th>\n",
       "      <th>urlslug</th>\n",
       "      <th>ID</th>\n",
       "      <th>ALIGN</th>\n",
       "      <th>EYE</th>\n",
       "      <th>HAIR</th>\n",
       "      <th>SEX</th>\n",
       "      <th>GSM</th>\n",
       "      <th>ALIVE</th>\n",
       "      <th>APPEARANCES</th>\n",
       "      <th>FIRST APPEARANCE</th>\n",
       "      <th>YEAR</th>\n",
       "    </tr>\n",
       "  </thead>\n",
       "  <tbody>\n",
       "    <tr>\n",
       "      <td>0</td>\n",
       "      <td>1422</td>\n",
       "      <td>Batman (Bruce Wayne)</td>\n",
       "      <td>\\/wiki\\/Batman_(Bruce_Wayne)</td>\n",
       "      <td>Secret Identity</td>\n",
       "      <td>Good Characters</td>\n",
       "      <td>Blue Eyes</td>\n",
       "      <td>Black Hair</td>\n",
       "      <td>Male Characters</td>\n",
       "      <td>NaN</td>\n",
       "      <td>Living Characters</td>\n",
       "      <td>3093.0</td>\n",
       "      <td>1939, May</td>\n",
       "      <td>1939.0</td>\n",
       "    </tr>\n",
       "    <tr>\n",
       "      <td>1</td>\n",
       "      <td>23387</td>\n",
       "      <td>Superman (Clark Kent)</td>\n",
       "      <td>\\/wiki\\/Superman_(Clark_Kent)</td>\n",
       "      <td>Secret Identity</td>\n",
       "      <td>Good Characters</td>\n",
       "      <td>Blue Eyes</td>\n",
       "      <td>Black Hair</td>\n",
       "      <td>Male Characters</td>\n",
       "      <td>NaN</td>\n",
       "      <td>Living Characters</td>\n",
       "      <td>2496.0</td>\n",
       "      <td>1986, October</td>\n",
       "      <td>1986.0</td>\n",
       "    </tr>\n",
       "    <tr>\n",
       "      <td>2</td>\n",
       "      <td>1458</td>\n",
       "      <td>Green Lantern (Hal Jordan)</td>\n",
       "      <td>\\/wiki\\/Green_Lantern_(Hal_Jordan)</td>\n",
       "      <td>Secret Identity</td>\n",
       "      <td>Good Characters</td>\n",
       "      <td>Brown Eyes</td>\n",
       "      <td>Brown Hair</td>\n",
       "      <td>Male Characters</td>\n",
       "      <td>NaN</td>\n",
       "      <td>Living Characters</td>\n",
       "      <td>1565.0</td>\n",
       "      <td>1959, October</td>\n",
       "      <td>1959.0</td>\n",
       "    </tr>\n",
       "    <tr>\n",
       "      <td>3</td>\n",
       "      <td>1659</td>\n",
       "      <td>James Gordon (New Earth)</td>\n",
       "      <td>\\/wiki\\/James_Gordon_(New_Earth)</td>\n",
       "      <td>Public Identity</td>\n",
       "      <td>Good Characters</td>\n",
       "      <td>Brown Eyes</td>\n",
       "      <td>White Hair</td>\n",
       "      <td>Male Characters</td>\n",
       "      <td>NaN</td>\n",
       "      <td>Living Characters</td>\n",
       "      <td>1316.0</td>\n",
       "      <td>1987, February</td>\n",
       "      <td>1987.0</td>\n",
       "    </tr>\n",
       "    <tr>\n",
       "      <td>4</td>\n",
       "      <td>1576</td>\n",
       "      <td>Richard Grayson (New Earth)</td>\n",
       "      <td>\\/wiki\\/Richard_Grayson_(New_Earth)</td>\n",
       "      <td>Secret Identity</td>\n",
       "      <td>Good Characters</td>\n",
       "      <td>Blue Eyes</td>\n",
       "      <td>Black Hair</td>\n",
       "      <td>Male Characters</td>\n",
       "      <td>NaN</td>\n",
       "      <td>Living Characters</td>\n",
       "      <td>1237.0</td>\n",
       "      <td>1940, April</td>\n",
       "      <td>1940.0</td>\n",
       "    </tr>\n",
       "    <tr>\n",
       "      <td>5</td>\n",
       "      <td>1448</td>\n",
       "      <td>Wonder Woman (Diana Prince)</td>\n",
       "      <td>\\/wiki\\/Wonder_Woman_(Diana_Prince)</td>\n",
       "      <td>Public Identity</td>\n",
       "      <td>Good Characters</td>\n",
       "      <td>Blue Eyes</td>\n",
       "      <td>Black Hair</td>\n",
       "      <td>Female Characters</td>\n",
       "      <td>NaN</td>\n",
       "      <td>Living Characters</td>\n",
       "      <td>1231.0</td>\n",
       "      <td>1941, December</td>\n",
       "      <td>1941.0</td>\n",
       "    </tr>\n",
       "    <tr>\n",
       "      <td>6</td>\n",
       "      <td>1486</td>\n",
       "      <td>Aquaman (Arthur Curry)</td>\n",
       "      <td>\\/wiki\\/Aquaman_(Arthur_Curry)</td>\n",
       "      <td>Public Identity</td>\n",
       "      <td>Good Characters</td>\n",
       "      <td>Blue Eyes</td>\n",
       "      <td>Blond Hair</td>\n",
       "      <td>Male Characters</td>\n",
       "      <td>NaN</td>\n",
       "      <td>Living Characters</td>\n",
       "      <td>1121.0</td>\n",
       "      <td>1941, November</td>\n",
       "      <td>1941.0</td>\n",
       "    </tr>\n",
       "    <tr>\n",
       "      <td>7</td>\n",
       "      <td>1451</td>\n",
       "      <td>Timothy Drake (New Earth)</td>\n",
       "      <td>\\/wiki\\/Timothy_Drake_(New_Earth)</td>\n",
       "      <td>Secret Identity</td>\n",
       "      <td>Good Characters</td>\n",
       "      <td>Blue Eyes</td>\n",
       "      <td>Black Hair</td>\n",
       "      <td>Male Characters</td>\n",
       "      <td>NaN</td>\n",
       "      <td>Living Characters</td>\n",
       "      <td>1095.0</td>\n",
       "      <td>1989, August</td>\n",
       "      <td>1989.0</td>\n",
       "    </tr>\n",
       "    <tr>\n",
       "      <td>8</td>\n",
       "      <td>71760</td>\n",
       "      <td>Dinah Laurel Lance (New Earth)</td>\n",
       "      <td>\\/wiki\\/Dinah_Laurel_Lance_(New_Earth)</td>\n",
       "      <td>Public Identity</td>\n",
       "      <td>Good Characters</td>\n",
       "      <td>Blue Eyes</td>\n",
       "      <td>Blond Hair</td>\n",
       "      <td>Female Characters</td>\n",
       "      <td>NaN</td>\n",
       "      <td>Living Characters</td>\n",
       "      <td>1075.0</td>\n",
       "      <td>1969, November</td>\n",
       "      <td>1969.0</td>\n",
       "    </tr>\n",
       "    <tr>\n",
       "      <td>9</td>\n",
       "      <td>1380</td>\n",
       "      <td>Flash (Barry Allen)</td>\n",
       "      <td>\\/wiki\\/Flash_(Barry_Allen)</td>\n",
       "      <td>Secret Identity</td>\n",
       "      <td>Good Characters</td>\n",
       "      <td>Blue Eyes</td>\n",
       "      <td>Blond Hair</td>\n",
       "      <td>Male Characters</td>\n",
       "      <td>NaN</td>\n",
       "      <td>Living Characters</td>\n",
       "      <td>1028.0</td>\n",
       "      <td>1956, October</td>\n",
       "      <td>1956.0</td>\n",
       "    </tr>\n",
       "  </tbody>\n",
       "</table>\n",
       "</div>"
      ],
      "text/plain": [
       "   page_id                            name  \\\n",
       "0     1422            Batman (Bruce Wayne)   \n",
       "1    23387           Superman (Clark Kent)   \n",
       "2     1458      Green Lantern (Hal Jordan)   \n",
       "3     1659        James Gordon (New Earth)   \n",
       "4     1576     Richard Grayson (New Earth)   \n",
       "5     1448     Wonder Woman (Diana Prince)   \n",
       "6     1486          Aquaman (Arthur Curry)   \n",
       "7     1451       Timothy Drake (New Earth)   \n",
       "8    71760  Dinah Laurel Lance (New Earth)   \n",
       "9     1380             Flash (Barry Allen)   \n",
       "\n",
       "                                  urlslug               ID            ALIGN  \\\n",
       "0            \\/wiki\\/Batman_(Bruce_Wayne)  Secret Identity  Good Characters   \n",
       "1           \\/wiki\\/Superman_(Clark_Kent)  Secret Identity  Good Characters   \n",
       "2      \\/wiki\\/Green_Lantern_(Hal_Jordan)  Secret Identity  Good Characters   \n",
       "3        \\/wiki\\/James_Gordon_(New_Earth)  Public Identity  Good Characters   \n",
       "4     \\/wiki\\/Richard_Grayson_(New_Earth)  Secret Identity  Good Characters   \n",
       "5     \\/wiki\\/Wonder_Woman_(Diana_Prince)  Public Identity  Good Characters   \n",
       "6          \\/wiki\\/Aquaman_(Arthur_Curry)  Public Identity  Good Characters   \n",
       "7       \\/wiki\\/Timothy_Drake_(New_Earth)  Secret Identity  Good Characters   \n",
       "8  \\/wiki\\/Dinah_Laurel_Lance_(New_Earth)  Public Identity  Good Characters   \n",
       "9             \\/wiki\\/Flash_(Barry_Allen)  Secret Identity  Good Characters   \n",
       "\n",
       "          EYE        HAIR                SEX  GSM              ALIVE  \\\n",
       "0   Blue Eyes  Black Hair    Male Characters  NaN  Living Characters   \n",
       "1   Blue Eyes  Black Hair    Male Characters  NaN  Living Characters   \n",
       "2  Brown Eyes  Brown Hair    Male Characters  NaN  Living Characters   \n",
       "3  Brown Eyes  White Hair    Male Characters  NaN  Living Characters   \n",
       "4   Blue Eyes  Black Hair    Male Characters  NaN  Living Characters   \n",
       "5   Blue Eyes  Black Hair  Female Characters  NaN  Living Characters   \n",
       "6   Blue Eyes  Blond Hair    Male Characters  NaN  Living Characters   \n",
       "7   Blue Eyes  Black Hair    Male Characters  NaN  Living Characters   \n",
       "8   Blue Eyes  Blond Hair  Female Characters  NaN  Living Characters   \n",
       "9   Blue Eyes  Blond Hair    Male Characters  NaN  Living Characters   \n",
       "\n",
       "   APPEARANCES FIRST APPEARANCE    YEAR  \n",
       "0       3093.0        1939, May  1939.0  \n",
       "1       2496.0    1986, October  1986.0  \n",
       "2       1565.0    1959, October  1959.0  \n",
       "3       1316.0   1987, February  1987.0  \n",
       "4       1237.0      1940, April  1940.0  \n",
       "5       1231.0   1941, December  1941.0  \n",
       "6       1121.0   1941, November  1941.0  \n",
       "7       1095.0     1989, August  1989.0  \n",
       "8       1075.0   1969, November  1969.0  \n",
       "9       1028.0    1956, October  1956.0  "
      ]
     },
     "execution_count": 4,
     "metadata": {},
     "output_type": "execute_result"
    }
   ],
   "source": [
    "df1.head(10)"
   ]
  },
  {
   "cell_type": "code",
   "execution_count": 5,
   "metadata": {},
   "outputs": [
    {
     "data": {
      "text/html": [
       "<div>\n",
       "<style scoped>\n",
       "    .dataframe tbody tr th:only-of-type {\n",
       "        vertical-align: middle;\n",
       "    }\n",
       "\n",
       "    .dataframe tbody tr th {\n",
       "        vertical-align: top;\n",
       "    }\n",
       "\n",
       "    .dataframe thead th {\n",
       "        text-align: right;\n",
       "    }\n",
       "</style>\n",
       "<table border=\"1\" class=\"dataframe\">\n",
       "  <thead>\n",
       "    <tr style=\"text-align: right;\">\n",
       "      <th></th>\n",
       "      <th>page_id</th>\n",
       "      <th>name</th>\n",
       "      <th>urlslug</th>\n",
       "      <th>ID</th>\n",
       "      <th>ALIGN</th>\n",
       "      <th>EYE</th>\n",
       "      <th>HAIR</th>\n",
       "      <th>SEX</th>\n",
       "      <th>GSM</th>\n",
       "      <th>ALIVE</th>\n",
       "      <th>APPEARANCES</th>\n",
       "      <th>FIRST APPEARANCE</th>\n",
       "      <th>Year</th>\n",
       "    </tr>\n",
       "  </thead>\n",
       "  <tbody>\n",
       "    <tr>\n",
       "      <td>0</td>\n",
       "      <td>1678</td>\n",
       "      <td>Spider-Man (Peter Parker)</td>\n",
       "      <td>\\/Spider-Man_(Peter_Parker)</td>\n",
       "      <td>Secret Identity</td>\n",
       "      <td>Good Characters</td>\n",
       "      <td>Hazel Eyes</td>\n",
       "      <td>Brown Hair</td>\n",
       "      <td>Male Characters</td>\n",
       "      <td>NaN</td>\n",
       "      <td>Living Characters</td>\n",
       "      <td>4043.0</td>\n",
       "      <td>Aug-62</td>\n",
       "      <td>1962.0</td>\n",
       "    </tr>\n",
       "    <tr>\n",
       "      <td>1</td>\n",
       "      <td>7139</td>\n",
       "      <td>Captain America (Steven Rogers)</td>\n",
       "      <td>\\/Captain_America_(Steven_Rogers)</td>\n",
       "      <td>Public Identity</td>\n",
       "      <td>Good Characters</td>\n",
       "      <td>Blue Eyes</td>\n",
       "      <td>White Hair</td>\n",
       "      <td>Male Characters</td>\n",
       "      <td>NaN</td>\n",
       "      <td>Living Characters</td>\n",
       "      <td>3360.0</td>\n",
       "      <td>Mar-41</td>\n",
       "      <td>1941.0</td>\n",
       "    </tr>\n",
       "    <tr>\n",
       "      <td>2</td>\n",
       "      <td>64786</td>\n",
       "      <td>Wolverine (James \\\"Logan\\\" Howlett)</td>\n",
       "      <td>\\/Wolverine_(James_%22Logan%22_Howlett)</td>\n",
       "      <td>Public Identity</td>\n",
       "      <td>Neutral Characters</td>\n",
       "      <td>Blue Eyes</td>\n",
       "      <td>Black Hair</td>\n",
       "      <td>Male Characters</td>\n",
       "      <td>NaN</td>\n",
       "      <td>Living Characters</td>\n",
       "      <td>3061.0</td>\n",
       "      <td>Oct-74</td>\n",
       "      <td>1974.0</td>\n",
       "    </tr>\n",
       "    <tr>\n",
       "      <td>3</td>\n",
       "      <td>1868</td>\n",
       "      <td>Iron Man (Anthony \\\"Tony\\\" Stark)</td>\n",
       "      <td>\\/Iron_Man_(Anthony_%22Tony%22_Stark)</td>\n",
       "      <td>Public Identity</td>\n",
       "      <td>Good Characters</td>\n",
       "      <td>Blue Eyes</td>\n",
       "      <td>Black Hair</td>\n",
       "      <td>Male Characters</td>\n",
       "      <td>NaN</td>\n",
       "      <td>Living Characters</td>\n",
       "      <td>2961.0</td>\n",
       "      <td>Mar-63</td>\n",
       "      <td>1963.0</td>\n",
       "    </tr>\n",
       "    <tr>\n",
       "      <td>4</td>\n",
       "      <td>2460</td>\n",
       "      <td>Thor (Thor Odinson)</td>\n",
       "      <td>\\/Thor_(Thor_Odinson)</td>\n",
       "      <td>No Dual Identity</td>\n",
       "      <td>Good Characters</td>\n",
       "      <td>Blue Eyes</td>\n",
       "      <td>Blond Hair</td>\n",
       "      <td>Male Characters</td>\n",
       "      <td>NaN</td>\n",
       "      <td>Living Characters</td>\n",
       "      <td>2258.0</td>\n",
       "      <td>Nov-50</td>\n",
       "      <td>1950.0</td>\n",
       "    </tr>\n",
       "  </tbody>\n",
       "</table>\n",
       "</div>"
      ],
      "text/plain": [
       "   page_id                                 name  \\\n",
       "0     1678            Spider-Man (Peter Parker)   \n",
       "1     7139      Captain America (Steven Rogers)   \n",
       "2    64786  Wolverine (James \\\"Logan\\\" Howlett)   \n",
       "3     1868    Iron Man (Anthony \\\"Tony\\\" Stark)   \n",
       "4     2460                  Thor (Thor Odinson)   \n",
       "\n",
       "                                   urlslug                ID  \\\n",
       "0              \\/Spider-Man_(Peter_Parker)   Secret Identity   \n",
       "1        \\/Captain_America_(Steven_Rogers)   Public Identity   \n",
       "2  \\/Wolverine_(James_%22Logan%22_Howlett)   Public Identity   \n",
       "3    \\/Iron_Man_(Anthony_%22Tony%22_Stark)   Public Identity   \n",
       "4                    \\/Thor_(Thor_Odinson)  No Dual Identity   \n",
       "\n",
       "                ALIGN         EYE        HAIR              SEX  GSM  \\\n",
       "0     Good Characters  Hazel Eyes  Brown Hair  Male Characters  NaN   \n",
       "1     Good Characters   Blue Eyes  White Hair  Male Characters  NaN   \n",
       "2  Neutral Characters   Blue Eyes  Black Hair  Male Characters  NaN   \n",
       "3     Good Characters   Blue Eyes  Black Hair  Male Characters  NaN   \n",
       "4     Good Characters   Blue Eyes  Blond Hair  Male Characters  NaN   \n",
       "\n",
       "               ALIVE  APPEARANCES FIRST APPEARANCE    Year  \n",
       "0  Living Characters       4043.0           Aug-62  1962.0  \n",
       "1  Living Characters       3360.0           Mar-41  1941.0  \n",
       "2  Living Characters       3061.0           Oct-74  1974.0  \n",
       "3  Living Characters       2961.0           Mar-63  1963.0  \n",
       "4  Living Characters       2258.0           Nov-50  1950.0  "
      ]
     },
     "execution_count": 5,
     "metadata": {},
     "output_type": "execute_result"
    }
   ],
   "source": [
    "df2.head()"
   ]
  },
  {
   "cell_type": "code",
   "execution_count": 6,
   "metadata": {},
   "outputs": [
    {
     "data": {
      "text/plain": [
       "page_id               int64\n",
       "name                 object\n",
       "urlslug              object\n",
       "ID                   object\n",
       "ALIGN                object\n",
       "EYE                  object\n",
       "HAIR                 object\n",
       "SEX                  object\n",
       "GSM                  object\n",
       "ALIVE                object\n",
       "APPEARANCES         float64\n",
       "FIRST APPEARANCE     object\n",
       "YEAR                float64\n",
       "dtype: object"
      ]
     },
     "execution_count": 6,
     "metadata": {},
     "output_type": "execute_result"
    }
   ],
   "source": [
    "df1.dtypes"
   ]
  },
  {
   "cell_type": "code",
   "execution_count": 7,
   "metadata": {},
   "outputs": [
    {
     "data": {
      "text/plain": [
       "page_id               int64\n",
       "name                 object\n",
       "urlslug              object\n",
       "ID                   object\n",
       "ALIGN                object\n",
       "EYE                  object\n",
       "HAIR                 object\n",
       "SEX                  object\n",
       "GSM                  object\n",
       "ALIVE                object\n",
       "APPEARANCES         float64\n",
       "FIRST APPEARANCE     object\n",
       "Year                float64\n",
       "dtype: object"
      ]
     },
     "execution_count": 7,
     "metadata": {},
     "output_type": "execute_result"
    }
   ],
   "source": [
    "df2.dtypes"
   ]
  },
  {
   "cell_type": "code",
   "execution_count": 8,
   "metadata": {},
   "outputs": [
    {
     "name": "stdout",
     "output_type": "stream",
     "text": [
      "<class 'pandas.core.frame.DataFrame'>\n",
      "RangeIndex: 6896 entries, 0 to 6895\n",
      "Data columns (total 13 columns):\n",
      "page_id             6896 non-null int64\n",
      "name                6896 non-null object\n",
      "urlslug             6896 non-null object\n",
      "ID                  4883 non-null object\n",
      "ALIGN               6295 non-null object\n",
      "EYE                 3268 non-null object\n",
      "HAIR                4622 non-null object\n",
      "SEX                 6771 non-null object\n",
      "GSM                 64 non-null object\n",
      "ALIVE               6893 non-null object\n",
      "APPEARANCES         6541 non-null float64\n",
      "FIRST APPEARANCE    6827 non-null object\n",
      "YEAR                6827 non-null float64\n",
      "dtypes: float64(2), int64(1), object(10)\n",
      "memory usage: 700.5+ KB\n"
     ]
    }
   ],
   "source": [
    "df1.info()"
   ]
  },
  {
   "cell_type": "code",
   "execution_count": 9,
   "metadata": {},
   "outputs": [
    {
     "name": "stdout",
     "output_type": "stream",
     "text": [
      "<class 'pandas.core.frame.DataFrame'>\n",
      "RangeIndex: 16376 entries, 0 to 16375\n",
      "Data columns (total 13 columns):\n",
      "page_id             16376 non-null int64\n",
      "name                16376 non-null object\n",
      "urlslug             16376 non-null object\n",
      "ID                  12606 non-null object\n",
      "ALIGN               13564 non-null object\n",
      "EYE                 6609 non-null object\n",
      "HAIR                12112 non-null object\n",
      "SEX                 15522 non-null object\n",
      "GSM                 90 non-null object\n",
      "ALIVE               16373 non-null object\n",
      "APPEARANCES         15280 non-null float64\n",
      "FIRST APPEARANCE    15561 non-null object\n",
      "Year                15561 non-null float64\n",
      "dtypes: float64(2), int64(1), object(10)\n",
      "memory usage: 1.6+ MB\n"
     ]
    }
   ],
   "source": [
    "df2.info()"
   ]
  },
  {
   "cell_type": "markdown",
   "metadata": {},
   "source": [
    "## Requirement 2"
   ]
  },
  {
   "cell_type": "code",
   "execution_count": 10,
   "metadata": {},
   "outputs": [],
   "source": [
    "enhanced_dictionary_dc = pd.DataFrame(index=df1.columns, columns=['Range', 'Attribute type'])"
   ]
  },
  {
   "cell_type": "code",
   "execution_count": 11,
   "metadata": {},
   "outputs": [],
   "source": [
    "enhanced_dictionary_dc['Data Type'] = df1.dtypes"
   ]
  },
  {
   "cell_type": "code",
   "execution_count": 12,
   "metadata": {},
   "outputs": [],
   "source": [
    "num_dtypes = df1.select_dtypes(include=['int64','float64'])\n",
    "for col in num_dtypes:\n",
    "    min_in_col = df1[col].min()\n",
    "    max_in_col = df1[col].max()\n",
    "    enhanced_dictionary_dc.loc[col,'Range'] = (max_in_col, min_in_col)"
   ]
  },
  {
   "cell_type": "code",
   "execution_count": 13,
   "metadata": {},
   "outputs": [],
   "source": [
    "for i in range(3,10):\n",
    "    enhanced_dictionary_dc.iloc[i]['Range'] = df1.iloc[:, i].unique()"
   ]
  },
  {
   "cell_type": "code",
   "execution_count": 14,
   "metadata": {},
   "outputs": [],
   "source": [
    "for col in df1.columns:\n",
    "    if type(enhanced_dictionary_dc.loc[col, 'Range']) is tuple:\n",
    "        enhanced_dictionary_dc.loc[col, 'Attribute type'] = 'integer' if \\\n",
    "        (np.dtype(enhanced_dictionary_dc.loc[col,\"Data Type\"])) == 'int64' else 'float'\n",
    "    elif type(enhanced_dictionary_dc.loc[col, 'Range']) is float:\n",
    "        continue\n",
    "    else:\n",
    "        if(col == 'ID'):\n",
    "            enhanced_dictionary_dc.loc[col, 'Attribute type'] = 'Nominal'\n",
    "        elif(col == 'ALIGN'):\n",
    "            enhanced_dictionary_dc.loc[col, 'Attribute type'] = 'Ordinal'\n",
    "        elif(col == 'EYE'):\n",
    "            enhanced_dictionary_dc.loc[col, 'Attribute type'] = 'Nominal'\n",
    "        elif col == 'HAIR':\n",
    "            enhanced_dictionary_dc.loc[col, 'Attribute type'] = 'Nominal'\n",
    "        elif col == 'SEX':\n",
    "            enhanced_dictionary_dc.loc[col, 'Attribute type'] = 'Nominal'\n",
    "        elif col == 'GSM':\n",
    "            enhanced_dictionary_dc.loc[col, 'Attribute type'] = 'Nominal'\n",
    "        elif col == 'ALIVE':\n",
    "            enhanced_dictionary_dc.loc[col, 'Attribute type'] = 'Nominal'"
   ]
  },
  {
   "cell_type": "code",
   "execution_count": 15,
   "metadata": {},
   "outputs": [],
   "source": [
    "enhanced_dictionary_dc.loc['page_id','Attribute description'] = \"Wikia link for that character. The page id is unique\"\n",
    "enhanced_dictionary_dc.loc['name','Attribute description'] = \"Name of that character\"\n",
    "enhanced_dictionary_dc.loc['urlslug','Attribute description'] = \"URL which takes you to the wikia page of that character\"\n",
    "enhanced_dictionary_dc.loc['ID','Attribute description'] = \"The identity status, that is, whether the identity of the character is secret or public\"\n",
    "enhanced_dictionary_dc.loc['ALIGN','Attribute description'] = \"Whether the character is good, neutral or bad\"\n",
    "enhanced_dictionary_dc.loc['EYE','Attribute description'] = \"Character's eye color\"\n",
    "enhanced_dictionary_dc.loc['HAIR','Attribute description'] = \"Character's hair color\"\n",
    "enhanced_dictionary_dc.loc['SEX','Attribute description'] = \"Character's sex\"\n",
    "enhanced_dictionary_dc.loc['GSM','Attribute description'] = \"Character's gsm\"\n",
    "enhanced_dictionary_dc.loc['ALIVE','Attribute description'] = \"If the character is alive or not\"\n",
    "enhanced_dictionary_dc.loc['APPEARANCES','Attribute description'] = \"Number of comic book appearances\"\n",
    "enhanced_dictionary_dc.loc['FIRST APPEARANCE','Attribute description'] = \"Year,Month when the character first appeared\"\n",
    "enhanced_dictionary_dc.loc['YEAR','Attribute description'] = \"Year when the character first appeared\""
   ]
  },
  {
   "cell_type": "code",
   "execution_count": 16,
   "metadata": {},
   "outputs": [],
   "source": [
    "enhanced_dictionary = pd.DataFrame(index=df2.columns, columns=['Range', 'Attribute type'])"
   ]
  },
  {
   "cell_type": "code",
   "execution_count": 17,
   "metadata": {},
   "outputs": [],
   "source": [
    "enhanced_dictionary['Data Type'] = df2.dtypes"
   ]
  },
  {
   "cell_type": "code",
   "execution_count": 18,
   "metadata": {},
   "outputs": [],
   "source": [
    "num_dtypes = df2.select_dtypes(include=['int64','float64'])\n",
    "for col in num_dtypes:\n",
    "    min_in_col = df2[col].min()\n",
    "    max_in_col = df2[col].max()\n",
    "    enhanced_dictionary.loc[col,'Range'] = (max_in_col, min_in_col)"
   ]
  },
  {
   "cell_type": "code",
   "execution_count": 19,
   "metadata": {},
   "outputs": [],
   "source": [
    "for i in range(3,10):\n",
    "    enhanced_dictionary.iloc[i]['Range'] = df2.iloc[:, i].unique()"
   ]
  },
  {
   "cell_type": "code",
   "execution_count": 20,
   "metadata": {},
   "outputs": [],
   "source": [
    "for col in df2.columns:\n",
    "    if type(enhanced_dictionary.loc[col, 'Range']) is tuple:\n",
    "        enhanced_dictionary.loc[col, 'Attribute type'] = 'integer' if \\\n",
    "        (np.dtype(enhanced_dictionary.loc[col,\"Data Type\"])) == 'int64' else 'float'\n",
    "    elif type(enhanced_dictionary.loc[col, 'Range']) is float:\n",
    "        continue\n",
    "    else:\n",
    "        if(col == 'ID'):\n",
    "            enhanced_dictionary.loc[col, 'Attribute type'] = 'Nominal'\n",
    "        elif(col == 'ALIGN'):\n",
    "            enhanced_dictionary.loc[col, 'Attribute type'] = 'Ordinal'\n",
    "        elif(col == 'EYE'):\n",
    "            enhanced_dictionary.loc[col, 'Attribute type'] = 'Nominal'\n",
    "        elif col == 'HAIR':\n",
    "            enhanced_dictionary.loc[col, 'Attribute type'] = 'Nominal'\n",
    "        elif col == 'SEX':\n",
    "            enhanced_dictionary.loc[col, 'Attribute type'] = 'Nominal'\n",
    "        elif col == 'GSM':\n",
    "            enhanced_dictionary.loc[col, 'Attribute type'] = 'Nominal'\n",
    "        elif col == 'ALIVE':\n",
    "            enhanced_dictionary.loc[col, 'Attribute type'] = 'Nominal'"
   ]
  },
  {
   "cell_type": "code",
   "execution_count": 21,
   "metadata": {},
   "outputs": [],
   "source": [
    "enhanced_dictionary.loc['page_id','Attribute description'] = \"Wikia link for that character. The page id is unique\"\n",
    "enhanced_dictionary.loc['name','Attribute description'] = \"Name of that character\"\n",
    "enhanced_dictionary.loc['urlslug','Attribute description'] = \"URL which takes you to the wikia page of that character\"\n",
    "enhanced_dictionary.loc['ID','Attribute description'] = \"The identity status, that is, whether the identity of the character is secret or public\"\n",
    "enhanced_dictionary.loc['ALIGN','Attribute description'] = \"Whether the character is good, neutral or bad\"\n",
    "enhanced_dictionary.loc['EYE','Attribute description'] = \"Character's eye color\"\n",
    "enhanced_dictionary.loc['HAIR','Attribute description'] = \"Character's hair color\"\n",
    "enhanced_dictionary.loc['SEX','Attribute description'] = \"Character's sex\"\n",
    "enhanced_dictionary.loc['GSM','Attribute description'] = \"Character's gsm\"\n",
    "enhanced_dictionary.loc['ALIVE','Attribute description'] = \"If the character is alive or not\"\n",
    "enhanced_dictionary.loc['APPEARANCES','Attribute description'] = \"Number of comic book appearances\"\n",
    "enhanced_dictionary.loc['FIRST APPEARANCE','Attribute description'] = \"Year,Month when the character first appeared\"\n",
    "enhanced_dictionary.loc['Year','Attribute description'] = \"Year when the character first appeared\""
   ]
  },
  {
   "cell_type": "code",
   "execution_count": 22,
   "metadata": {},
   "outputs": [
    {
     "name": "stdout",
     "output_type": "stream",
     "text": [
      "DC Data Dictionary\n"
     ]
    },
    {
     "data": {
      "text/html": [
       "<div>\n",
       "<style scoped>\n",
       "    .dataframe tbody tr th:only-of-type {\n",
       "        vertical-align: middle;\n",
       "    }\n",
       "\n",
       "    .dataframe tbody tr th {\n",
       "        vertical-align: top;\n",
       "    }\n",
       "\n",
       "    .dataframe thead th {\n",
       "        text-align: right;\n",
       "    }\n",
       "</style>\n",
       "<table border=\"1\" class=\"dataframe\">\n",
       "  <thead>\n",
       "    <tr style=\"text-align: right;\">\n",
       "      <th></th>\n",
       "      <th>Range</th>\n",
       "      <th>Attribute type</th>\n",
       "      <th>Data Type</th>\n",
       "      <th>Attribute description</th>\n",
       "    </tr>\n",
       "  </thead>\n",
       "  <tbody>\n",
       "    <tr>\n",
       "      <td>page_id</td>\n",
       "      <td>(404010, 1380)</td>\n",
       "      <td>integer</td>\n",
       "      <td>int64</td>\n",
       "      <td>Wikia link for that character. The page id is ...</td>\n",
       "    </tr>\n",
       "    <tr>\n",
       "      <td>name</td>\n",
       "      <td>NaN</td>\n",
       "      <td>NaN</td>\n",
       "      <td>object</td>\n",
       "      <td>Name of that character</td>\n",
       "    </tr>\n",
       "    <tr>\n",
       "      <td>urlslug</td>\n",
       "      <td>NaN</td>\n",
       "      <td>NaN</td>\n",
       "      <td>object</td>\n",
       "      <td>URL which takes you to the wikia page of that ...</td>\n",
       "    </tr>\n",
       "    <tr>\n",
       "      <td>ID</td>\n",
       "      <td>[Secret Identity, Public Identity, nan, Identi...</td>\n",
       "      <td>Nominal</td>\n",
       "      <td>object</td>\n",
       "      <td>The identity status, that is, whether the iden...</td>\n",
       "    </tr>\n",
       "    <tr>\n",
       "      <td>ALIGN</td>\n",
       "      <td>[Good Characters, Bad Characters, Neutral Char...</td>\n",
       "      <td>Ordinal</td>\n",
       "      <td>object</td>\n",
       "      <td>Whether the character is good, neutral or bad</td>\n",
       "    </tr>\n",
       "    <tr>\n",
       "      <td>EYE</td>\n",
       "      <td>[Blue Eyes, Brown Eyes, Green Eyes, Purple Eye...</td>\n",
       "      <td>Nominal</td>\n",
       "      <td>object</td>\n",
       "      <td>Character's eye color</td>\n",
       "    </tr>\n",
       "    <tr>\n",
       "      <td>HAIR</td>\n",
       "      <td>[Black Hair, Brown Hair, White Hair, Blond Hai...</td>\n",
       "      <td>Nominal</td>\n",
       "      <td>object</td>\n",
       "      <td>Character's hair color</td>\n",
       "    </tr>\n",
       "    <tr>\n",
       "      <td>SEX</td>\n",
       "      <td>[Male Characters, Female Characters, nan, Gend...</td>\n",
       "      <td>Nominal</td>\n",
       "      <td>object</td>\n",
       "      <td>Character's sex</td>\n",
       "    </tr>\n",
       "    <tr>\n",
       "      <td>GSM</td>\n",
       "      <td>[nan, Bisexual Characters, Homosexual Characters]</td>\n",
       "      <td>Nominal</td>\n",
       "      <td>object</td>\n",
       "      <td>Character's gsm</td>\n",
       "    </tr>\n",
       "    <tr>\n",
       "      <td>ALIVE</td>\n",
       "      <td>[Living Characters, Deceased Characters, nan]</td>\n",
       "      <td>Nominal</td>\n",
       "      <td>object</td>\n",
       "      <td>If the character is alive or not</td>\n",
       "    </tr>\n",
       "    <tr>\n",
       "      <td>APPEARANCES</td>\n",
       "      <td>(3093.0, 1.0)</td>\n",
       "      <td>float</td>\n",
       "      <td>float64</td>\n",
       "      <td>Number of comic book appearances</td>\n",
       "    </tr>\n",
       "    <tr>\n",
       "      <td>FIRST APPEARANCE</td>\n",
       "      <td>NaN</td>\n",
       "      <td>NaN</td>\n",
       "      <td>object</td>\n",
       "      <td>Year,Month when the character first appeared</td>\n",
       "    </tr>\n",
       "    <tr>\n",
       "      <td>YEAR</td>\n",
       "      <td>(2013.0, 1935.0)</td>\n",
       "      <td>float</td>\n",
       "      <td>float64</td>\n",
       "      <td>Year when the character first appeared</td>\n",
       "    </tr>\n",
       "  </tbody>\n",
       "</table>\n",
       "</div>"
      ],
      "text/plain": [
       "                                                              Range  \\\n",
       "page_id                                              (404010, 1380)   \n",
       "name                                                            NaN   \n",
       "urlslug                                                         NaN   \n",
       "ID                [Secret Identity, Public Identity, nan, Identi...   \n",
       "ALIGN             [Good Characters, Bad Characters, Neutral Char...   \n",
       "EYE               [Blue Eyes, Brown Eyes, Green Eyes, Purple Eye...   \n",
       "HAIR              [Black Hair, Brown Hair, White Hair, Blond Hai...   \n",
       "SEX               [Male Characters, Female Characters, nan, Gend...   \n",
       "GSM               [nan, Bisexual Characters, Homosexual Characters]   \n",
       "ALIVE                 [Living Characters, Deceased Characters, nan]   \n",
       "APPEARANCES                                           (3093.0, 1.0)   \n",
       "FIRST APPEARANCE                                                NaN   \n",
       "YEAR                                               (2013.0, 1935.0)   \n",
       "\n",
       "                 Attribute type Data Type  \\\n",
       "page_id                 integer     int64   \n",
       "name                        NaN    object   \n",
       "urlslug                     NaN    object   \n",
       "ID                      Nominal    object   \n",
       "ALIGN                   Ordinal    object   \n",
       "EYE                     Nominal    object   \n",
       "HAIR                    Nominal    object   \n",
       "SEX                     Nominal    object   \n",
       "GSM                     Nominal    object   \n",
       "ALIVE                   Nominal    object   \n",
       "APPEARANCES               float   float64   \n",
       "FIRST APPEARANCE            NaN    object   \n",
       "YEAR                      float   float64   \n",
       "\n",
       "                                              Attribute description  \n",
       "page_id           Wikia link for that character. The page id is ...  \n",
       "name                                         Name of that character  \n",
       "urlslug           URL which takes you to the wikia page of that ...  \n",
       "ID                The identity status, that is, whether the iden...  \n",
       "ALIGN                 Whether the character is good, neutral or bad  \n",
       "EYE                                           Character's eye color  \n",
       "HAIR                                         Character's hair color  \n",
       "SEX                                                 Character's sex  \n",
       "GSM                                                 Character's gsm  \n",
       "ALIVE                              If the character is alive or not  \n",
       "APPEARANCES                        Number of comic book appearances  \n",
       "FIRST APPEARANCE       Year,Month when the character first appeared  \n",
       "YEAR                         Year when the character first appeared  "
      ]
     },
     "execution_count": 22,
     "metadata": {},
     "output_type": "execute_result"
    }
   ],
   "source": [
    "print(\"DC Data Dictionary\")\n",
    "enhanced_dictionary_dc"
   ]
  },
  {
   "cell_type": "code",
   "execution_count": null,
   "metadata": {},
   "outputs": [],
   "source": [
    "print(\"Marvel Data Dictionary\")\n",
    "enhanced_dictionary"
   ]
  },
  {
   "cell_type": "markdown",
   "metadata": {},
   "source": [
    "## Requirement 3: To find missing data/duplicate data/formatting:\n"
   ]
  },
  {
   "cell_type": "markdown",
   "metadata": {},
   "source": [
    "For DC comic"
   ]
  },
  {
   "cell_type": "code",
   "execution_count": null,
   "metadata": {},
   "outputs": [],
   "source": [
    "for col in df1.columns:\n",
    "    print(\"There are {} missing values in attribute {}\". format(df1[col].isna().sum(), col))"
   ]
  },
  {
   "cell_type": "markdown",
   "metadata": {},
   "source": [
    "For Marvel data set"
   ]
  },
  {
   "cell_type": "code",
   "execution_count": null,
   "metadata": {},
   "outputs": [],
   "source": [
    "for col in df2.columns:\n",
    "    print(\"There are {} missing values in attribute {}\". format(df2[col].isna().sum(), col))"
   ]
  },
  {
   "cell_type": "code",
   "execution_count": null,
   "metadata": {},
   "outputs": [],
   "source": [
    "print(\"There are {} duplicate ids in DC\".format(df1['page_id'].duplicated().sum()))"
   ]
  },
  {
   "cell_type": "code",
   "execution_count": null,
   "metadata": {},
   "outputs": [],
   "source": [
    "print(\"There are {} duplicate name in DC\".format(df1['name'].duplicated().sum()))"
   ]
  },
  {
   "cell_type": "code",
   "execution_count": null,
   "metadata": {},
   "outputs": [],
   "source": [
    "print(\"There are {} duplicate url in DC\".format(df1['urlslug'].duplicated().sum()))"
   ]
  },
  {
   "cell_type": "code",
   "execution_count": null,
   "metadata": {},
   "outputs": [],
   "source": [
    "print(\"There are {} duplicate ids in Marvel\".format(df2['page_id'].duplicated().sum()))"
   ]
  },
  {
   "cell_type": "code",
   "execution_count": null,
   "metadata": {},
   "outputs": [],
   "source": [
    "print(\"There are {} duplicate name in Marvel\".format(df2['name'].duplicated().sum()))"
   ]
  },
  {
   "cell_type": "code",
   "execution_count": null,
   "metadata": {},
   "outputs": [],
   "source": [
    "print(\"There are {} duplicate url in Marvel\".format(df1['urlslug'].duplicated().sum()))"
   ]
  },
  {
   "cell_type": "code",
   "execution_count": null,
   "metadata": {},
   "outputs": [],
   "source": [
    "df1.dtypes"
   ]
  },
  {
   "cell_type": "raw",
   "metadata": {},
   "source": [
    "From the above information we can see that Appearances and Year should be of type int64 and not float64"
   ]
  },
  {
   "cell_type": "code",
   "execution_count": null,
   "metadata": {},
   "outputs": [],
   "source": [
    "df2.dtypes"
   ]
  },
  {
   "cell_type": "raw",
   "metadata": {},
   "source": [
    "From the above information we can see that Appearances and Year should be of type int64 and not float64"
   ]
  },
  {
   "cell_type": "code",
   "execution_count": null,
   "metadata": {},
   "outputs": [],
   "source": [
    "y = df1.iloc[:,-2:]\n",
    "print(y.head())"
   ]
  },
  {
   "cell_type": "raw",
   "metadata": {},
   "source": [
    "From the above information we see that the YEAR attribute is redundant and can be ignored"
   ]
  },
  {
   "cell_type": "code",
   "execution_count": null,
   "metadata": {},
   "outputs": [],
   "source": [
    "y = df2.iloc[:,-2:]\n",
    "print(y.head())"
   ]
  },
  {
   "cell_type": "raw",
   "metadata": {},
   "source": [
    "From the above information we see that the YEAR attribute is redundant and can be ignored"
   ]
  },
  {
   "cell_type": "markdown",
   "metadata": {},
   "source": [
    "## Requirement 4"
   ]
  },
  {
   "cell_type": "markdown",
   "metadata": {},
   "source": [
    "Since the attributes page_id, name, urlslug are all unique, there probably isn't much analysis to be done here"
   ]
  },
  {
   "cell_type": "markdown",
   "metadata": {},
   "source": [
    "Lets consider the attribute ID\n"
   ]
  },
  {
   "cell_type": "code",
   "execution_count": null,
   "metadata": {},
   "outputs": [],
   "source": [
    "dups_id = df1.pivot_table(index=['ID'], aggfunc='size')\n",
    "print(dups_id)"
   ]
  },
  {
   "cell_type": "raw",
   "metadata": {},
   "source": [
    "We can see from the above information that 9 characters have identity unknown, 2466 have public identity and 2408 have secret identity. The creators have not favoured any particular identity"
   ]
  },
  {
   "cell_type": "code",
   "execution_count": null,
   "metadata": {},
   "outputs": [],
   "source": [
    "dups_id = df2.pivot_table(index=['ID'], aggfunc='size')\n",
    "print(dups_id)"
   ]
  },
  {
   "cell_type": "raw",
   "metadata": {},
   "source": [
    "Most of the characters in Marvel are secret. 1788 characters are unique"
   ]
  },
  {
   "cell_type": "code",
   "execution_count": null,
   "metadata": {},
   "outputs": [],
   "source": [
    "dups_align = df1.pivot_table(index=['ALIGN'], aggfunc='size')\n",
    "print(dups_align)"
   ]
  },
  {
   "cell_type": "raw",
   "metadata": {},
   "source": [
    "There seems to be equal numbers of good and bad characters in DC"
   ]
  },
  {
   "cell_type": "code",
   "execution_count": null,
   "metadata": {},
   "outputs": [],
   "source": [
    "dups_align = df2.pivot_table(index=['ALIGN'], aggfunc='size')\n",
    "print(dups_align)"
   ]
  },
  {
   "cell_type": "raw",
   "metadata": {},
   "source": [
    "Marvel has a lot of bad characters compared to DC"
   ]
  },
  {
   "cell_type": "code",
   "execution_count": null,
   "metadata": {},
   "outputs": [],
   "source": [
    "dups_eye = df1.pivot_table(index=['EYE'], aggfunc='size')\n",
    "print(dups_eye)"
   ]
  },
  {
   "cell_type": "raw",
   "metadata": {},
   "source": [
    "Most of the DC characters have Blue (1102) and Brown(879) eyes"
   ]
  },
  {
   "cell_type": "code",
   "execution_count": null,
   "metadata": {},
   "outputs": [],
   "source": [
    "dups_eye = df2.pivot_table(index=['EYE'], aggfunc='size')\n",
    "print(dups_eye)"
   ]
  },
  {
   "cell_type": "raw",
   "metadata": {},
   "source": [
    "Most of the Marvel characters have Blue (1962) and Brown(1924) eyes and these are more compared to DC"
   ]
  },
  {
   "cell_type": "code",
   "execution_count": null,
   "metadata": {},
   "outputs": [],
   "source": [
    "dups_hair = df1.pivot_table(index=['HAIR'], aggfunc='size')\n",
    "print(dups_hair)"
   ]
  },
  {
   "cell_type": "raw",
   "metadata": {},
   "source": [
    "Black hair features the most followed by brown hair In DC"
   ]
  },
  {
   "cell_type": "code",
   "execution_count": null,
   "metadata": {},
   "outputs": [],
   "source": [
    "dups_hair = df2.pivot_table(index=['HAIR'], aggfunc='size')\n",
    "print(dups_hair)"
   ]
  },
  {
   "cell_type": "raw",
   "metadata": {},
   "source": [
    "Black hair features the most followed by brown hair In Marvel\n",
    "Another important observation here is Marvel has characters that are bald but DC does not."
   ]
  },
  {
   "cell_type": "code",
   "execution_count": null,
   "metadata": {},
   "outputs": [],
   "source": [
    "dups_sex = df1.pivot_table(index=['SEX'], aggfunc='size')\n",
    "print(dups_sex)"
   ]
  },
  {
   "cell_type": "raw",
   "metadata": {},
   "source": [
    "The entire article is highlighting the point about male characters being dominant in the comic book industry.\n",
    "Even transgenders are under represented in DC"
   ]
  },
  {
   "cell_type": "code",
   "execution_count": null,
   "metadata": {},
   "outputs": [],
   "source": [
    "dups_sex = df2.pivot_table(index=['SEX'], aggfunc='size')\n",
    "print(dups_sex)"
   ]
  },
  {
   "cell_type": "raw",
   "metadata": {},
   "source": [
    "Marvel has predominantly a large number of male characters compred to female ones. DC fares better than Marvel in female representation"
   ]
  },
  {
   "cell_type": "code",
   "execution_count": null,
   "metadata": {},
   "outputs": [],
   "source": [
    "dups_gsm = df1.pivot_table(index=['GSM'], aggfunc='size')\n",
    "print(dups_gsm)"
   ]
  },
  {
   "cell_type": "raw",
   "metadata": {},
   "source": [
    "The comics have homosexual characters. These may have been introduced to suit the story line"
   ]
  },
  {
   "cell_type": "code",
   "execution_count": null,
   "metadata": {},
   "outputs": [],
   "source": [
    "dups_gsm = df2.pivot_table(index=['GSM'], aggfunc='size')\n",
    "print(dups_gsm)"
   ]
  },
  {
   "cell_type": "raw",
   "metadata": {},
   "source": [
    "Marvel has a variety of GSM types compared to DC"
   ]
  },
  {
   "cell_type": "code",
   "execution_count": null,
   "metadata": {},
   "outputs": [],
   "source": [
    "dups_alive = df1.pivot_table(index=['ALIVE'], aggfunc='size')\n",
    "print(dups_alive)"
   ]
  },
  {
   "cell_type": "raw",
   "metadata": {},
   "source": [
    "This information shows that DC has contuniued with the majority of characters till date\n"
   ]
  },
  {
   "cell_type": "code",
   "execution_count": null,
   "metadata": {},
   "outputs": [],
   "source": [
    "dups_alive = df2.pivot_table(index=['ALIVE'], aggfunc='size')\n",
    "print(dups_alive)"
   ]
  },
  {
   "cell_type": "raw",
   "metadata": {},
   "source": [
    "Marvel has a much larger number of living characeters. Also marvel characters are much more than DC."
   ]
  },
  {
   "cell_type": "code",
   "execution_count": null,
   "metadata": {},
   "outputs": [],
   "source": [
    "print(\"The character {} has appeared a max of {} times in DC \".format(df1.iloc[df1.APPEARANCES.idxmax()]['name'], int(df1.APPEARANCES.max())))"
   ]
  },
  {
   "cell_type": "code",
   "execution_count": null,
   "metadata": {},
   "outputs": [],
   "source": [
    "print(\"The character {} has appeared a max of {} times in DC\".format(df2.iloc[df2.APPEARANCES.idxmax()]['name'], int(df2.APPEARANCES.max())))"
   ]
  },
  {
   "cell_type": "code",
   "execution_count": null,
   "metadata": {},
   "outputs": [],
   "source": [
    "dups_entry = df1.pivot_table(index=['APPEARANCES'], aggfunc='size')\n",
    "print(\"{} characters is DC have been introduced just {} time.\".format(dups_entry.max(),int(dups_entry.idxmax())))"
   ]
  },
  {
   "cell_type": "code",
   "execution_count": null,
   "metadata": {},
   "outputs": [],
   "source": [
    "dups_entry = df2.pivot_table(index=['APPEARANCES'], aggfunc='size')\n",
    "print(\"{} characters is DC have been introduced just {} time.\".format(dups_entry.max(),int(dups_entry.idxmax())))"
   ]
  },
  {
   "cell_type": "code",
   "execution_count": null,
   "metadata": {},
   "outputs": [],
   "source": [
    "dups_year = df1.pivot_table(index=['YEAR'], aggfunc='size')\n",
    "print(\"In the year {}, DC has released most characters\".format(int(dups_year.idxmax())))"
   ]
  },
  {
   "cell_type": "code",
   "execution_count": null,
   "metadata": {},
   "outputs": [],
   "source": [
    "dups_year = df2.pivot_table(index=['Year'], aggfunc='size')\n",
    "print(\"In the year {}, Marvel has released most characters\".format(int(dups_year.idxmax())))"
   ]
  },
  {
   "cell_type": "code",
   "execution_count": null,
   "metadata": {},
   "outputs": [],
   "source": [
    "df1.describe()"
   ]
  },
  {
   "cell_type": "code",
   "execution_count": null,
   "metadata": {},
   "outputs": [],
   "source": [
    "df2.describe()"
   ]
  },
  {
   "cell_type": "code",
   "execution_count": null,
   "metadata": {},
   "outputs": [],
   "source": [
    "df1.describe(include = 'object')"
   ]
  },
  {
   "cell_type": "code",
   "execution_count": null,
   "metadata": {},
   "outputs": [],
   "source": [
    "df2.describe(include = 'object')"
   ]
  },
  {
   "cell_type": "markdown",
   "metadata": {},
   "source": [
    "# LAB2 "
   ]
  },
  {
   "cell_type": "markdown",
   "metadata": {},
   "source": [
    "## Requirement 1 : Data Preprocessing"
   ]
  },
  {
   "cell_type": "markdown",
   "metadata": {},
   "source": [
    "Let us start by looking at the data type of the attributes"
   ]
  },
  {
   "cell_type": "code",
   "execution_count": null,
   "metadata": {},
   "outputs": [],
   "source": [
    "dc_df = pd.read_csv('data/dc-wikia-data.csv')\n",
    "marvel_df = pd.read_csv('data/marvel-wikia-data.csv')"
   ]
  },
  {
   "cell_type": "code",
   "execution_count": null,
   "metadata": {},
   "outputs": [],
   "source": [
    "dc_df.dtypes"
   ]
  },
  {
   "cell_type": "markdown",
   "metadata": {},
   "source": [
    "Appearances and YEAR is of type int64. So we can cast the values of appearances and year to int64"
   ]
  },
  {
   "cell_type": "code",
   "execution_count": null,
   "metadata": {},
   "outputs": [],
   "source": [
    "df1['APPEARANCES'] = dc_df['APPEARANCES'].astype(\"Int64\")\n",
    "df1['YEAR'] = dc_df['YEAR'].astype(\"Int64\")"
   ]
  },
  {
   "cell_type": "code",
   "execution_count": null,
   "metadata": {},
   "outputs": [],
   "source": [
    "df1.head()"
   ]
  },
  {
   "cell_type": "markdown",
   "metadata": {},
   "source": [
    "Similarly for Marvel data set let us convert number of appearances and year to type int"
   ]
  },
  {
   "cell_type": "code",
   "execution_count": null,
   "metadata": {},
   "outputs": [],
   "source": [
    "df2['APPEARANCES'] = marvel_df['APPEARANCES'].astype(\"Int64\")\n",
    "df2['Year'] = marvel_df['Year'].astype(\"Int64\")\n",
    "df2.head()"
   ]
  },
  {
   "cell_type": "code",
   "execution_count": null,
   "metadata": {},
   "outputs": [],
   "source": []
  },
  {
   "cell_type": "code",
   "execution_count": null,
   "metadata": {},
   "outputs": [],
   "source": [
    "dc_df = pd.read_csv('data/dc-wikia-data.csv')\n",
    "marvel_df = pd.read_csv('data/marvel-wikia-data.csv')"
   ]
  },
  {
   "cell_type": "code",
   "execution_count": null,
   "metadata": {},
   "outputs": [],
   "source": [
    "unique_char_dc = len(dc_df['name'])\n",
    "unique_char_marvel = len(marvel_df['name'])\n",
    "\n",
    "print(\"Number of characters in DC: {}\".format(unique_char_dc))\n",
    "print(\"Number of characters in Marvel: {}\".format(unique_char_marvel))"
   ]
  },
  {
   "cell_type": "markdown",
   "metadata": {},
   "source": [
    "Let us have a look at the GSM column."
   ]
  },
  {
   "cell_type": "code",
   "execution_count": null,
   "metadata": {},
   "outputs": [],
   "source": [
    "dc_df['GSM'].value_counts()"
   ]
  },
  {
   "cell_type": "code",
   "execution_count": null,
   "metadata": {},
   "outputs": [],
   "source": [
    "marvel_df['GSM'].value_counts()"
   ]
  },
  {
   "cell_type": "code",
   "execution_count": null,
   "metadata": {},
   "outputs": [],
   "source": [
    "print(\"Percentage of missing GSM for DC:{:.2f}%\".format(dc_df['GSM'].isna().sum()*100/unique_char_dc))\n",
    "print(\"Percentage of missing GSM for Marvel:{:.2f}%\".format(marvel_df['GSM'].isna().sum()*100/unique_char_marvel))"
   ]
  },
  {
   "cell_type": "markdown",
   "metadata": {},
   "source": [
    "Since GSM has most of the missing characters, we need to have a look at this data. I assume that missing values \n",
    "here would mean that the character has inclination towards the opposite gender. One statsitc to notice here would probably be about the year of first appearance of the GSM characters. The article speaks about the introduction of sexual minorities in the recent years. This can be verified now.\n"
   ]
  },
  {
   "cell_type": "code",
   "execution_count": null,
   "metadata": {},
   "outputs": [],
   "source": []
  },
  {
   "cell_type": "code",
   "execution_count": null,
   "metadata": {
    "scrolled": true
   },
   "outputs": [],
   "source": [
    "fig = plt.figure(figsize=(12,4), dpi=75)\n",
    "fig.suptitle(\"No. of minority sexual characters\")\n",
    "ax1 = fig.add_subplot(121)\n",
    "gsm_df_dc = df1.iloc[df1.loc[pd.notnull(df1[\"GSM\"]), :].index]['YEAR']\n",
    "gsm_df_dc.hist(ax = ax1)\n",
    "ax1.set_title('DC Comics')\n",
    "ax1.set_xlabel(\"Year\")\n",
    "ax1.set_ylabel(\"No. of minority characters\")\n",
    "ax2 = fig.add_subplot(122)\n",
    "gsm_df_mv = df2.iloc[df2.loc[pd.notnull(df2[\"GSM\"]), :].index]['Year']\n",
    "gsm_df_mv.hist(ax = ax2)\n",
    "ax2.set_title('Marvel Comics')\n",
    "ax2.set_xlabel(\"Year\")\n",
    "ax2.set_ylabel(\"No. of minority characters\")\n",
    "\n",
    "plt.show()"
   ]
  },
  {
   "cell_type": "markdown",
   "metadata": {},
   "source": [
    "From the above graphs we can see that representation for minority sexual characters has started only after 1980's in case of DC and after 2000's for Marvel comics. This is in line with the claim by the article that minority sexual characters were introduced just lately."
   ]
  },
  {
   "cell_type": "markdown",
   "metadata": {},
   "source": [
    " "
   ]
  },
  {
   "cell_type": "markdown",
   "metadata": {},
   "source": [
    "Now let us look at the attributes first appearance and year. It has redundant data. We can try removing the year of appearance from the attribute first appearance"
   ]
  },
  {
   "cell_type": "code",
   "execution_count": null,
   "metadata": {},
   "outputs": [],
   "source": [
    "df1['FIRST APPEARANCE'] = [data if type(data) is float else data.split(',')[-1] \\\n",
    "                           for data in dc_df['FIRST APPEARANCE']]\n",
    "df2['FIRST APPEARANCE'] = [data if type(data) is float else data.split('-')[0] \\\n",
    "                           for data in marvel_df['FIRST APPEARANCE']]"
   ]
  },
  {
   "cell_type": "code",
   "execution_count": null,
   "metadata": {
    "scrolled": true
   },
   "outputs": [],
   "source": [
    "df1.sample(10)"
   ]
  },
  {
   "cell_type": "code",
   "execution_count": null,
   "metadata": {},
   "outputs": [],
   "source": [
    "df2.sample(10)"
   ]
  },
  {
   "cell_type": "code",
   "execution_count": null,
   "metadata": {},
   "outputs": [],
   "source": [
    "df1['FIRST APPEARANCE'].value_counts()"
   ]
  },
  {
   "cell_type": "markdown",
   "metadata": {},
   "source": [
    "After preprocessing the DC dataset we see that there is a Holiday object and many data points have the month missing. For the holiday data, we can assume that the holiday is the christmas month. In case we look at the summer months which are usually holidays for kids, the data does not show much preference towards Summmer. So we can impute it to the month December. "
   ]
  },
  {
   "cell_type": "code",
   "execution_count": null,
   "metadata": {},
   "outputs": [],
   "source": [
    "hasNaN = [data for data in range(len(df1['FIRST APPEARANCE'])) \\\n",
    "          if pd.notna(dc_df.iloc[data]['FIRST APPEARANCE']) and pd.isna(df1.iloc[data]['YEAR'])]\n",
    "temp_df = df1.iloc[hasNaN]\n",
    "temp_df"
   ]
  },
  {
   "cell_type": "markdown",
   "metadata": {},
   "source": [
    "The above analysis shows that there are no rows that have missing year value that could be extraceted from the first appearance column"
   ]
  },
  {
   "cell_type": "code",
   "execution_count": null,
   "metadata": {},
   "outputs": [],
   "source": [
    "df2['FIRST APPEARANCE'].value_counts()"
   ]
  },
  {
   "cell_type": "markdown",
   "metadata": {},
   "source": [
    "The MARVEL dataset on the other hand doesn't need any preprocessing for the first appearance month column"
   ]
  },
  {
   "cell_type": "code",
   "execution_count": null,
   "metadata": {},
   "outputs": [],
   "source": [
    "hasNaN = [data for data in range(len(df2['FIRST APPEARANCE'])) \\\n",
    "          if pd.notna(marvel_df.iloc[data]['FIRST APPEARANCE']) and pd.isna(df2.iloc[data]['Year'])]\n",
    "temp_df = df1.iloc[hasNaN]\n",
    "temp_df"
   ]
  },
  {
   "cell_type": "markdown",
   "metadata": {},
   "source": [
    "The above analysis shows that there are no rows that have missing year value that could be extraceted from the first appearance column"
   ]
  },
  {
   "cell_type": "code",
   "execution_count": null,
   "metadata": {},
   "outputs": [],
   "source": [
    "hasNaN = [data for data in range(len(df1['FIRST APPEARANCE'])) if pd.isna(df1.iloc[data]['FIRST APPEARANCE'])]\n",
    "temp_df = df1.iloc[hasNaN]"
   ]
  },
  {
   "cell_type": "code",
   "execution_count": null,
   "metadata": {},
   "outputs": [],
   "source": [
    "temp_df"
   ]
  },
  {
   "cell_type": "markdown",
   "metadata": {},
   "source": [
    "As can be seen above, DC has some rows have multiple columns with NaN. We can delete such rows as they are not giving much information."
   ]
  },
  {
   "cell_type": "code",
   "execution_count": null,
   "metadata": {},
   "outputs": [],
   "source": [
    "for index, row in temp_df.iterrows():\n",
    "    if pd.isna(temp_df.loc[index]['APPEARANCES']) and pd.isna(temp_df.loc[index]['FIRST APPEARANCE']):\n",
    "        df1.drop(index, inplace= True)"
   ]
  },
  {
   "cell_type": "code",
   "execution_count": null,
   "metadata": {},
   "outputs": [],
   "source": [
    "df1"
   ]
  },
  {
   "cell_type": "markdown",
   "metadata": {},
   "source": [
    "From the above statistics we see that that character Bedivere has many missing attributes , so lets delete that row as it wont help us in any analysis"
   ]
  },
  {
   "cell_type": "code",
   "execution_count": null,
   "metadata": {},
   "outputs": [],
   "source": [
    "df1.drop(6886, inplace= True)"
   ]
  },
  {
   "cell_type": "markdown",
   "metadata": {},
   "source": [
    "We can drop page_id and urlslug attributes for our analysis here as they are redundant data. Also since we have finished analyzing GSM attributes we can drop it now"
   ]
  },
  {
   "cell_type": "code",
   "execution_count": null,
   "metadata": {},
   "outputs": [],
   "source": [
    "df1 = df1.drop(columns = ['GSM', 'page_id', 'urlslug'])\n",
    "hasNaN = df1.isna().any(axis=1)\n",
    "df1[hasNaN]"
   ]
  },
  {
   "cell_type": "code",
   "execution_count": null,
   "metadata": {},
   "outputs": [],
   "source": [
    "df1"
   ]
  },
  {
   "cell_type": "code",
   "execution_count": null,
   "metadata": {},
   "outputs": [],
   "source": [
    "hasNaN = [data for data in range(len(df2['FIRST APPEARANCE'])) if pd.isna(df2.iloc[data]['FIRST APPEARANCE'])]\n",
    "temp_df = df2.iloc[hasNaN]"
   ]
  },
  {
   "cell_type": "code",
   "execution_count": null,
   "metadata": {},
   "outputs": [],
   "source": [
    "temp_df"
   ]
  },
  {
   "cell_type": "markdown",
   "metadata": {},
   "source": [
    "As can be seen above, Marvel has some rows have multiple columns with NaN. We can delete such rows as they are not giving much information."
   ]
  },
  {
   "cell_type": "code",
   "execution_count": null,
   "metadata": {},
   "outputs": [],
   "source": [
    "for index, row in temp_df.iterrows():\n",
    "    if pd.isna(temp_df.loc[index]['APPEARANCES']) and pd.isna(temp_df.loc[index]['FIRST APPEARANCE']):\n",
    "        df2.drop(index, inplace= True)"
   ]
  },
  {
   "cell_type": "code",
   "execution_count": null,
   "metadata": {},
   "outputs": [],
   "source": [
    "df2"
   ]
  },
  {
   "cell_type": "markdown",
   "metadata": {},
   "source": [
    "We can drop page_id and urlslug attributes for our analysis here as they are redundant data. Also since we have finished analyzing GSM attributes we can drop it now"
   ]
  },
  {
   "cell_type": "code",
   "execution_count": null,
   "metadata": {},
   "outputs": [],
   "source": [
    "df2 = df2.drop(columns = ['GSM', 'page_id', 'urlslug'])\n",
    "hasNaN = df2.isna().any(axis=1)\n",
    "df2[hasNaN]"
   ]
  },
  {
   "cell_type": "code",
   "execution_count": null,
   "metadata": {
    "scrolled": true
   },
   "outputs": [],
   "source": [
    "df2"
   ]
  },
  {
   "cell_type": "markdown",
   "metadata": {},
   "source": [
    "Let us work on the DC First Appearance month column"
   ]
  },
  {
   "cell_type": "code",
   "execution_count": null,
   "metadata": {},
   "outputs": [],
   "source": [
    "for index, row in df1.iterrows():\n",
    "    if pd.notna(df1.iloc[index]['FIRST APPEARANCE']):\n",
    "        if df1.iloc[index]['FIRST APPEARANCE'].isdigit():\n",
    "            df1.at[index, 'FIRST APPEARANCE'] = np.nan\n",
    "        elif df1.iloc[index]['FIRST APPEARANCE'] == \" Holiday\":\n",
    "            df1.at[index, 'FIRST APPEARANCE'] = ' December'"
   ]
  },
  {
   "cell_type": "code",
   "execution_count": null,
   "metadata": {},
   "outputs": [],
   "source": [
    "df1['FIRST APPEARANCE'].value_counts()"
   ]
  },
  {
   "cell_type": "code",
   "execution_count": null,
   "metadata": {},
   "outputs": [],
   "source": [
    "print(\"Percentage of missing first appearance data = {:.2f}\".format(100* df1['FIRST APPEARANCE'].isna().sum() / len(df1['FIRST APPEARANCE'])))"
   ]
  },
  {
   "cell_type": "markdown",
   "metadata": {},
   "source": [
    "Let us work on the Marvel First Appearance month column"
   ]
  },
  {
   "cell_type": "code",
   "execution_count": null,
   "metadata": {},
   "outputs": [],
   "source": [
    "for index, row in df2.iterrows():\n",
    "    if pd.notna(df2.iloc[index]['FIRST APPEARANCE']):\n",
    "        if df2.iloc[index]['FIRST APPEARANCE'].isdigit():\n",
    "            df2.at[index, 'FIRST APPEARANCE'] = np.nan"
   ]
  },
  {
   "cell_type": "code",
   "execution_count": null,
   "metadata": {},
   "outputs": [],
   "source": [
    "df2['FIRST APPEARANCE'].value_counts()"
   ]
  },
  {
   "cell_type": "code",
   "execution_count": null,
   "metadata": {},
   "outputs": [],
   "source": [
    "print(\"Percentage of missing first appearance data = {:.2f}\".format(100* df2['FIRST APPEARANCE'].isna().sum() / len(df2['FIRST APPEARANCE'])))"
   ]
  },
  {
   "cell_type": "markdown",
   "metadata": {},
   "source": [
    "Filling the missing values for the first appearance attribute can be looked at in many ways. The straightforward approach would we to fill missing values with the mode of the set. But this can also be analyzed in the following way: For the character which has a missing month, see the year when it was released. This year would also have many characters that would have other characters released. Since the workload for a year is not uniform across years, we may need to use the mode of a particular year to determine which month the character was released."
   ]
  },
  {
   "cell_type": "code",
   "execution_count": null,
   "metadata": {},
   "outputs": [],
   "source": []
  },
  {
   "cell_type": "code",
   "execution_count": null,
   "metadata": {
    "scrolled": true
   },
   "outputs": [],
   "source": [
    "for col in df1.columns:\n",
    "    print(\"There are {} missing values in attribute {}\". format(df1[col].isna().sum(), col))"
   ]
  },
  {
   "cell_type": "markdown",
   "metadata": {},
   "source": [
    "Attribute Appearances seems to have 345 missing values. Let us have a look at these data."
   ]
  },
  {
   "cell_type": "code",
   "execution_count": null,
   "metadata": {},
   "outputs": [],
   "source": [
    "hasNaN = df1['APPEARANCES'].isna()"
   ]
  },
  {
   "cell_type": "code",
   "execution_count": null,
   "metadata": {},
   "outputs": [],
   "source": [
    "temp = df1[hasNaN]\n",
    "temp"
   ]
  },
  {
   "cell_type": "markdown",
   "metadata": {},
   "source": [
    "For the number of appearances made, we can safely assume that these characters were introduced atlease once in the\n",
    "comic universe."
   ]
  },
  {
   "cell_type": "code",
   "execution_count": null,
   "metadata": {},
   "outputs": [],
   "source": [
    "for index,rows in temp.iterrows():\n",
    "    df1.at[index, 'APPEARANCES'] = 1"
   ]
  },
  {
   "cell_type": "code",
   "execution_count": null,
   "metadata": {},
   "outputs": [],
   "source": [
    "df1"
   ]
  },
  {
   "cell_type": "markdown",
   "metadata": {},
   "source": [
    "Another interesting observation from the data is that the rows have been arranged in the decreasing order of the number of appearances."
   ]
  },
  {
   "cell_type": "code",
   "execution_count": null,
   "metadata": {
    "scrolled": true
   },
   "outputs": [],
   "source": [
    "for col in df2.columns:\n",
    "    print(\"There are {} missing values in attribute {}\". format(df2[col].isna().sum(), col))"
   ]
  },
  {
   "cell_type": "markdown",
   "metadata": {},
   "source": [
    "Attribute Appearances seems to have 896 missing values. Let us have a look at these data."
   ]
  },
  {
   "cell_type": "code",
   "execution_count": null,
   "metadata": {},
   "outputs": [],
   "source": [
    "hasNaN = df2['APPEARANCES'].isna()"
   ]
  },
  {
   "cell_type": "code",
   "execution_count": null,
   "metadata": {},
   "outputs": [],
   "source": [
    "temp = df2[hasNaN]\n",
    "temp"
   ]
  },
  {
   "cell_type": "markdown",
   "metadata": {},
   "source": [
    "For the number of appearances made, we can safely assume that these characters were introduced atlease once in the\n",
    "comic universe."
   ]
  },
  {
   "cell_type": "code",
   "execution_count": null,
   "metadata": {},
   "outputs": [],
   "source": [
    "for index,rows in temp.iterrows():\n",
    "    df2.at[index, 'APPEARANCES'] = 1"
   ]
  },
  {
   "cell_type": "code",
   "execution_count": null,
   "metadata": {},
   "outputs": [],
   "source": [
    "df2"
   ]
  },
  {
   "cell_type": "markdown",
   "metadata": {},
   "source": [
    "Another interesting observation from the data is that the rows have been arranged in the decreasing order of the number of appearances."
   ]
  },
  {
   "cell_type": "markdown",
   "metadata": {},
   "source": [
    "Let us look at the year attribute"
   ]
  },
  {
   "cell_type": "code",
   "execution_count": null,
   "metadata": {},
   "outputs": [],
   "source": [
    "df1.YEAR.isna().sum()"
   ]
  },
  {
   "cell_type": "markdown",
   "metadata": {},
   "source": [
    "60 of these data are missing. Let us have a look at these 60 rows to see if we get some hint on what the missing year could be"
   ]
  },
  {
   "cell_type": "code",
   "execution_count": null,
   "metadata": {},
   "outputs": [],
   "source": [
    "hasNaN = df1.YEAR.isna()\n",
    "temp = df1[hasNaN]"
   ]
  },
  {
   "cell_type": "code",
   "execution_count": null,
   "metadata": {
    "scrolled": false
   },
   "outputs": [],
   "source": [
    "temp.sample(10)"
   ]
  },
  {
   "cell_type": "markdown",
   "metadata": {},
   "source": [
    "We dont see any useful information here other than the fact that some characters have multiple missing attributes. We will impute the year values by the median year. "
   ]
  },
  {
   "cell_type": "code",
   "execution_count": null,
   "metadata": {},
   "outputs": [],
   "source": [
    "print(\"Median year of DC data set is {}\".format(int(df1.YEAR.median())))\n",
    "print(\"We will impute this value to missing year cells\")"
   ]
  },
  {
   "cell_type": "code",
   "execution_count": null,
   "metadata": {},
   "outputs": [],
   "source": [
    "df1.at[df1['YEAR'].isna(), 'YEAR'] = int(df1.YEAR.median())"
   ]
  },
  {
   "cell_type": "code",
   "execution_count": null,
   "metadata": {},
   "outputs": [],
   "source": [
    "df1.isna().sum()"
   ]
  },
  {
   "cell_type": "markdown",
   "metadata": {},
   "source": [
    "For Marvel lets look  at the year attribute"
   ]
  },
  {
   "cell_type": "code",
   "execution_count": null,
   "metadata": {},
   "outputs": [],
   "source": [
    "hasNaN = df2.Year.isna()\n",
    "temp = df2[hasNaN]"
   ]
  },
  {
   "cell_type": "code",
   "execution_count": null,
   "metadata": {},
   "outputs": [],
   "source": [
    "temp"
   ]
  },
  {
   "cell_type": "code",
   "execution_count": null,
   "metadata": {},
   "outputs": [],
   "source": [
    "print(\"Median year of marvel data set is {}\".format(int(df2.Year.median())))\n",
    "print(\"We will impute this value to missing year cells\")"
   ]
  },
  {
   "cell_type": "code",
   "execution_count": null,
   "metadata": {},
   "outputs": [],
   "source": [
    "df2.at[df2['Year'].isna(), 'Year'] = int(df2.Year.median())"
   ]
  },
  {
   "cell_type": "code",
   "execution_count": null,
   "metadata": {},
   "outputs": [],
   "source": [
    "df2.isna().sum()"
   ]
  },
  {
   "cell_type": "code",
   "execution_count": null,
   "metadata": {},
   "outputs": [],
   "source": [
    "fig = plt.figure(figsize=(12,4), dpi=75)\n",
    "fig.suptitle(\"DC Comics\")\n",
    "ax1 = fig.add_subplot(122)\n",
    "df1.YEAR.hist(bins=20)\n",
    "ax1.set_xlabel(\"Year\")\n",
    "ax1.set_ylabel(\"No. of characters introduced\")\n",
    "ax1.set_title(\"after pre processing\")\n",
    "\n",
    "ax2 = fig.add_subplot(121)\n",
    "dc_df.YEAR.hist(bins=20)\n",
    "ax2.set_xlabel(\"Year\")\n",
    "ax2.set_ylabel(\"No. of characters introduced\")\n",
    "ax2.set_title(\"before pre processing\")\n",
    "plt.show()"
   ]
  },
  {
   "cell_type": "code",
   "execution_count": null,
   "metadata": {},
   "outputs": [],
   "source": [
    "fig = plt.figure(figsize=(12,4), dpi=75)\n",
    "fig.suptitle(\"Marvel\")\n",
    "ax1 = fig.add_subplot(122)\n",
    "df2.Year.hist(bins=20)\n",
    "ax1.set_xlabel(\"Year\")\n",
    "ax1.set_ylabel(\"No. of characters introduced\")\n",
    "ax1.set_title(\"after pre processing\")\n",
    "\n",
    "ax2 = fig.add_subplot(121)\n",
    "marvel_df.Year.hist(bins=20)\n",
    "ax2.set_xlabel(\"Year\")\n",
    "ax2.set_ylabel(\"No. of characters introduced\")\n",
    "ax2.set_title(\"before pre processing\")\n",
    "plt.show()"
   ]
  },
  {
   "cell_type": "markdown",
   "metadata": {},
   "source": [
    "As can be seen from the above two plots replacing NaN with the median year has not changed the distribution of characters introduced every year. Also the year 1950-1960 has seen the least number of characters introduced. This can be attributed to Comic Code Authority organization that was set up in 1954s. This resulted in widespread censorhsip of comics during these times"
   ]
  },
  {
   "cell_type": "markdown",
   "metadata": {},
   "source": [
    "Let us now look at the sex attribute"
   ]
  },
  {
   "cell_type": "code",
   "execution_count": null,
   "metadata": {},
   "outputs": [],
   "source": [
    "data1 = df1['SEX'].value_counts(normalize = 'True')*100\n",
    "labels1 = data1.keys()\n",
    "data2 = df2['SEX'].value_counts(normalize = 'True')*100\n",
    "labels2= data2.keys()"
   ]
  },
  {
   "cell_type": "code",
   "execution_count": null,
   "metadata": {},
   "outputs": [],
   "source": [
    "pie, ax = plt.subplots(figsize=[10,6])\n",
    "plt.pie(x=data1, autopct=\"%.1f%%\", explode=[0.1]*4, labels=labels1, pctdistance=0.5)\n",
    "plt.title(\"Distribution of Sex of characters\", fontsize=14);\n",
    "plt.show()"
   ]
  },
  {
   "cell_type": "code",
   "execution_count": null,
   "metadata": {},
   "outputs": [],
   "source": [
    "#Seaborn barplot\n",
    "sns.set_style(\"whitegrid\")\n",
    "fig = plt.figure(figsize=(12,4), dpi=75)\n",
    "ax1 = fig.add_subplot(111)\n",
    "sns.barplot(x=labels1, y=data1, ci=None, palette=\"muted\",orient='v', ax=ax1)\n",
    "ax1.set_title(\"Sex of characters in DC\", fontsize=15)\n",
    "ax1.set_xlabel (\"Sex\")\n",
    "ax1.set_ylabel (\"% of characters\")\n",
    "plt.show()"
   ]
  },
  {
   "cell_type": "code",
   "execution_count": null,
   "metadata": {},
   "outputs": [],
   "source": [
    "sns.set_style(\"whitegrid\")\n",
    "fig = plt.figure(figsize=(12,4), dpi=75)\n",
    "ax2 = fig.add_subplot(111)\n",
    "sns.barplot(x=labels2, y=data2, ci=None, palette=\"muted\",orient='v', ax=ax2)\n",
    "ax2.set_title(\"Sex of characters in Marvel\", fontsize=15)\n",
    "ax2.set_xlabel (\"Sex\")\n",
    "ax2.set_ylabel (\"% of characters\")\n",
    "plt.show()"
   ]
  },
  {
   "cell_type": "markdown",
   "metadata": {},
   "source": [
    "As can be seen from the plots above majority of the characters in the DC and Marvel data sets are male characters, thus verifying the claim by the article"
   ]
  },
  {
   "cell_type": "code",
   "execution_count": null,
   "metadata": {},
   "outputs": [],
   "source": [
    "sns.set_style(\"whitegrid\")\n",
    "bar,ax = plt.subplots(figsize=(10,6))\n",
    "ax = sns.countplot(x=\"ALIGN\", hue=\"SEX\", data=df1)\n",
    "ax.set_title(\"Alignment of characters in DC\", fontsize=15)\n",
    "ax.set_xlabel (\"Type\")\n",
    "ax.set_ylabel (\"No. of characters\")\n",
    "plt.show()"
   ]
  },
  {
   "cell_type": "code",
   "execution_count": null,
   "metadata": {},
   "outputs": [],
   "source": [
    "sns.set_style(\"whitegrid\")\n",
    "bar,ax = plt.subplots(figsize=(10,6))\n",
    "ax = sns.countplot(x=\"ALIGN\", hue=\"SEX\", data=df2)\n",
    "ax.set_title(\"Alignment of characters in Marvel\", fontsize=15)\n",
    "ax.set_xlabel (\"Type\")\n",
    "ax.set_ylabel (\"No. of characters\")\n",
    "plt.show()"
   ]
  },
  {
   "cell_type": "markdown",
   "metadata": {},
   "source": [
    "Another claim that the article made was that the number of bad characters who were female were quite low in comparision to the number of bad male characters. This is also verified now. "
   ]
  },
  {
   "cell_type": "code",
   "execution_count": null,
   "metadata": {},
   "outputs": [],
   "source": [
    "sns.set_style(\"whitegrid\")\n",
    "bar,ax = plt.subplots(figsize=(20,6))\n",
    "ax = sns.countplot(x=\"EYE\", hue=\"SEX\", data=df1)\n",
    "ax.set_title(\"Eye Color of characters in DC\", fontsize=15)\n",
    "ax.set_xlabel (\"Type\")\n",
    "ax.set_ylabel (\"No. of characters\")\n",
    "plt.show()"
   ]
  },
  {
   "cell_type": "code",
   "execution_count": null,
   "metadata": {},
   "outputs": [],
   "source": [
    "sns.set_style(\"whitegrid\")\n",
    "bar,ax = plt.subplots(figsize=(20,6))\n",
    "ax = sns.countplot(x=\"EYE\", hue=\"SEX\", data=df2)\n",
    "ax.set_title(\"Eye Color of characters in Marvel\", fontsize=15)\n",
    "ax.set_xlabel (\"Type\")\n",
    "ax.set_ylabel (\"No. of characters\")\n",
    "plt.show()"
   ]
  },
  {
   "cell_type": "markdown",
   "metadata": {},
   "source": [
    "As see from the plot above, there are too many types of eye color. We can categorize these into {Blue, brown, black, green, red, white and other} where other includes all other colors."
   ]
  },
  {
   "cell_type": "code",
   "execution_count": null,
   "metadata": {},
   "outputs": [],
   "source": [
    "df1.EYE.value_counts()"
   ]
  },
  {
   "cell_type": "code",
   "execution_count": null,
   "metadata": {},
   "outputs": [],
   "source": [
    "eye_cat = df1.EYE.value_counts().head(6).keys().tolist()\n",
    "eye_cat\n",
    "for index, rows in df1.iterrows():\n",
    "    if df1.iloc[index]['EYE'] not in eye_cat and pd.notna(df1.iloc[index]['EYE']):\n",
    "        df1.at[index, 'EYE'] = 'Others'"
   ]
  },
  {
   "cell_type": "code",
   "execution_count": null,
   "metadata": {},
   "outputs": [],
   "source": [
    "df1.EYE.value_counts()"
   ]
  },
  {
   "cell_type": "code",
   "execution_count": null,
   "metadata": {},
   "outputs": [],
   "source": [
    "eye_cat = df2.EYE.value_counts().head(6).keys().tolist()\n",
    "eye_cat\n",
    "for index, rows in df2.iterrows():\n",
    "    if df2.iloc[index]['EYE'] not in eye_cat and pd.notna(df2.iloc[index]['EYE']):\n",
    "        df2.at[index, 'EYE'] = 'Others'"
   ]
  },
  {
   "cell_type": "code",
   "execution_count": null,
   "metadata": {},
   "outputs": [],
   "source": [
    "sns.set_style(\"whitegrid\")\n",
    "bar,ax = plt.subplots(figsize=(20,6))\n",
    "ax = sns.countplot(x=\"EYE\", hue=\"SEX\", data=df1)\n",
    "ax.set_title(\"Eye Color of characters in DC\", fontsize=15)\n",
    "ax.set_xlabel (\"Type\")\n",
    "ax.set_ylabel (\"No. of characters\")\n",
    "plt.show()"
   ]
  },
  {
   "cell_type": "code",
   "execution_count": null,
   "metadata": {},
   "outputs": [],
   "source": [
    "sns.set_style(\"whitegrid\")\n",
    "bar,ax = plt.subplots(figsize=(20,6))\n",
    "ax = sns.countplot(x=\"EYE\", hue=\"SEX\", data=df2)\n",
    "ax.set_title(\"Eye Color of characters in Marvel\", fontsize=15)\n",
    "ax.set_xlabel (\"Type\")\n",
    "ax.set_ylabel (\"No. of characters\")\n",
    "plt.show()"
   ]
  },
  {
   "cell_type": "markdown",
   "metadata": {},
   "source": [
    "It has now become easier to visually anaylyze this data."
   ]
  },
  {
   "cell_type": "code",
   "execution_count": null,
   "metadata": {},
   "outputs": [],
   "source": [
    "hair_cat = df1.HAIR.value_counts().head(6).keys().tolist()\n",
    "for index, rows in df1.iterrows():\n",
    "    if df1.iloc[index]['HAIR'] not in hair_cat and pd.notna(df1.iloc[index]['HAIR']):\n",
    "        df1.at[index, 'HAIR'] = 'Others'"
   ]
  },
  {
   "cell_type": "code",
   "execution_count": null,
   "metadata": {},
   "outputs": [],
   "source": [
    "sns.set_style(\"whitegrid\")\n",
    "bar,ax = plt.subplots(figsize=(10,6))\n",
    "ax = sns.countplot(x=\"HAIR\", hue=\"SEX\", data=df1)\n",
    "ax.set_title(\"Hair color of characters in DC\", fontsize=15)\n",
    "ax.set_xlabel (\"Type\")\n",
    "ax.set_ylabel (\"No. of characters\")\n",
    "plt.show()"
   ]
  },
  {
   "cell_type": "code",
   "execution_count": null,
   "metadata": {},
   "outputs": [],
   "source": [
    "hair_cat = df2.HAIR.value_counts().head(6).keys().tolist()\n",
    "for index, rows in df2.iterrows():\n",
    "    if df2.iloc[index]['HAIR'] not in hair_cat and pd.notna(df2.iloc[index]['HAIR']):\n",
    "        df2.at[index, 'HAIR'] = 'Others'"
   ]
  },
  {
   "cell_type": "code",
   "execution_count": null,
   "metadata": {},
   "outputs": [],
   "source": [
    "sns.set_style(\"whitegrid\")\n",
    "bar,ax = plt.subplots(figsize=(10,6))\n",
    "ax = sns.countplot(x=\"HAIR\", hue=\"SEX\", data=df2)\n",
    "ax.set_title(\"Hair color of characters in Marvel\", fontsize=15)\n",
    "ax.set_xlabel (\"Type\")\n",
    "ax.set_ylabel (\"No. of characters\")\n",
    "plt.show()"
   ]
  },
  {
   "cell_type": "markdown",
   "metadata": {},
   "source": [
    "We are still left with preprocessing the first appearance month. "
   ]
  },
  {
   "cell_type": "code",
   "execution_count": null,
   "metadata": {},
   "outputs": [],
   "source": [
    "temp = df1[df1['YEAR'].between(df1['YEAR'].median() -1, df1['YEAR'].median() + 1)]"
   ]
  },
  {
   "cell_type": "code",
   "execution_count": null,
   "metadata": {},
   "outputs": [],
   "source": [
    "temp['FIRST APPEARANCE'].value_counts()"
   ]
  },
  {
   "cell_type": "code",
   "execution_count": null,
   "metadata": {},
   "outputs": [],
   "source": [
    "hasNaN = [data for data in range(len(df1['FIRST APPEARANCE'])) \\\n",
    "          if pd.isna(dc_df.iloc[data]['FIRST APPEARANCE']) and pd.notna(df1.iloc[data]['YEAR'])]\n",
    "temp_df = df1.iloc[hasNaN]\n",
    "temp_df.YEAR.value_counts()"
   ]
  },
  {
   "cell_type": "markdown",
   "metadata": {},
   "source": [
    "The above analysis shows that missing month corresponds to year 1992 which is the median year. So we can use the mode of the months to fill this missing value. But the mode needs to be computed only for an interval of years, because a creator needs 1-2 years to create a comic character. We see that in the year [1991-1993], most of the characters were released in August/December. So one possible approach is to fill the months with August/December selected at random. We can also randomly select from the list of 12 months and fill the missing months"
   ]
  },
  {
   "cell_type": "code",
   "execution_count": null,
   "metadata": {},
   "outputs": [],
   "source": [
    "months = temp['FIRST APPEARANCE'].value_counts().keys().tolist()\n",
    "for index, rows in df1.iterrows():\n",
    "    if pd.isna(df1.iloc[index]['FIRST APPEARANCE']):\n",
    "        df1.at[index, 'FIRST APPEARANCE'] = np.random.choice(months)"
   ]
  },
  {
   "cell_type": "code",
   "execution_count": null,
   "metadata": {},
   "outputs": [],
   "source": [
    "df1['FIRST APPEARANCE'].value_counts()"
   ]
  },
  {
   "cell_type": "code",
   "execution_count": null,
   "metadata": {},
   "outputs": [],
   "source": [
    "temp = df2[df2['Year'].between(df2['Year'].median() -1, df2['Year'].median() + 1)]"
   ]
  },
  {
   "cell_type": "code",
   "execution_count": null,
   "metadata": {},
   "outputs": [],
   "source": [
    "months = temp['FIRST APPEARANCE'].value_counts().keys().tolist()\n",
    "for index, rows in df2.iterrows():\n",
    "    if pd.isna(df2.iloc[index]['FIRST APPEARANCE']):\n",
    "        df2.at[index, 'FIRST APPEARANCE'] = np.random.choice(months)"
   ]
  },
  {
   "cell_type": "code",
   "execution_count": null,
   "metadata": {},
   "outputs": [],
   "source": [
    "df2['FIRST APPEARANCE'].value_counts()"
   ]
  },
  {
   "cell_type": "code",
   "execution_count": null,
   "metadata": {},
   "outputs": [],
   "source": [
    "dc_df['FIRST APPEARANCE'].value_counts().head(10)"
   ]
  },
  {
   "cell_type": "code",
   "execution_count": null,
   "metadata": {},
   "outputs": [],
   "source": [
    "marvel_df['FIRST APPEARANCE'].value_counts().head(10)"
   ]
  },
  {
   "cell_type": "code",
   "execution_count": null,
   "metadata": {},
   "outputs": [],
   "source": [
    "df1.isna().sum()"
   ]
  },
  {
   "cell_type": "code",
   "execution_count": null,
   "metadata": {},
   "outputs": [],
   "source": [
    "df2.isna().sum()"
   ]
  },
  {
   "cell_type": "code",
   "execution_count": null,
   "metadata": {},
   "outputs": [],
   "source": [
    "fig = plt.figure(figsize=(12,4), dpi=75)\n",
    "fig.suptitle(\"Distribution of gender in comic characters\")\n",
    "ax1 = fig.add_subplot(121)\n",
    "ax1.set_title(\"DC\")\n",
    "temp = df1[(df1['SEX']=='Male Characters') | (df1['SEX']=='Female Characters')].SEX\n",
    "sns.boxplot(x=temp, y=df1['YEAR'], ax= ax1)\n",
    "ax2 = fig.add_subplot(122)\n",
    "ax2.set_title(\"Marvel\")\n",
    "temp = df2[(df2['SEX']=='Male Characters') | (df2['SEX']=='Female Characters')].SEX\n",
    "sns.boxplot(x=temp, y=df2['Year'], ax=ax2)\n",
    "plt.show()"
   ]
  },
  {
   "cell_type": "markdown",
   "metadata": {},
   "source": [
    "The above graph reiterates the point that female characters were introduced much later than the male conterparts for DC and Marvel"
   ]
  },
  {
   "cell_type": "code",
   "execution_count": null,
   "metadata": {},
   "outputs": [],
   "source": [
    "fig = plt.figure(figsize=(12,4), dpi=75)\n",
    "fig.suptitle(\"Distribution of hair color in comic characters\")\n",
    "ax3 = fig.add_subplot(111)\n",
    "ax3.set_title(\"DC\")\n",
    "temp2 = df1[(df1['APPEARANCES'] > 100 )& (df1['SEX']=='Male Characters') | (df1['SEX']=='Female Characters')]\n",
    "sns.barplot(x= \"HAIR\", y=\"APPEARANCES\", data = temp2, hue = 'SEX' ,ax=ax3)\n",
    "plt.show()"
   ]
  },
  {
   "cell_type": "code",
   "execution_count": null,
   "metadata": {},
   "outputs": [],
   "source": [
    "fig = plt.figure(figsize=(12,4), dpi=75)\n",
    "fig.suptitle(\"Distribution of hair color in comic characters\")\n",
    "ax3 = fig.add_subplot(111)\n",
    "ax3.set_title(\"Marvel\")\n",
    "temp2 = df2[(df2['APPEARANCES'] > 100 )& (df2['SEX']=='Male Characters') | (df2['SEX']=='Female Characters')]\n",
    "sns.barplot(x= \"HAIR\", y=\"APPEARANCES\", data = temp2, hue = 'SEX' ,ax=ax3)\n",
    "plt.show()"
   ]
  },
  {
   "cell_type": "markdown",
   "metadata": {},
   "source": [
    "The above plots show that characters in Marvel have bald and no hair which cannot be found DC data. Also males of all hair types are appearing more frequently than female."
   ]
  },
  {
   "cell_type": "code",
   "execution_count": null,
   "metadata": {},
   "outputs": [],
   "source": [
    "temp2.SEX.value_counts()"
   ]
  },
  {
   "cell_type": "code",
   "execution_count": null,
   "metadata": {},
   "outputs": [],
   "source": []
  }
 ],
 "metadata": {
  "kernelspec": {
   "display_name": "Python 3",
   "language": "python",
   "name": "python3"
  },
  "language_info": {
   "codemirror_mode": {
    "name": "ipython",
    "version": 3
   },
   "file_extension": ".py",
   "mimetype": "text/x-python",
   "name": "python",
   "nbconvert_exporter": "python",
   "pygments_lexer": "ipython3",
   "version": "3.7.4"
  }
 },
 "nbformat": 4,
 "nbformat_minor": 2
}
