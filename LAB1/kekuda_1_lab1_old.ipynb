{
 "cells": [
  {
   "cell_type": "markdown",
   "metadata": {},
   "source": [
    "# Requirement 1"
   ]
  },
  {
   "cell_type": "raw",
   "metadata": {},
   "source": [
    "The data is about the representation of women and transgenders in comics. Theere are two data sets. One from Marvel and other from DC. Both datasets have a set of attributes associated with them. The rows of the data set are comic book characters. Each character has a id, name and url unique to it. Then certain categorical atrributes are specified for these characters. We need to do an analysis between DC and Marvel set to determine which one has more gender descrimination. And the difeerences between the two data.\n",
    "\n",
    "The article mentions that in recent years there has been some efforsts to include women in comic books. THere has alos been a steady rise in comic book fans which are female. "
   ]
  },
  {
   "cell_type": "code",
   "execution_count": 1,
   "metadata": {},
   "outputs": [],
   "source": [
    "import pandas as pd\n",
    "import numpy as np\n",
    "import matplotlib.pyplot as plt\n",
    "%matplotlib inline\n",
    "import seaborn as sns"
   ]
  },
  {
   "cell_type": "code",
   "execution_count": null,
   "metadata": {},
   "outputs": [],
   "source": []
  },
  {
   "cell_type": "code",
   "execution_count": 2,
   "metadata": {},
   "outputs": [
    {
     "name": "stdout",
     "output_type": "stream",
     "text": [
      "File ‘data/dc-wikia-data.csv’ already there; not retrieving.\n",
      "\n",
      "File ‘data/marvel-wikia-data.csv’ already there; not retrieving.\n",
      "\n"
     ]
    }
   ],
   "source": [
    "!wget -nc -P data https://github.com/fivethirtyeight/data/blob/master/comic-characters/dc-wikia-data.csv\n",
    "!wget -nc -P data https://github.com/fivethirtyeight/data/blob/master/comic-characters/marvel-wikia-data.csv"
   ]
  },
  {
   "cell_type": "code",
   "execution_count": 3,
   "metadata": {},
   "outputs": [
    {
     "ename": "ParserError",
     "evalue": "Error tokenizing data. C error: Expected 1 fields in line 70, saw 2\n",
     "output_type": "error",
     "traceback": [
      "\u001b[0;31m---------------------------------------------------------------------------\u001b[0m",
      "\u001b[0;31mParserError\u001b[0m                               Traceback (most recent call last)",
      "\u001b[0;32m<ipython-input-3-6200036124dd>\u001b[0m in \u001b[0;36m<module>\u001b[0;34m\u001b[0m\n\u001b[0;32m----> 1\u001b[0;31m \u001b[0mdf1\u001b[0m \u001b[0;34m=\u001b[0m \u001b[0mpd\u001b[0m\u001b[0;34m.\u001b[0m\u001b[0mread_csv\u001b[0m\u001b[0;34m(\u001b[0m\u001b[0;34m'data/dc-wikia-data.csv'\u001b[0m\u001b[0;34m)\u001b[0m\u001b[0;34m\u001b[0m\u001b[0;34m\u001b[0m\u001b[0m\n\u001b[0m\u001b[1;32m      2\u001b[0m \u001b[0mdf2\u001b[0m \u001b[0;34m=\u001b[0m \u001b[0mpd\u001b[0m\u001b[0;34m.\u001b[0m\u001b[0mread_csv\u001b[0m\u001b[0;34m(\u001b[0m\u001b[0;34m'data/marvel-wikia-data.csv'\u001b[0m\u001b[0;34m)\u001b[0m\u001b[0;34m\u001b[0m\u001b[0;34m\u001b[0m\u001b[0m\n",
      "\u001b[0;32m~/anaconda3/lib/python3.7/site-packages/pandas/io/parsers.py\u001b[0m in \u001b[0;36mparser_f\u001b[0;34m(filepath_or_buffer, sep, delimiter, header, names, index_col, usecols, squeeze, prefix, mangle_dupe_cols, dtype, engine, converters, true_values, false_values, skipinitialspace, skiprows, skipfooter, nrows, na_values, keep_default_na, na_filter, verbose, skip_blank_lines, parse_dates, infer_datetime_format, keep_date_col, date_parser, dayfirst, cache_dates, iterator, chunksize, compression, thousands, decimal, lineterminator, quotechar, quoting, doublequote, escapechar, comment, encoding, dialect, error_bad_lines, warn_bad_lines, delim_whitespace, low_memory, memory_map, float_precision)\u001b[0m\n\u001b[1;32m    683\u001b[0m         )\n\u001b[1;32m    684\u001b[0m \u001b[0;34m\u001b[0m\u001b[0m\n\u001b[0;32m--> 685\u001b[0;31m         \u001b[0;32mreturn\u001b[0m \u001b[0m_read\u001b[0m\u001b[0;34m(\u001b[0m\u001b[0mfilepath_or_buffer\u001b[0m\u001b[0;34m,\u001b[0m \u001b[0mkwds\u001b[0m\u001b[0;34m)\u001b[0m\u001b[0;34m\u001b[0m\u001b[0;34m\u001b[0m\u001b[0m\n\u001b[0m\u001b[1;32m    686\u001b[0m \u001b[0;34m\u001b[0m\u001b[0m\n\u001b[1;32m    687\u001b[0m     \u001b[0mparser_f\u001b[0m\u001b[0;34m.\u001b[0m\u001b[0m__name__\u001b[0m \u001b[0;34m=\u001b[0m \u001b[0mname\u001b[0m\u001b[0;34m\u001b[0m\u001b[0;34m\u001b[0m\u001b[0m\n",
      "\u001b[0;32m~/anaconda3/lib/python3.7/site-packages/pandas/io/parsers.py\u001b[0m in \u001b[0;36m_read\u001b[0;34m(filepath_or_buffer, kwds)\u001b[0m\n\u001b[1;32m    461\u001b[0m \u001b[0;34m\u001b[0m\u001b[0m\n\u001b[1;32m    462\u001b[0m     \u001b[0;32mtry\u001b[0m\u001b[0;34m:\u001b[0m\u001b[0;34m\u001b[0m\u001b[0;34m\u001b[0m\u001b[0m\n\u001b[0;32m--> 463\u001b[0;31m         \u001b[0mdata\u001b[0m \u001b[0;34m=\u001b[0m \u001b[0mparser\u001b[0m\u001b[0;34m.\u001b[0m\u001b[0mread\u001b[0m\u001b[0;34m(\u001b[0m\u001b[0mnrows\u001b[0m\u001b[0;34m)\u001b[0m\u001b[0;34m\u001b[0m\u001b[0;34m\u001b[0m\u001b[0m\n\u001b[0m\u001b[1;32m    464\u001b[0m     \u001b[0;32mfinally\u001b[0m\u001b[0;34m:\u001b[0m\u001b[0;34m\u001b[0m\u001b[0;34m\u001b[0m\u001b[0m\n\u001b[1;32m    465\u001b[0m         \u001b[0mparser\u001b[0m\u001b[0;34m.\u001b[0m\u001b[0mclose\u001b[0m\u001b[0;34m(\u001b[0m\u001b[0;34m)\u001b[0m\u001b[0;34m\u001b[0m\u001b[0;34m\u001b[0m\u001b[0m\n",
      "\u001b[0;32m~/anaconda3/lib/python3.7/site-packages/pandas/io/parsers.py\u001b[0m in \u001b[0;36mread\u001b[0;34m(self, nrows)\u001b[0m\n\u001b[1;32m   1152\u001b[0m     \u001b[0;32mdef\u001b[0m \u001b[0mread\u001b[0m\u001b[0;34m(\u001b[0m\u001b[0mself\u001b[0m\u001b[0;34m,\u001b[0m \u001b[0mnrows\u001b[0m\u001b[0;34m=\u001b[0m\u001b[0;32mNone\u001b[0m\u001b[0;34m)\u001b[0m\u001b[0;34m:\u001b[0m\u001b[0;34m\u001b[0m\u001b[0;34m\u001b[0m\u001b[0m\n\u001b[1;32m   1153\u001b[0m         \u001b[0mnrows\u001b[0m \u001b[0;34m=\u001b[0m \u001b[0m_validate_integer\u001b[0m\u001b[0;34m(\u001b[0m\u001b[0;34m\"nrows\"\u001b[0m\u001b[0;34m,\u001b[0m \u001b[0mnrows\u001b[0m\u001b[0;34m)\u001b[0m\u001b[0;34m\u001b[0m\u001b[0;34m\u001b[0m\u001b[0m\n\u001b[0;32m-> 1154\u001b[0;31m         \u001b[0mret\u001b[0m \u001b[0;34m=\u001b[0m \u001b[0mself\u001b[0m\u001b[0;34m.\u001b[0m\u001b[0m_engine\u001b[0m\u001b[0;34m.\u001b[0m\u001b[0mread\u001b[0m\u001b[0;34m(\u001b[0m\u001b[0mnrows\u001b[0m\u001b[0;34m)\u001b[0m\u001b[0;34m\u001b[0m\u001b[0;34m\u001b[0m\u001b[0m\n\u001b[0m\u001b[1;32m   1155\u001b[0m \u001b[0;34m\u001b[0m\u001b[0m\n\u001b[1;32m   1156\u001b[0m         \u001b[0;31m# May alter columns / col_dict\u001b[0m\u001b[0;34m\u001b[0m\u001b[0;34m\u001b[0m\u001b[0;34m\u001b[0m\u001b[0m\n",
      "\u001b[0;32m~/anaconda3/lib/python3.7/site-packages/pandas/io/parsers.py\u001b[0m in \u001b[0;36mread\u001b[0;34m(self, nrows)\u001b[0m\n\u001b[1;32m   2057\u001b[0m     \u001b[0;32mdef\u001b[0m \u001b[0mread\u001b[0m\u001b[0;34m(\u001b[0m\u001b[0mself\u001b[0m\u001b[0;34m,\u001b[0m \u001b[0mnrows\u001b[0m\u001b[0;34m=\u001b[0m\u001b[0;32mNone\u001b[0m\u001b[0;34m)\u001b[0m\u001b[0;34m:\u001b[0m\u001b[0;34m\u001b[0m\u001b[0;34m\u001b[0m\u001b[0m\n\u001b[1;32m   2058\u001b[0m         \u001b[0;32mtry\u001b[0m\u001b[0;34m:\u001b[0m\u001b[0;34m\u001b[0m\u001b[0;34m\u001b[0m\u001b[0m\n\u001b[0;32m-> 2059\u001b[0;31m             \u001b[0mdata\u001b[0m \u001b[0;34m=\u001b[0m \u001b[0mself\u001b[0m\u001b[0;34m.\u001b[0m\u001b[0m_reader\u001b[0m\u001b[0;34m.\u001b[0m\u001b[0mread\u001b[0m\u001b[0;34m(\u001b[0m\u001b[0mnrows\u001b[0m\u001b[0;34m)\u001b[0m\u001b[0;34m\u001b[0m\u001b[0;34m\u001b[0m\u001b[0m\n\u001b[0m\u001b[1;32m   2060\u001b[0m         \u001b[0;32mexcept\u001b[0m \u001b[0mStopIteration\u001b[0m\u001b[0;34m:\u001b[0m\u001b[0;34m\u001b[0m\u001b[0;34m\u001b[0m\u001b[0m\n\u001b[1;32m   2061\u001b[0m             \u001b[0;32mif\u001b[0m \u001b[0mself\u001b[0m\u001b[0;34m.\u001b[0m\u001b[0m_first_chunk\u001b[0m\u001b[0;34m:\u001b[0m\u001b[0;34m\u001b[0m\u001b[0;34m\u001b[0m\u001b[0m\n",
      "\u001b[0;32mpandas/_libs/parsers.pyx\u001b[0m in \u001b[0;36mpandas._libs.parsers.TextReader.read\u001b[0;34m()\u001b[0m\n",
      "\u001b[0;32mpandas/_libs/parsers.pyx\u001b[0m in \u001b[0;36mpandas._libs.parsers.TextReader._read_low_memory\u001b[0;34m()\u001b[0m\n",
      "\u001b[0;32mpandas/_libs/parsers.pyx\u001b[0m in \u001b[0;36mpandas._libs.parsers.TextReader._read_rows\u001b[0;34m()\u001b[0m\n",
      "\u001b[0;32mpandas/_libs/parsers.pyx\u001b[0m in \u001b[0;36mpandas._libs.parsers.TextReader._tokenize_rows\u001b[0;34m()\u001b[0m\n",
      "\u001b[0;32mpandas/_libs/parsers.pyx\u001b[0m in \u001b[0;36mpandas._libs.parsers.raise_parser_error\u001b[0;34m()\u001b[0m\n",
      "\u001b[0;31mParserError\u001b[0m: Error tokenizing data. C error: Expected 1 fields in line 70, saw 2\n"
     ]
    }
   ],
   "source": [
    "df1 = pd.read_csv('data/dc-wikia-data.csv')\n",
    "df2 = pd.read_csv('data/marvel-wikia-data.csv')"
   ]
  },
  {
   "cell_type": "code",
   "execution_count": 166,
   "metadata": {},
   "outputs": [
    {
     "data": {
      "text/html": [
       "<div>\n",
       "<style scoped>\n",
       "    .dataframe tbody tr th:only-of-type {\n",
       "        vertical-align: middle;\n",
       "    }\n",
       "\n",
       "    .dataframe tbody tr th {\n",
       "        vertical-align: top;\n",
       "    }\n",
       "\n",
       "    .dataframe thead th {\n",
       "        text-align: right;\n",
       "    }\n",
       "</style>\n",
       "<table border=\"1\" class=\"dataframe\">\n",
       "  <thead>\n",
       "    <tr style=\"text-align: right;\">\n",
       "      <th></th>\n",
       "      <th>page_id</th>\n",
       "      <th>name</th>\n",
       "      <th>urlslug</th>\n",
       "      <th>ID</th>\n",
       "      <th>ALIGN</th>\n",
       "      <th>EYE</th>\n",
       "      <th>HAIR</th>\n",
       "      <th>SEX</th>\n",
       "      <th>GSM</th>\n",
       "      <th>ALIVE</th>\n",
       "      <th>APPEARANCES</th>\n",
       "      <th>FIRST APPEARANCE</th>\n",
       "      <th>YEAR</th>\n",
       "    </tr>\n",
       "  </thead>\n",
       "  <tbody>\n",
       "    <tr>\n",
       "      <td>0</td>\n",
       "      <td>1422</td>\n",
       "      <td>Batman (Bruce Wayne)</td>\n",
       "      <td>\\/wiki\\/Batman_(Bruce_Wayne)</td>\n",
       "      <td>Secret Identity</td>\n",
       "      <td>Good Characters</td>\n",
       "      <td>Blue Eyes</td>\n",
       "      <td>Black Hair</td>\n",
       "      <td>Male Characters</td>\n",
       "      <td>NaN</td>\n",
       "      <td>Living Characters</td>\n",
       "      <td>3093.0</td>\n",
       "      <td>1939, May</td>\n",
       "      <td>1939.0</td>\n",
       "    </tr>\n",
       "    <tr>\n",
       "      <td>1</td>\n",
       "      <td>23387</td>\n",
       "      <td>Superman (Clark Kent)</td>\n",
       "      <td>\\/wiki\\/Superman_(Clark_Kent)</td>\n",
       "      <td>Secret Identity</td>\n",
       "      <td>Good Characters</td>\n",
       "      <td>Blue Eyes</td>\n",
       "      <td>Black Hair</td>\n",
       "      <td>Male Characters</td>\n",
       "      <td>NaN</td>\n",
       "      <td>Living Characters</td>\n",
       "      <td>2496.0</td>\n",
       "      <td>1986, October</td>\n",
       "      <td>1986.0</td>\n",
       "    </tr>\n",
       "    <tr>\n",
       "      <td>2</td>\n",
       "      <td>1458</td>\n",
       "      <td>Green Lantern (Hal Jordan)</td>\n",
       "      <td>\\/wiki\\/Green_Lantern_(Hal_Jordan)</td>\n",
       "      <td>Secret Identity</td>\n",
       "      <td>Good Characters</td>\n",
       "      <td>Brown Eyes</td>\n",
       "      <td>Brown Hair</td>\n",
       "      <td>Male Characters</td>\n",
       "      <td>NaN</td>\n",
       "      <td>Living Characters</td>\n",
       "      <td>1565.0</td>\n",
       "      <td>1959, October</td>\n",
       "      <td>1959.0</td>\n",
       "    </tr>\n",
       "    <tr>\n",
       "      <td>3</td>\n",
       "      <td>1659</td>\n",
       "      <td>James Gordon (New Earth)</td>\n",
       "      <td>\\/wiki\\/James_Gordon_(New_Earth)</td>\n",
       "      <td>Public Identity</td>\n",
       "      <td>Good Characters</td>\n",
       "      <td>Brown Eyes</td>\n",
       "      <td>White Hair</td>\n",
       "      <td>Male Characters</td>\n",
       "      <td>NaN</td>\n",
       "      <td>Living Characters</td>\n",
       "      <td>1316.0</td>\n",
       "      <td>1987, February</td>\n",
       "      <td>1987.0</td>\n",
       "    </tr>\n",
       "    <tr>\n",
       "      <td>4</td>\n",
       "      <td>1576</td>\n",
       "      <td>Richard Grayson (New Earth)</td>\n",
       "      <td>\\/wiki\\/Richard_Grayson_(New_Earth)</td>\n",
       "      <td>Secret Identity</td>\n",
       "      <td>Good Characters</td>\n",
       "      <td>Blue Eyes</td>\n",
       "      <td>Black Hair</td>\n",
       "      <td>Male Characters</td>\n",
       "      <td>NaN</td>\n",
       "      <td>Living Characters</td>\n",
       "      <td>1237.0</td>\n",
       "      <td>1940, April</td>\n",
       "      <td>1940.0</td>\n",
       "    </tr>\n",
       "    <tr>\n",
       "      <td>5</td>\n",
       "      <td>1448</td>\n",
       "      <td>Wonder Woman (Diana Prince)</td>\n",
       "      <td>\\/wiki\\/Wonder_Woman_(Diana_Prince)</td>\n",
       "      <td>Public Identity</td>\n",
       "      <td>Good Characters</td>\n",
       "      <td>Blue Eyes</td>\n",
       "      <td>Black Hair</td>\n",
       "      <td>Female Characters</td>\n",
       "      <td>NaN</td>\n",
       "      <td>Living Characters</td>\n",
       "      <td>1231.0</td>\n",
       "      <td>1941, December</td>\n",
       "      <td>1941.0</td>\n",
       "    </tr>\n",
       "    <tr>\n",
       "      <td>6</td>\n",
       "      <td>1486</td>\n",
       "      <td>Aquaman (Arthur Curry)</td>\n",
       "      <td>\\/wiki\\/Aquaman_(Arthur_Curry)</td>\n",
       "      <td>Public Identity</td>\n",
       "      <td>Good Characters</td>\n",
       "      <td>Blue Eyes</td>\n",
       "      <td>Blond Hair</td>\n",
       "      <td>Male Characters</td>\n",
       "      <td>NaN</td>\n",
       "      <td>Living Characters</td>\n",
       "      <td>1121.0</td>\n",
       "      <td>1941, November</td>\n",
       "      <td>1941.0</td>\n",
       "    </tr>\n",
       "    <tr>\n",
       "      <td>7</td>\n",
       "      <td>1451</td>\n",
       "      <td>Timothy Drake (New Earth)</td>\n",
       "      <td>\\/wiki\\/Timothy_Drake_(New_Earth)</td>\n",
       "      <td>Secret Identity</td>\n",
       "      <td>Good Characters</td>\n",
       "      <td>Blue Eyes</td>\n",
       "      <td>Black Hair</td>\n",
       "      <td>Male Characters</td>\n",
       "      <td>NaN</td>\n",
       "      <td>Living Characters</td>\n",
       "      <td>1095.0</td>\n",
       "      <td>1989, August</td>\n",
       "      <td>1989.0</td>\n",
       "    </tr>\n",
       "    <tr>\n",
       "      <td>8</td>\n",
       "      <td>71760</td>\n",
       "      <td>Dinah Laurel Lance (New Earth)</td>\n",
       "      <td>\\/wiki\\/Dinah_Laurel_Lance_(New_Earth)</td>\n",
       "      <td>Public Identity</td>\n",
       "      <td>Good Characters</td>\n",
       "      <td>Blue Eyes</td>\n",
       "      <td>Blond Hair</td>\n",
       "      <td>Female Characters</td>\n",
       "      <td>NaN</td>\n",
       "      <td>Living Characters</td>\n",
       "      <td>1075.0</td>\n",
       "      <td>1969, November</td>\n",
       "      <td>1969.0</td>\n",
       "    </tr>\n",
       "    <tr>\n",
       "      <td>9</td>\n",
       "      <td>1380</td>\n",
       "      <td>Flash (Barry Allen)</td>\n",
       "      <td>\\/wiki\\/Flash_(Barry_Allen)</td>\n",
       "      <td>Secret Identity</td>\n",
       "      <td>Good Characters</td>\n",
       "      <td>Blue Eyes</td>\n",
       "      <td>Blond Hair</td>\n",
       "      <td>Male Characters</td>\n",
       "      <td>NaN</td>\n",
       "      <td>Living Characters</td>\n",
       "      <td>1028.0</td>\n",
       "      <td>1956, October</td>\n",
       "      <td>1956.0</td>\n",
       "    </tr>\n",
       "  </tbody>\n",
       "</table>\n",
       "</div>"
      ],
      "text/plain": [
       "   page_id                            name  \\\n",
       "0     1422            Batman (Bruce Wayne)   \n",
       "1    23387           Superman (Clark Kent)   \n",
       "2     1458      Green Lantern (Hal Jordan)   \n",
       "3     1659        James Gordon (New Earth)   \n",
       "4     1576     Richard Grayson (New Earth)   \n",
       "5     1448     Wonder Woman (Diana Prince)   \n",
       "6     1486          Aquaman (Arthur Curry)   \n",
       "7     1451       Timothy Drake (New Earth)   \n",
       "8    71760  Dinah Laurel Lance (New Earth)   \n",
       "9     1380             Flash (Barry Allen)   \n",
       "\n",
       "                                  urlslug               ID            ALIGN  \\\n",
       "0            \\/wiki\\/Batman_(Bruce_Wayne)  Secret Identity  Good Characters   \n",
       "1           \\/wiki\\/Superman_(Clark_Kent)  Secret Identity  Good Characters   \n",
       "2      \\/wiki\\/Green_Lantern_(Hal_Jordan)  Secret Identity  Good Characters   \n",
       "3        \\/wiki\\/James_Gordon_(New_Earth)  Public Identity  Good Characters   \n",
       "4     \\/wiki\\/Richard_Grayson_(New_Earth)  Secret Identity  Good Characters   \n",
       "5     \\/wiki\\/Wonder_Woman_(Diana_Prince)  Public Identity  Good Characters   \n",
       "6          \\/wiki\\/Aquaman_(Arthur_Curry)  Public Identity  Good Characters   \n",
       "7       \\/wiki\\/Timothy_Drake_(New_Earth)  Secret Identity  Good Characters   \n",
       "8  \\/wiki\\/Dinah_Laurel_Lance_(New_Earth)  Public Identity  Good Characters   \n",
       "9             \\/wiki\\/Flash_(Barry_Allen)  Secret Identity  Good Characters   \n",
       "\n",
       "          EYE        HAIR                SEX  GSM              ALIVE  \\\n",
       "0   Blue Eyes  Black Hair    Male Characters  NaN  Living Characters   \n",
       "1   Blue Eyes  Black Hair    Male Characters  NaN  Living Characters   \n",
       "2  Brown Eyes  Brown Hair    Male Characters  NaN  Living Characters   \n",
       "3  Brown Eyes  White Hair    Male Characters  NaN  Living Characters   \n",
       "4   Blue Eyes  Black Hair    Male Characters  NaN  Living Characters   \n",
       "5   Blue Eyes  Black Hair  Female Characters  NaN  Living Characters   \n",
       "6   Blue Eyes  Blond Hair    Male Characters  NaN  Living Characters   \n",
       "7   Blue Eyes  Black Hair    Male Characters  NaN  Living Characters   \n",
       "8   Blue Eyes  Blond Hair  Female Characters  NaN  Living Characters   \n",
       "9   Blue Eyes  Blond Hair    Male Characters  NaN  Living Characters   \n",
       "\n",
       "   APPEARANCES FIRST APPEARANCE    YEAR  \n",
       "0       3093.0        1939, May  1939.0  \n",
       "1       2496.0    1986, October  1986.0  \n",
       "2       1565.0    1959, October  1959.0  \n",
       "3       1316.0   1987, February  1987.0  \n",
       "4       1237.0      1940, April  1940.0  \n",
       "5       1231.0   1941, December  1941.0  \n",
       "6       1121.0   1941, November  1941.0  \n",
       "7       1095.0     1989, August  1989.0  \n",
       "8       1075.0   1969, November  1969.0  \n",
       "9       1028.0    1956, October  1956.0  "
      ]
     },
     "execution_count": 166,
     "metadata": {},
     "output_type": "execute_result"
    }
   ],
   "source": [
    "df1.head(10)"
   ]
  },
  {
   "cell_type": "code",
   "execution_count": 167,
   "metadata": {},
   "outputs": [
    {
     "data": {
      "text/html": [
       "<div>\n",
       "<style scoped>\n",
       "    .dataframe tbody tr th:only-of-type {\n",
       "        vertical-align: middle;\n",
       "    }\n",
       "\n",
       "    .dataframe tbody tr th {\n",
       "        vertical-align: top;\n",
       "    }\n",
       "\n",
       "    .dataframe thead th {\n",
       "        text-align: right;\n",
       "    }\n",
       "</style>\n",
       "<table border=\"1\" class=\"dataframe\">\n",
       "  <thead>\n",
       "    <tr style=\"text-align: right;\">\n",
       "      <th></th>\n",
       "      <th>page_id</th>\n",
       "      <th>name</th>\n",
       "      <th>urlslug</th>\n",
       "      <th>ID</th>\n",
       "      <th>ALIGN</th>\n",
       "      <th>EYE</th>\n",
       "      <th>HAIR</th>\n",
       "      <th>SEX</th>\n",
       "      <th>GSM</th>\n",
       "      <th>ALIVE</th>\n",
       "      <th>APPEARANCES</th>\n",
       "      <th>FIRST APPEARANCE</th>\n",
       "      <th>Year</th>\n",
       "    </tr>\n",
       "  </thead>\n",
       "  <tbody>\n",
       "    <tr>\n",
       "      <td>0</td>\n",
       "      <td>1678</td>\n",
       "      <td>Spider-Man (Peter Parker)</td>\n",
       "      <td>\\/Spider-Man_(Peter_Parker)</td>\n",
       "      <td>Secret Identity</td>\n",
       "      <td>Good Characters</td>\n",
       "      <td>Hazel Eyes</td>\n",
       "      <td>Brown Hair</td>\n",
       "      <td>Male Characters</td>\n",
       "      <td>NaN</td>\n",
       "      <td>Living Characters</td>\n",
       "      <td>4043.0</td>\n",
       "      <td>Aug-62</td>\n",
       "      <td>1962.0</td>\n",
       "    </tr>\n",
       "    <tr>\n",
       "      <td>1</td>\n",
       "      <td>7139</td>\n",
       "      <td>Captain America (Steven Rogers)</td>\n",
       "      <td>\\/Captain_America_(Steven_Rogers)</td>\n",
       "      <td>Public Identity</td>\n",
       "      <td>Good Characters</td>\n",
       "      <td>Blue Eyes</td>\n",
       "      <td>White Hair</td>\n",
       "      <td>Male Characters</td>\n",
       "      <td>NaN</td>\n",
       "      <td>Living Characters</td>\n",
       "      <td>3360.0</td>\n",
       "      <td>Mar-41</td>\n",
       "      <td>1941.0</td>\n",
       "    </tr>\n",
       "    <tr>\n",
       "      <td>2</td>\n",
       "      <td>64786</td>\n",
       "      <td>Wolverine (James \\\"Logan\\\" Howlett)</td>\n",
       "      <td>\\/Wolverine_(James_%22Logan%22_Howlett)</td>\n",
       "      <td>Public Identity</td>\n",
       "      <td>Neutral Characters</td>\n",
       "      <td>Blue Eyes</td>\n",
       "      <td>Black Hair</td>\n",
       "      <td>Male Characters</td>\n",
       "      <td>NaN</td>\n",
       "      <td>Living Characters</td>\n",
       "      <td>3061.0</td>\n",
       "      <td>Oct-74</td>\n",
       "      <td>1974.0</td>\n",
       "    </tr>\n",
       "    <tr>\n",
       "      <td>3</td>\n",
       "      <td>1868</td>\n",
       "      <td>Iron Man (Anthony \\\"Tony\\\" Stark)</td>\n",
       "      <td>\\/Iron_Man_(Anthony_%22Tony%22_Stark)</td>\n",
       "      <td>Public Identity</td>\n",
       "      <td>Good Characters</td>\n",
       "      <td>Blue Eyes</td>\n",
       "      <td>Black Hair</td>\n",
       "      <td>Male Characters</td>\n",
       "      <td>NaN</td>\n",
       "      <td>Living Characters</td>\n",
       "      <td>2961.0</td>\n",
       "      <td>Mar-63</td>\n",
       "      <td>1963.0</td>\n",
       "    </tr>\n",
       "    <tr>\n",
       "      <td>4</td>\n",
       "      <td>2460</td>\n",
       "      <td>Thor (Thor Odinson)</td>\n",
       "      <td>\\/Thor_(Thor_Odinson)</td>\n",
       "      <td>No Dual Identity</td>\n",
       "      <td>Good Characters</td>\n",
       "      <td>Blue Eyes</td>\n",
       "      <td>Blond Hair</td>\n",
       "      <td>Male Characters</td>\n",
       "      <td>NaN</td>\n",
       "      <td>Living Characters</td>\n",
       "      <td>2258.0</td>\n",
       "      <td>Nov-50</td>\n",
       "      <td>1950.0</td>\n",
       "    </tr>\n",
       "  </tbody>\n",
       "</table>\n",
       "</div>"
      ],
      "text/plain": [
       "   page_id                                 name  \\\n",
       "0     1678            Spider-Man (Peter Parker)   \n",
       "1     7139      Captain America (Steven Rogers)   \n",
       "2    64786  Wolverine (James \\\"Logan\\\" Howlett)   \n",
       "3     1868    Iron Man (Anthony \\\"Tony\\\" Stark)   \n",
       "4     2460                  Thor (Thor Odinson)   \n",
       "\n",
       "                                   urlslug                ID  \\\n",
       "0              \\/Spider-Man_(Peter_Parker)   Secret Identity   \n",
       "1        \\/Captain_America_(Steven_Rogers)   Public Identity   \n",
       "2  \\/Wolverine_(James_%22Logan%22_Howlett)   Public Identity   \n",
       "3    \\/Iron_Man_(Anthony_%22Tony%22_Stark)   Public Identity   \n",
       "4                    \\/Thor_(Thor_Odinson)  No Dual Identity   \n",
       "\n",
       "                ALIGN         EYE        HAIR              SEX  GSM  \\\n",
       "0     Good Characters  Hazel Eyes  Brown Hair  Male Characters  NaN   \n",
       "1     Good Characters   Blue Eyes  White Hair  Male Characters  NaN   \n",
       "2  Neutral Characters   Blue Eyes  Black Hair  Male Characters  NaN   \n",
       "3     Good Characters   Blue Eyes  Black Hair  Male Characters  NaN   \n",
       "4     Good Characters   Blue Eyes  Blond Hair  Male Characters  NaN   \n",
       "\n",
       "               ALIVE  APPEARANCES FIRST APPEARANCE    Year  \n",
       "0  Living Characters       4043.0           Aug-62  1962.0  \n",
       "1  Living Characters       3360.0           Mar-41  1941.0  \n",
       "2  Living Characters       3061.0           Oct-74  1974.0  \n",
       "3  Living Characters       2961.0           Mar-63  1963.0  \n",
       "4  Living Characters       2258.0           Nov-50  1950.0  "
      ]
     },
     "execution_count": 167,
     "metadata": {},
     "output_type": "execute_result"
    }
   ],
   "source": [
    "df2.head()"
   ]
  },
  {
   "cell_type": "code",
   "execution_count": 168,
   "metadata": {},
   "outputs": [
    {
     "data": {
      "text/plain": [
       "page_id               int64\n",
       "name                 object\n",
       "urlslug              object\n",
       "ID                   object\n",
       "ALIGN                object\n",
       "EYE                  object\n",
       "HAIR                 object\n",
       "SEX                  object\n",
       "GSM                  object\n",
       "ALIVE                object\n",
       "APPEARANCES         float64\n",
       "FIRST APPEARANCE     object\n",
       "YEAR                float64\n",
       "dtype: object"
      ]
     },
     "execution_count": 168,
     "metadata": {},
     "output_type": "execute_result"
    }
   ],
   "source": [
    "df1.dtypes"
   ]
  },
  {
   "cell_type": "code",
   "execution_count": 169,
   "metadata": {},
   "outputs": [
    {
     "data": {
      "text/plain": [
       "page_id               int64\n",
       "name                 object\n",
       "urlslug              object\n",
       "ID                   object\n",
       "ALIGN                object\n",
       "EYE                  object\n",
       "HAIR                 object\n",
       "SEX                  object\n",
       "GSM                  object\n",
       "ALIVE                object\n",
       "APPEARANCES         float64\n",
       "FIRST APPEARANCE     object\n",
       "Year                float64\n",
       "dtype: object"
      ]
     },
     "execution_count": 169,
     "metadata": {},
     "output_type": "execute_result"
    }
   ],
   "source": [
    "df2.dtypes"
   ]
  },
  {
   "cell_type": "code",
   "execution_count": 170,
   "metadata": {},
   "outputs": [
    {
     "name": "stdout",
     "output_type": "stream",
     "text": [
      "<class 'pandas.core.frame.DataFrame'>\n",
      "RangeIndex: 6896 entries, 0 to 6895\n",
      "Data columns (total 13 columns):\n",
      "page_id             6896 non-null int64\n",
      "name                6896 non-null object\n",
      "urlslug             6896 non-null object\n",
      "ID                  4883 non-null object\n",
      "ALIGN               6295 non-null object\n",
      "EYE                 3268 non-null object\n",
      "HAIR                4622 non-null object\n",
      "SEX                 6771 non-null object\n",
      "GSM                 64 non-null object\n",
      "ALIVE               6893 non-null object\n",
      "APPEARANCES         6541 non-null float64\n",
      "FIRST APPEARANCE    6827 non-null object\n",
      "YEAR                6827 non-null float64\n",
      "dtypes: float64(2), int64(1), object(10)\n",
      "memory usage: 700.5+ KB\n"
     ]
    }
   ],
   "source": [
    "df1.info()"
   ]
  },
  {
   "cell_type": "code",
   "execution_count": 171,
   "metadata": {},
   "outputs": [
    {
     "name": "stdout",
     "output_type": "stream",
     "text": [
      "<class 'pandas.core.frame.DataFrame'>\n",
      "RangeIndex: 16376 entries, 0 to 16375\n",
      "Data columns (total 13 columns):\n",
      "page_id             16376 non-null int64\n",
      "name                16376 non-null object\n",
      "urlslug             16376 non-null object\n",
      "ID                  12606 non-null object\n",
      "ALIGN               13564 non-null object\n",
      "EYE                 6609 non-null object\n",
      "HAIR                12112 non-null object\n",
      "SEX                 15522 non-null object\n",
      "GSM                 90 non-null object\n",
      "ALIVE               16373 non-null object\n",
      "APPEARANCES         15280 non-null float64\n",
      "FIRST APPEARANCE    15561 non-null object\n",
      "Year                15561 non-null float64\n",
      "dtypes: float64(2), int64(1), object(10)\n",
      "memory usage: 1.6+ MB\n"
     ]
    }
   ],
   "source": [
    "df2.info()"
   ]
  },
  {
   "cell_type": "markdown",
   "metadata": {},
   "source": [
    "# Requirement 2"
   ]
  },
  {
   "cell_type": "code",
   "execution_count": null,
   "metadata": {},
   "outputs": [],
   "source": []
  },
  {
   "cell_type": "code",
   "execution_count": 172,
   "metadata": {},
   "outputs": [],
   "source": [
    "enhanced_dictionary = pd.DataFrame(index=df1.columns, columns=['Range', 'Attribute type', 'Attribute desciption'])\n",
    "for name in df1.columns:\n",
    "    enhanced_dictionary.loc[name,'type'] = 'object'"
   ]
  },
  {
   "cell_type": "code",
   "execution_count": 173,
   "metadata": {},
   "outputs": [
    {
     "data": {
      "text/html": [
       "<div>\n",
       "<style scoped>\n",
       "    .dataframe tbody tr th:only-of-type {\n",
       "        vertical-align: middle;\n",
       "    }\n",
       "\n",
       "    .dataframe tbody tr th {\n",
       "        vertical-align: top;\n",
       "    }\n",
       "\n",
       "    .dataframe thead th {\n",
       "        text-align: right;\n",
       "    }\n",
       "</style>\n",
       "<table border=\"1\" class=\"dataframe\">\n",
       "  <thead>\n",
       "    <tr style=\"text-align: right;\">\n",
       "      <th></th>\n",
       "      <th>Range</th>\n",
       "      <th>Attribute type</th>\n",
       "      <th>Attribute desciption</th>\n",
       "      <th>type</th>\n",
       "    </tr>\n",
       "  </thead>\n",
       "  <tbody>\n",
       "    <tr>\n",
       "      <td>page_id</td>\n",
       "      <td>NaN</td>\n",
       "      <td>NaN</td>\n",
       "      <td>NaN</td>\n",
       "      <td>object</td>\n",
       "    </tr>\n",
       "    <tr>\n",
       "      <td>name</td>\n",
       "      <td>NaN</td>\n",
       "      <td>NaN</td>\n",
       "      <td>NaN</td>\n",
       "      <td>object</td>\n",
       "    </tr>\n",
       "    <tr>\n",
       "      <td>urlslug</td>\n",
       "      <td>NaN</td>\n",
       "      <td>NaN</td>\n",
       "      <td>NaN</td>\n",
       "      <td>object</td>\n",
       "    </tr>\n",
       "    <tr>\n",
       "      <td>ID</td>\n",
       "      <td>NaN</td>\n",
       "      <td>NaN</td>\n",
       "      <td>NaN</td>\n",
       "      <td>object</td>\n",
       "    </tr>\n",
       "    <tr>\n",
       "      <td>ALIGN</td>\n",
       "      <td>NaN</td>\n",
       "      <td>NaN</td>\n",
       "      <td>NaN</td>\n",
       "      <td>object</td>\n",
       "    </tr>\n",
       "    <tr>\n",
       "      <td>EYE</td>\n",
       "      <td>NaN</td>\n",
       "      <td>NaN</td>\n",
       "      <td>NaN</td>\n",
       "      <td>object</td>\n",
       "    </tr>\n",
       "    <tr>\n",
       "      <td>HAIR</td>\n",
       "      <td>NaN</td>\n",
       "      <td>NaN</td>\n",
       "      <td>NaN</td>\n",
       "      <td>object</td>\n",
       "    </tr>\n",
       "    <tr>\n",
       "      <td>SEX</td>\n",
       "      <td>NaN</td>\n",
       "      <td>NaN</td>\n",
       "      <td>NaN</td>\n",
       "      <td>object</td>\n",
       "    </tr>\n",
       "    <tr>\n",
       "      <td>GSM</td>\n",
       "      <td>NaN</td>\n",
       "      <td>NaN</td>\n",
       "      <td>NaN</td>\n",
       "      <td>object</td>\n",
       "    </tr>\n",
       "    <tr>\n",
       "      <td>ALIVE</td>\n",
       "      <td>NaN</td>\n",
       "      <td>NaN</td>\n",
       "      <td>NaN</td>\n",
       "      <td>object</td>\n",
       "    </tr>\n",
       "    <tr>\n",
       "      <td>APPEARANCES</td>\n",
       "      <td>NaN</td>\n",
       "      <td>NaN</td>\n",
       "      <td>NaN</td>\n",
       "      <td>object</td>\n",
       "    </tr>\n",
       "    <tr>\n",
       "      <td>FIRST APPEARANCE</td>\n",
       "      <td>NaN</td>\n",
       "      <td>NaN</td>\n",
       "      <td>NaN</td>\n",
       "      <td>object</td>\n",
       "    </tr>\n",
       "    <tr>\n",
       "      <td>YEAR</td>\n",
       "      <td>NaN</td>\n",
       "      <td>NaN</td>\n",
       "      <td>NaN</td>\n",
       "      <td>object</td>\n",
       "    </tr>\n",
       "  </tbody>\n",
       "</table>\n",
       "</div>"
      ],
      "text/plain": [
       "                 Range Attribute type Attribute desciption    type\n",
       "page_id            NaN            NaN                  NaN  object\n",
       "name               NaN            NaN                  NaN  object\n",
       "urlslug            NaN            NaN                  NaN  object\n",
       "ID                 NaN            NaN                  NaN  object\n",
       "ALIGN              NaN            NaN                  NaN  object\n",
       "EYE                NaN            NaN                  NaN  object\n",
       "HAIR               NaN            NaN                  NaN  object\n",
       "SEX                NaN            NaN                  NaN  object\n",
       "GSM                NaN            NaN                  NaN  object\n",
       "ALIVE              NaN            NaN                  NaN  object\n",
       "APPEARANCES        NaN            NaN                  NaN  object\n",
       "FIRST APPEARANCE   NaN            NaN                  NaN  object\n",
       "YEAR               NaN            NaN                  NaN  object"
      ]
     },
     "execution_count": 173,
     "metadata": {},
     "output_type": "execute_result"
    }
   ],
   "source": [
    "enhanced_dictionary"
   ]
  },
  {
   "cell_type": "code",
   "execution_count": 174,
   "metadata": {},
   "outputs": [],
   "source": [
    "df1_object = ['name', 'urlslug', 'ID', 'ALIGN', 'EYE', 'HAIR'\n",
    "                'SEX', 'GSM', 'ALIVE', 'FIRST APPEARANCE']\n",
    "df1_int64 = ['page_id']\n",
    "df1_flt64 = ['APPEARANCES', 'YEAR']"
   ]
  },
  {
   "cell_type": "code",
   "execution_count": 175,
   "metadata": {},
   "outputs": [],
   "source": [
    "enhanced_dictionary.loc[df1_int64,'type'] = 'int64'\n",
    "enhanced_dictionary.loc[df1_flt64,'type'] = 'float64'"
   ]
  },
  {
   "cell_type": "code",
   "execution_count": 176,
   "metadata": {},
   "outputs": [],
   "source": [
    "max_df1 = df1.select_dtypes(include=[np.number])\n",
    "min_df1 = df1.select_dtypes(include=[np.number])\n"
   ]
  },
  {
   "cell_type": "code",
   "execution_count": 177,
   "metadata": {},
   "outputs": [
    {
     "data": {
      "text/html": [
       "<div>\n",
       "<style scoped>\n",
       "    .dataframe tbody tr th:only-of-type {\n",
       "        vertical-align: middle;\n",
       "    }\n",
       "\n",
       "    .dataframe tbody tr th {\n",
       "        vertical-align: top;\n",
       "    }\n",
       "\n",
       "    .dataframe thead th {\n",
       "        text-align: right;\n",
       "    }\n",
       "</style>\n",
       "<table border=\"1\" class=\"dataframe\">\n",
       "  <thead>\n",
       "    <tr style=\"text-align: right;\">\n",
       "      <th></th>\n",
       "      <th>page_id</th>\n",
       "      <th>APPEARANCES</th>\n",
       "      <th>YEAR</th>\n",
       "    </tr>\n",
       "  </thead>\n",
       "  <tbody>\n",
       "    <tr>\n",
       "      <td>0</td>\n",
       "      <td>1422</td>\n",
       "      <td>3093.0</td>\n",
       "      <td>1939.0</td>\n",
       "    </tr>\n",
       "    <tr>\n",
       "      <td>1</td>\n",
       "      <td>23387</td>\n",
       "      <td>2496.0</td>\n",
       "      <td>1986.0</td>\n",
       "    </tr>\n",
       "    <tr>\n",
       "      <td>2</td>\n",
       "      <td>1458</td>\n",
       "      <td>1565.0</td>\n",
       "      <td>1959.0</td>\n",
       "    </tr>\n",
       "    <tr>\n",
       "      <td>3</td>\n",
       "      <td>1659</td>\n",
       "      <td>1316.0</td>\n",
       "      <td>1987.0</td>\n",
       "    </tr>\n",
       "    <tr>\n",
       "      <td>4</td>\n",
       "      <td>1576</td>\n",
       "      <td>1237.0</td>\n",
       "      <td>1940.0</td>\n",
       "    </tr>\n",
       "    <tr>\n",
       "      <td>...</td>\n",
       "      <td>...</td>\n",
       "      <td>...</td>\n",
       "      <td>...</td>\n",
       "    </tr>\n",
       "    <tr>\n",
       "      <td>6891</td>\n",
       "      <td>66302</td>\n",
       "      <td>NaN</td>\n",
       "      <td>NaN</td>\n",
       "    </tr>\n",
       "    <tr>\n",
       "      <td>6892</td>\n",
       "      <td>283475</td>\n",
       "      <td>NaN</td>\n",
       "      <td>NaN</td>\n",
       "    </tr>\n",
       "    <tr>\n",
       "      <td>6893</td>\n",
       "      <td>283478</td>\n",
       "      <td>NaN</td>\n",
       "      <td>NaN</td>\n",
       "    </tr>\n",
       "    <tr>\n",
       "      <td>6894</td>\n",
       "      <td>283471</td>\n",
       "      <td>NaN</td>\n",
       "      <td>NaN</td>\n",
       "    </tr>\n",
       "    <tr>\n",
       "      <td>6895</td>\n",
       "      <td>150660</td>\n",
       "      <td>NaN</td>\n",
       "      <td>NaN</td>\n",
       "    </tr>\n",
       "  </tbody>\n",
       "</table>\n",
       "<p>6896 rows × 3 columns</p>\n",
       "</div>"
      ],
      "text/plain": [
       "      page_id  APPEARANCES    YEAR\n",
       "0        1422       3093.0  1939.0\n",
       "1       23387       2496.0  1986.0\n",
       "2        1458       1565.0  1959.0\n",
       "3        1659       1316.0  1987.0\n",
       "4        1576       1237.0  1940.0\n",
       "...       ...          ...     ...\n",
       "6891    66302          NaN     NaN\n",
       "6892   283475          NaN     NaN\n",
       "6893   283478          NaN     NaN\n",
       "6894   283471          NaN     NaN\n",
       "6895   150660          NaN     NaN\n",
       "\n",
       "[6896 rows x 3 columns]"
      ]
     },
     "execution_count": 177,
     "metadata": {},
     "output_type": "execute_result"
    }
   ],
   "source": [
    "max_df1"
   ]
  },
  {
   "cell_type": "code",
   "execution_count": 178,
   "metadata": {},
   "outputs": [
    {
     "data": {
      "text/html": [
       "<div>\n",
       "<style scoped>\n",
       "    .dataframe tbody tr th:only-of-type {\n",
       "        vertical-align: middle;\n",
       "    }\n",
       "\n",
       "    .dataframe tbody tr th {\n",
       "        vertical-align: top;\n",
       "    }\n",
       "\n",
       "    .dataframe thead th {\n",
       "        text-align: right;\n",
       "    }\n",
       "</style>\n",
       "<table border=\"1\" class=\"dataframe\">\n",
       "  <thead>\n",
       "    <tr style=\"text-align: right;\">\n",
       "      <th></th>\n",
       "      <th>page_id</th>\n",
       "      <th>APPEARANCES</th>\n",
       "      <th>YEAR</th>\n",
       "    </tr>\n",
       "  </thead>\n",
       "  <tbody>\n",
       "    <tr>\n",
       "      <td>0</td>\n",
       "      <td>1422</td>\n",
       "      <td>3093.0</td>\n",
       "      <td>1939.0</td>\n",
       "    </tr>\n",
       "    <tr>\n",
       "      <td>1</td>\n",
       "      <td>23387</td>\n",
       "      <td>2496.0</td>\n",
       "      <td>1986.0</td>\n",
       "    </tr>\n",
       "    <tr>\n",
       "      <td>2</td>\n",
       "      <td>1458</td>\n",
       "      <td>1565.0</td>\n",
       "      <td>1959.0</td>\n",
       "    </tr>\n",
       "    <tr>\n",
       "      <td>3</td>\n",
       "      <td>1659</td>\n",
       "      <td>1316.0</td>\n",
       "      <td>1987.0</td>\n",
       "    </tr>\n",
       "    <tr>\n",
       "      <td>4</td>\n",
       "      <td>1576</td>\n",
       "      <td>1237.0</td>\n",
       "      <td>1940.0</td>\n",
       "    </tr>\n",
       "    <tr>\n",
       "      <td>...</td>\n",
       "      <td>...</td>\n",
       "      <td>...</td>\n",
       "      <td>...</td>\n",
       "    </tr>\n",
       "    <tr>\n",
       "      <td>6891</td>\n",
       "      <td>66302</td>\n",
       "      <td>NaN</td>\n",
       "      <td>NaN</td>\n",
       "    </tr>\n",
       "    <tr>\n",
       "      <td>6892</td>\n",
       "      <td>283475</td>\n",
       "      <td>NaN</td>\n",
       "      <td>NaN</td>\n",
       "    </tr>\n",
       "    <tr>\n",
       "      <td>6893</td>\n",
       "      <td>283478</td>\n",
       "      <td>NaN</td>\n",
       "      <td>NaN</td>\n",
       "    </tr>\n",
       "    <tr>\n",
       "      <td>6894</td>\n",
       "      <td>283471</td>\n",
       "      <td>NaN</td>\n",
       "      <td>NaN</td>\n",
       "    </tr>\n",
       "    <tr>\n",
       "      <td>6895</td>\n",
       "      <td>150660</td>\n",
       "      <td>NaN</td>\n",
       "      <td>NaN</td>\n",
       "    </tr>\n",
       "  </tbody>\n",
       "</table>\n",
       "<p>6896 rows × 3 columns</p>\n",
       "</div>"
      ],
      "text/plain": [
       "      page_id  APPEARANCES    YEAR\n",
       "0        1422       3093.0  1939.0\n",
       "1       23387       2496.0  1986.0\n",
       "2        1458       1565.0  1959.0\n",
       "3        1659       1316.0  1987.0\n",
       "4        1576       1237.0  1940.0\n",
       "...       ...          ...     ...\n",
       "6891    66302          NaN     NaN\n",
       "6892   283475          NaN     NaN\n",
       "6893   283478          NaN     NaN\n",
       "6894   283471          NaN     NaN\n",
       "6895   150660          NaN     NaN\n",
       "\n",
       "[6896 rows x 3 columns]"
      ]
     },
     "execution_count": 178,
     "metadata": {},
     "output_type": "execute_result"
    }
   ],
   "source": [
    "min_df1"
   ]
  },
  {
   "cell_type": "code",
   "execution_count": 179,
   "metadata": {},
   "outputs": [],
   "source": [
    "enhanced_dictionary.loc['page_id','Valid Values'] = \"404010.0 - 1380.0\"\n",
    "enhanced_dictionary.loc['APPEARANCES','Range'] = \"3093.0 - 1.0\"\n",
    "enhanced_dictionary.loc['YEAR','Range'] = \"2013.0 - 1935.0\""
   ]
  },
  {
   "cell_type": "code",
   "execution_count": 180,
   "metadata": {},
   "outputs": [
    {
     "data": {
      "text/html": [
       "<div>\n",
       "<style scoped>\n",
       "    .dataframe tbody tr th:only-of-type {\n",
       "        vertical-align: middle;\n",
       "    }\n",
       "\n",
       "    .dataframe tbody tr th {\n",
       "        vertical-align: top;\n",
       "    }\n",
       "\n",
       "    .dataframe thead th {\n",
       "        text-align: right;\n",
       "    }\n",
       "</style>\n",
       "<table border=\"1\" class=\"dataframe\">\n",
       "  <thead>\n",
       "    <tr style=\"text-align: right;\">\n",
       "      <th></th>\n",
       "      <th>Range</th>\n",
       "      <th>Attribute type</th>\n",
       "      <th>Attribute desciption</th>\n",
       "      <th>type</th>\n",
       "      <th>Valid Values</th>\n",
       "    </tr>\n",
       "  </thead>\n",
       "  <tbody>\n",
       "    <tr>\n",
       "      <td>page_id</td>\n",
       "      <td>NaN</td>\n",
       "      <td>NaN</td>\n",
       "      <td>NaN</td>\n",
       "      <td>int64</td>\n",
       "      <td>404010.0 - 1380.0</td>\n",
       "    </tr>\n",
       "    <tr>\n",
       "      <td>name</td>\n",
       "      <td>NaN</td>\n",
       "      <td>NaN</td>\n",
       "      <td>NaN</td>\n",
       "      <td>object</td>\n",
       "      <td>NaN</td>\n",
       "    </tr>\n",
       "    <tr>\n",
       "      <td>urlslug</td>\n",
       "      <td>NaN</td>\n",
       "      <td>NaN</td>\n",
       "      <td>NaN</td>\n",
       "      <td>object</td>\n",
       "      <td>NaN</td>\n",
       "    </tr>\n",
       "    <tr>\n",
       "      <td>ID</td>\n",
       "      <td>NaN</td>\n",
       "      <td>NaN</td>\n",
       "      <td>NaN</td>\n",
       "      <td>object</td>\n",
       "      <td>NaN</td>\n",
       "    </tr>\n",
       "    <tr>\n",
       "      <td>ALIGN</td>\n",
       "      <td>NaN</td>\n",
       "      <td>NaN</td>\n",
       "      <td>NaN</td>\n",
       "      <td>object</td>\n",
       "      <td>NaN</td>\n",
       "    </tr>\n",
       "    <tr>\n",
       "      <td>EYE</td>\n",
       "      <td>NaN</td>\n",
       "      <td>NaN</td>\n",
       "      <td>NaN</td>\n",
       "      <td>object</td>\n",
       "      <td>NaN</td>\n",
       "    </tr>\n",
       "    <tr>\n",
       "      <td>HAIR</td>\n",
       "      <td>NaN</td>\n",
       "      <td>NaN</td>\n",
       "      <td>NaN</td>\n",
       "      <td>object</td>\n",
       "      <td>NaN</td>\n",
       "    </tr>\n",
       "    <tr>\n",
       "      <td>SEX</td>\n",
       "      <td>NaN</td>\n",
       "      <td>NaN</td>\n",
       "      <td>NaN</td>\n",
       "      <td>object</td>\n",
       "      <td>NaN</td>\n",
       "    </tr>\n",
       "    <tr>\n",
       "      <td>GSM</td>\n",
       "      <td>NaN</td>\n",
       "      <td>NaN</td>\n",
       "      <td>NaN</td>\n",
       "      <td>object</td>\n",
       "      <td>NaN</td>\n",
       "    </tr>\n",
       "    <tr>\n",
       "      <td>ALIVE</td>\n",
       "      <td>NaN</td>\n",
       "      <td>NaN</td>\n",
       "      <td>NaN</td>\n",
       "      <td>object</td>\n",
       "      <td>NaN</td>\n",
       "    </tr>\n",
       "    <tr>\n",
       "      <td>APPEARANCES</td>\n",
       "      <td>3093.0 - 1.0</td>\n",
       "      <td>NaN</td>\n",
       "      <td>NaN</td>\n",
       "      <td>float64</td>\n",
       "      <td>NaN</td>\n",
       "    </tr>\n",
       "    <tr>\n",
       "      <td>FIRST APPEARANCE</td>\n",
       "      <td>NaN</td>\n",
       "      <td>NaN</td>\n",
       "      <td>NaN</td>\n",
       "      <td>object</td>\n",
       "      <td>NaN</td>\n",
       "    </tr>\n",
       "    <tr>\n",
       "      <td>YEAR</td>\n",
       "      <td>2013.0 - 1935.0</td>\n",
       "      <td>NaN</td>\n",
       "      <td>NaN</td>\n",
       "      <td>float64</td>\n",
       "      <td>NaN</td>\n",
       "    </tr>\n",
       "  </tbody>\n",
       "</table>\n",
       "</div>"
      ],
      "text/plain": [
       "                            Range Attribute type Attribute desciption  \\\n",
       "page_id                       NaN            NaN                  NaN   \n",
       "name                          NaN            NaN                  NaN   \n",
       "urlslug                       NaN            NaN                  NaN   \n",
       "ID                            NaN            NaN                  NaN   \n",
       "ALIGN                         NaN            NaN                  NaN   \n",
       "EYE                           NaN            NaN                  NaN   \n",
       "HAIR                          NaN            NaN                  NaN   \n",
       "SEX                           NaN            NaN                  NaN   \n",
       "GSM                           NaN            NaN                  NaN   \n",
       "ALIVE                         NaN            NaN                  NaN   \n",
       "APPEARANCES          3093.0 - 1.0            NaN                  NaN   \n",
       "FIRST APPEARANCE              NaN            NaN                  NaN   \n",
       "YEAR              2013.0 - 1935.0            NaN                  NaN   \n",
       "\n",
       "                     type       Valid Values  \n",
       "page_id             int64  404010.0 - 1380.0  \n",
       "name               object                NaN  \n",
       "urlslug            object                NaN  \n",
       "ID                 object                NaN  \n",
       "ALIGN              object                NaN  \n",
       "EYE                object                NaN  \n",
       "HAIR               object                NaN  \n",
       "SEX                object                NaN  \n",
       "GSM                object                NaN  \n",
       "ALIVE              object                NaN  \n",
       "APPEARANCES       float64                NaN  \n",
       "FIRST APPEARANCE   object                NaN  \n",
       "YEAR              float64                NaN  "
      ]
     },
     "execution_count": 180,
     "metadata": {},
     "output_type": "execute_result"
    }
   ],
   "source": [
    "enhanced_dictionary"
   ]
  },
  {
   "cell_type": "code",
   "execution_count": 181,
   "metadata": {},
   "outputs": [
    {
     "data": {
      "text/plain": [
       "array(['Secret Identity', 'Public Identity', nan, 'Identity Unknown'],\n",
       "      dtype=object)"
      ]
     },
     "execution_count": 181,
     "metadata": {},
     "output_type": "execute_result"
    }
   ],
   "source": [
    "df1.ID.unique()"
   ]
  },
  {
   "cell_type": "code",
   "execution_count": 182,
   "metadata": {},
   "outputs": [],
   "source": [
    "enhanced_dictionary.loc['ID','Range'] = df1.ID.unique()\n",
    "enhanced_dictionary.loc['ALIGN','Range'] = df1.ALIGN.unique()\n",
    "enhanced_dictionary.loc['EYE','Range'] = df1.EYE.unique()\n",
    "enhanced_dictionary.loc['HAIR','Range'] = df1.HAIR.unique()\n",
    "enhanced_dictionary.loc['SEX','Range'] = df1.SEX.unique()\n",
    "enhanced_dictionary.loc['GSM','Range'] = df1.GSM.unique()\n",
    "enhanced_dictionary.loc['ALIVE','Range'] = df1.ALIVE.unique()"
   ]
  },
  {
   "cell_type": "code",
   "execution_count": 183,
   "metadata": {},
   "outputs": [
    {
     "data": {
      "text/html": [
       "<div>\n",
       "<style scoped>\n",
       "    .dataframe tbody tr th:only-of-type {\n",
       "        vertical-align: middle;\n",
       "    }\n",
       "\n",
       "    .dataframe tbody tr th {\n",
       "        vertical-align: top;\n",
       "    }\n",
       "\n",
       "    .dataframe thead th {\n",
       "        text-align: right;\n",
       "    }\n",
       "</style>\n",
       "<table border=\"1\" class=\"dataframe\">\n",
       "  <thead>\n",
       "    <tr style=\"text-align: right;\">\n",
       "      <th></th>\n",
       "      <th>Range</th>\n",
       "      <th>Attribute type</th>\n",
       "      <th>Attribute desciption</th>\n",
       "      <th>type</th>\n",
       "      <th>Valid Values</th>\n",
       "    </tr>\n",
       "  </thead>\n",
       "  <tbody>\n",
       "    <tr>\n",
       "      <td>page_id</td>\n",
       "      <td>NaN</td>\n",
       "      <td>NaN</td>\n",
       "      <td>NaN</td>\n",
       "      <td>int64</td>\n",
       "      <td>404010.0 - 1380.0</td>\n",
       "    </tr>\n",
       "    <tr>\n",
       "      <td>name</td>\n",
       "      <td>NaN</td>\n",
       "      <td>NaN</td>\n",
       "      <td>NaN</td>\n",
       "      <td>object</td>\n",
       "      <td>NaN</td>\n",
       "    </tr>\n",
       "    <tr>\n",
       "      <td>urlslug</td>\n",
       "      <td>NaN</td>\n",
       "      <td>NaN</td>\n",
       "      <td>NaN</td>\n",
       "      <td>object</td>\n",
       "      <td>NaN</td>\n",
       "    </tr>\n",
       "    <tr>\n",
       "      <td>ID</td>\n",
       "      <td>[Secret Identity, Public Identity, nan, Identi...</td>\n",
       "      <td>NaN</td>\n",
       "      <td>NaN</td>\n",
       "      <td>object</td>\n",
       "      <td>NaN</td>\n",
       "    </tr>\n",
       "    <tr>\n",
       "      <td>ALIGN</td>\n",
       "      <td>[Good Characters, Bad Characters, Neutral Char...</td>\n",
       "      <td>NaN</td>\n",
       "      <td>NaN</td>\n",
       "      <td>object</td>\n",
       "      <td>NaN</td>\n",
       "    </tr>\n",
       "    <tr>\n",
       "      <td>EYE</td>\n",
       "      <td>[Blue Eyes, Brown Eyes, Green Eyes, Purple Eye...</td>\n",
       "      <td>NaN</td>\n",
       "      <td>NaN</td>\n",
       "      <td>object</td>\n",
       "      <td>NaN</td>\n",
       "    </tr>\n",
       "    <tr>\n",
       "      <td>HAIR</td>\n",
       "      <td>[Black Hair, Brown Hair, White Hair, Blond Hai...</td>\n",
       "      <td>NaN</td>\n",
       "      <td>NaN</td>\n",
       "      <td>object</td>\n",
       "      <td>NaN</td>\n",
       "    </tr>\n",
       "    <tr>\n",
       "      <td>SEX</td>\n",
       "      <td>[Male Characters, Female Characters, nan, Gend...</td>\n",
       "      <td>NaN</td>\n",
       "      <td>NaN</td>\n",
       "      <td>object</td>\n",
       "      <td>NaN</td>\n",
       "    </tr>\n",
       "    <tr>\n",
       "      <td>GSM</td>\n",
       "      <td>[nan, Bisexual Characters, Homosexual Characters]</td>\n",
       "      <td>NaN</td>\n",
       "      <td>NaN</td>\n",
       "      <td>object</td>\n",
       "      <td>NaN</td>\n",
       "    </tr>\n",
       "    <tr>\n",
       "      <td>ALIVE</td>\n",
       "      <td>[Living Characters, Deceased Characters, nan]</td>\n",
       "      <td>NaN</td>\n",
       "      <td>NaN</td>\n",
       "      <td>object</td>\n",
       "      <td>NaN</td>\n",
       "    </tr>\n",
       "    <tr>\n",
       "      <td>APPEARANCES</td>\n",
       "      <td>3093.0 - 1.0</td>\n",
       "      <td>NaN</td>\n",
       "      <td>NaN</td>\n",
       "      <td>float64</td>\n",
       "      <td>NaN</td>\n",
       "    </tr>\n",
       "    <tr>\n",
       "      <td>FIRST APPEARANCE</td>\n",
       "      <td>NaN</td>\n",
       "      <td>NaN</td>\n",
       "      <td>NaN</td>\n",
       "      <td>object</td>\n",
       "      <td>NaN</td>\n",
       "    </tr>\n",
       "    <tr>\n",
       "      <td>YEAR</td>\n",
       "      <td>2013.0 - 1935.0</td>\n",
       "      <td>NaN</td>\n",
       "      <td>NaN</td>\n",
       "      <td>float64</td>\n",
       "      <td>NaN</td>\n",
       "    </tr>\n",
       "  </tbody>\n",
       "</table>\n",
       "</div>"
      ],
      "text/plain": [
       "                                                              Range  \\\n",
       "page_id                                                         NaN   \n",
       "name                                                            NaN   \n",
       "urlslug                                                         NaN   \n",
       "ID                [Secret Identity, Public Identity, nan, Identi...   \n",
       "ALIGN             [Good Characters, Bad Characters, Neutral Char...   \n",
       "EYE               [Blue Eyes, Brown Eyes, Green Eyes, Purple Eye...   \n",
       "HAIR              [Black Hair, Brown Hair, White Hair, Blond Hai...   \n",
       "SEX               [Male Characters, Female Characters, nan, Gend...   \n",
       "GSM               [nan, Bisexual Characters, Homosexual Characters]   \n",
       "ALIVE                 [Living Characters, Deceased Characters, nan]   \n",
       "APPEARANCES                                            3093.0 - 1.0   \n",
       "FIRST APPEARANCE                                                NaN   \n",
       "YEAR                                                2013.0 - 1935.0   \n",
       "\n",
       "                 Attribute type Attribute desciption     type  \\\n",
       "page_id                     NaN                  NaN    int64   \n",
       "name                        NaN                  NaN   object   \n",
       "urlslug                     NaN                  NaN   object   \n",
       "ID                          NaN                  NaN   object   \n",
       "ALIGN                       NaN                  NaN   object   \n",
       "EYE                         NaN                  NaN   object   \n",
       "HAIR                        NaN                  NaN   object   \n",
       "SEX                         NaN                  NaN   object   \n",
       "GSM                         NaN                  NaN   object   \n",
       "ALIVE                       NaN                  NaN   object   \n",
       "APPEARANCES                 NaN                  NaN  float64   \n",
       "FIRST APPEARANCE            NaN                  NaN   object   \n",
       "YEAR                        NaN                  NaN  float64   \n",
       "\n",
       "                       Valid Values  \n",
       "page_id           404010.0 - 1380.0  \n",
       "name                            NaN  \n",
       "urlslug                         NaN  \n",
       "ID                              NaN  \n",
       "ALIGN                           NaN  \n",
       "EYE                             NaN  \n",
       "HAIR                            NaN  \n",
       "SEX                             NaN  \n",
       "GSM                             NaN  \n",
       "ALIVE                           NaN  \n",
       "APPEARANCES                     NaN  \n",
       "FIRST APPEARANCE                NaN  \n",
       "YEAR                            NaN  "
      ]
     },
     "execution_count": 183,
     "metadata": {},
     "output_type": "execute_result"
    }
   ],
   "source": [
    "enhanced_dictionary"
   ]
  },
  {
   "cell_type": "code",
   "execution_count": 184,
   "metadata": {},
   "outputs": [],
   "source": [
    "enhanced_dictionary.loc['page_id','type'] = \"int\"\n",
    "enhanced_dictionary.loc['ID','type'] = \"Nominal\"\n",
    "enhanced_dictionary.loc['ALIGN','type'] = \"Ordinal\"\n",
    "enhanced_dictionary.loc['EYE','type'] = \"Nominal\"\n",
    "enhanced_dictionary.loc['HAIR','type'] = \"Nominal\"\n",
    "enhanced_dictionary.loc['SEX','type'] = \"Nominal\"\n",
    "enhanced_dictionary.loc['GSM','type'] = \"Nominal\"\n",
    "enhanced_dictionary.loc['ALIVE','type'] = \"Nominal\"\n",
    "enhanced_dictionary.loc['APPEARANCES','type'] = \"flt\"\n",
    "enhanced_dictionary.loc['YEAR','type'] = \"flt\""
   ]
  },
  {
   "cell_type": "code",
   "execution_count": 185,
   "metadata": {},
   "outputs": [
    {
     "data": {
      "text/html": [
       "<div>\n",
       "<style scoped>\n",
       "    .dataframe tbody tr th:only-of-type {\n",
       "        vertical-align: middle;\n",
       "    }\n",
       "\n",
       "    .dataframe tbody tr th {\n",
       "        vertical-align: top;\n",
       "    }\n",
       "\n",
       "    .dataframe thead th {\n",
       "        text-align: right;\n",
       "    }\n",
       "</style>\n",
       "<table border=\"1\" class=\"dataframe\">\n",
       "  <thead>\n",
       "    <tr style=\"text-align: right;\">\n",
       "      <th></th>\n",
       "      <th>Range</th>\n",
       "      <th>Attribute type</th>\n",
       "      <th>Attribute desciption</th>\n",
       "      <th>type</th>\n",
       "      <th>Valid Values</th>\n",
       "    </tr>\n",
       "  </thead>\n",
       "  <tbody>\n",
       "    <tr>\n",
       "      <td>page_id</td>\n",
       "      <td>NaN</td>\n",
       "      <td>NaN</td>\n",
       "      <td>NaN</td>\n",
       "      <td>int</td>\n",
       "      <td>404010.0 - 1380.0</td>\n",
       "    </tr>\n",
       "    <tr>\n",
       "      <td>name</td>\n",
       "      <td>NaN</td>\n",
       "      <td>NaN</td>\n",
       "      <td>NaN</td>\n",
       "      <td>object</td>\n",
       "      <td>NaN</td>\n",
       "    </tr>\n",
       "    <tr>\n",
       "      <td>urlslug</td>\n",
       "      <td>NaN</td>\n",
       "      <td>NaN</td>\n",
       "      <td>NaN</td>\n",
       "      <td>object</td>\n",
       "      <td>NaN</td>\n",
       "    </tr>\n",
       "    <tr>\n",
       "      <td>ID</td>\n",
       "      <td>[Secret Identity, Public Identity, nan, Identi...</td>\n",
       "      <td>NaN</td>\n",
       "      <td>NaN</td>\n",
       "      <td>Nominal</td>\n",
       "      <td>NaN</td>\n",
       "    </tr>\n",
       "    <tr>\n",
       "      <td>ALIGN</td>\n",
       "      <td>[Good Characters, Bad Characters, Neutral Char...</td>\n",
       "      <td>NaN</td>\n",
       "      <td>NaN</td>\n",
       "      <td>Ordinal</td>\n",
       "      <td>NaN</td>\n",
       "    </tr>\n",
       "    <tr>\n",
       "      <td>EYE</td>\n",
       "      <td>[Blue Eyes, Brown Eyes, Green Eyes, Purple Eye...</td>\n",
       "      <td>NaN</td>\n",
       "      <td>NaN</td>\n",
       "      <td>Nominal</td>\n",
       "      <td>NaN</td>\n",
       "    </tr>\n",
       "    <tr>\n",
       "      <td>HAIR</td>\n",
       "      <td>[Black Hair, Brown Hair, White Hair, Blond Hai...</td>\n",
       "      <td>NaN</td>\n",
       "      <td>NaN</td>\n",
       "      <td>Nominal</td>\n",
       "      <td>NaN</td>\n",
       "    </tr>\n",
       "    <tr>\n",
       "      <td>SEX</td>\n",
       "      <td>[Male Characters, Female Characters, nan, Gend...</td>\n",
       "      <td>NaN</td>\n",
       "      <td>NaN</td>\n",
       "      <td>Nominal</td>\n",
       "      <td>NaN</td>\n",
       "    </tr>\n",
       "    <tr>\n",
       "      <td>GSM</td>\n",
       "      <td>[nan, Bisexual Characters, Homosexual Characters]</td>\n",
       "      <td>NaN</td>\n",
       "      <td>NaN</td>\n",
       "      <td>Nominal</td>\n",
       "      <td>NaN</td>\n",
       "    </tr>\n",
       "    <tr>\n",
       "      <td>ALIVE</td>\n",
       "      <td>[Living Characters, Deceased Characters, nan]</td>\n",
       "      <td>NaN</td>\n",
       "      <td>NaN</td>\n",
       "      <td>Nominal</td>\n",
       "      <td>NaN</td>\n",
       "    </tr>\n",
       "    <tr>\n",
       "      <td>APPEARANCES</td>\n",
       "      <td>3093.0 - 1.0</td>\n",
       "      <td>NaN</td>\n",
       "      <td>NaN</td>\n",
       "      <td>flt</td>\n",
       "      <td>NaN</td>\n",
       "    </tr>\n",
       "    <tr>\n",
       "      <td>FIRST APPEARANCE</td>\n",
       "      <td>NaN</td>\n",
       "      <td>NaN</td>\n",
       "      <td>NaN</td>\n",
       "      <td>object</td>\n",
       "      <td>NaN</td>\n",
       "    </tr>\n",
       "    <tr>\n",
       "      <td>YEAR</td>\n",
       "      <td>2013.0 - 1935.0</td>\n",
       "      <td>NaN</td>\n",
       "      <td>NaN</td>\n",
       "      <td>flt</td>\n",
       "      <td>NaN</td>\n",
       "    </tr>\n",
       "  </tbody>\n",
       "</table>\n",
       "</div>"
      ],
      "text/plain": [
       "                                                              Range  \\\n",
       "page_id                                                         NaN   \n",
       "name                                                            NaN   \n",
       "urlslug                                                         NaN   \n",
       "ID                [Secret Identity, Public Identity, nan, Identi...   \n",
       "ALIGN             [Good Characters, Bad Characters, Neutral Char...   \n",
       "EYE               [Blue Eyes, Brown Eyes, Green Eyes, Purple Eye...   \n",
       "HAIR              [Black Hair, Brown Hair, White Hair, Blond Hai...   \n",
       "SEX               [Male Characters, Female Characters, nan, Gend...   \n",
       "GSM               [nan, Bisexual Characters, Homosexual Characters]   \n",
       "ALIVE                 [Living Characters, Deceased Characters, nan]   \n",
       "APPEARANCES                                            3093.0 - 1.0   \n",
       "FIRST APPEARANCE                                                NaN   \n",
       "YEAR                                                2013.0 - 1935.0   \n",
       "\n",
       "                 Attribute type Attribute desciption     type  \\\n",
       "page_id                     NaN                  NaN      int   \n",
       "name                        NaN                  NaN   object   \n",
       "urlslug                     NaN                  NaN   object   \n",
       "ID                          NaN                  NaN  Nominal   \n",
       "ALIGN                       NaN                  NaN  Ordinal   \n",
       "EYE                         NaN                  NaN  Nominal   \n",
       "HAIR                        NaN                  NaN  Nominal   \n",
       "SEX                         NaN                  NaN  Nominal   \n",
       "GSM                         NaN                  NaN  Nominal   \n",
       "ALIVE                       NaN                  NaN  Nominal   \n",
       "APPEARANCES                 NaN                  NaN      flt   \n",
       "FIRST APPEARANCE            NaN                  NaN   object   \n",
       "YEAR                        NaN                  NaN      flt   \n",
       "\n",
       "                       Valid Values  \n",
       "page_id           404010.0 - 1380.0  \n",
       "name                            NaN  \n",
       "urlslug                         NaN  \n",
       "ID                              NaN  \n",
       "ALIGN                           NaN  \n",
       "EYE                             NaN  \n",
       "HAIR                            NaN  \n",
       "SEX                             NaN  \n",
       "GSM                             NaN  \n",
       "ALIVE                           NaN  \n",
       "APPEARANCES                     NaN  \n",
       "FIRST APPEARANCE                NaN  \n",
       "YEAR                            NaN  "
      ]
     },
     "execution_count": 185,
     "metadata": {},
     "output_type": "execute_result"
    }
   ],
   "source": [
    "enhanced_dictionary"
   ]
  },
  {
   "cell_type": "code",
   "execution_count": 186,
   "metadata": {},
   "outputs": [],
   "source": [
    "enhanced_dictionary.loc['page_id','Description'] = \"Wikia link for that character. The page id is unique\"\n",
    "enhanced_dictionary.loc['name','Description'] = \"Name of that character\"\n",
    "enhanced_dictionary.loc['urlslug','Description'] = \"URL which takes you to the wikia page of that character\"\n",
    "enhanced_dictionary.loc['ID','Description'] = \"The identity status, that is, whether the identity of the character is secret or public\"\n",
    "enhanced_dictionary.loc['ALIGN','Description'] = \"Whether the character is good, neutral or bad\"\n",
    "enhanced_dictionary.loc['EYE','Description'] = \"Character's eye color\"\n",
    "enhanced_dictionary.loc['HAIR','Description'] = \"Character's hair color\"\n",
    "enhanced_dictionary.loc['SEX','Description'] = \"Character's sex\"\n",
    "enhanced_dictionary.loc['GSM','Description'] = \"Character's gsm\"\n",
    "enhanced_dictionary.loc['ALIVE','Description'] = \"If the character is alive or not\"\n",
    "enhanced_dictionary.loc['APPEARANCES','Description'] = \"Number of comic book appearances\"\n",
    "enhanced_dictionary.loc['FIRST APPEARANCE','Description'] = \"Year,Month when the character first appeared\"\n",
    "enhanced_dictionary.loc['YEAR','Description'] = \"Year when the character first appeared\""
   ]
  },
  {
   "cell_type": "code",
   "execution_count": 187,
   "metadata": {},
   "outputs": [
    {
     "data": {
      "text/html": [
       "<div>\n",
       "<style scoped>\n",
       "    .dataframe tbody tr th:only-of-type {\n",
       "        vertical-align: middle;\n",
       "    }\n",
       "\n",
       "    .dataframe tbody tr th {\n",
       "        vertical-align: top;\n",
       "    }\n",
       "\n",
       "    .dataframe thead th {\n",
       "        text-align: right;\n",
       "    }\n",
       "</style>\n",
       "<table border=\"1\" class=\"dataframe\">\n",
       "  <thead>\n",
       "    <tr style=\"text-align: right;\">\n",
       "      <th></th>\n",
       "      <th>Range</th>\n",
       "      <th>Attribute type</th>\n",
       "      <th>Attribute desciption</th>\n",
       "      <th>type</th>\n",
       "      <th>Valid Values</th>\n",
       "      <th>Description</th>\n",
       "    </tr>\n",
       "  </thead>\n",
       "  <tbody>\n",
       "    <tr>\n",
       "      <td>page_id</td>\n",
       "      <td>NaN</td>\n",
       "      <td>NaN</td>\n",
       "      <td>NaN</td>\n",
       "      <td>int</td>\n",
       "      <td>404010.0 - 1380.0</td>\n",
       "      <td>Wikia link for that character. The page id is ...</td>\n",
       "    </tr>\n",
       "    <tr>\n",
       "      <td>name</td>\n",
       "      <td>NaN</td>\n",
       "      <td>NaN</td>\n",
       "      <td>NaN</td>\n",
       "      <td>object</td>\n",
       "      <td>NaN</td>\n",
       "      <td>Name of that character</td>\n",
       "    </tr>\n",
       "    <tr>\n",
       "      <td>urlslug</td>\n",
       "      <td>NaN</td>\n",
       "      <td>NaN</td>\n",
       "      <td>NaN</td>\n",
       "      <td>object</td>\n",
       "      <td>NaN</td>\n",
       "      <td>URL which takes you to the wikia page of that ...</td>\n",
       "    </tr>\n",
       "    <tr>\n",
       "      <td>ID</td>\n",
       "      <td>[Secret Identity, Public Identity, nan, Identi...</td>\n",
       "      <td>NaN</td>\n",
       "      <td>NaN</td>\n",
       "      <td>Nominal</td>\n",
       "      <td>NaN</td>\n",
       "      <td>The identity status, that is, whether the iden...</td>\n",
       "    </tr>\n",
       "    <tr>\n",
       "      <td>ALIGN</td>\n",
       "      <td>[Good Characters, Bad Characters, Neutral Char...</td>\n",
       "      <td>NaN</td>\n",
       "      <td>NaN</td>\n",
       "      <td>Ordinal</td>\n",
       "      <td>NaN</td>\n",
       "      <td>Whether the character is good, neutral or bad</td>\n",
       "    </tr>\n",
       "    <tr>\n",
       "      <td>EYE</td>\n",
       "      <td>[Blue Eyes, Brown Eyes, Green Eyes, Purple Eye...</td>\n",
       "      <td>NaN</td>\n",
       "      <td>NaN</td>\n",
       "      <td>Nominal</td>\n",
       "      <td>NaN</td>\n",
       "      <td>Character's eye color</td>\n",
       "    </tr>\n",
       "    <tr>\n",
       "      <td>HAIR</td>\n",
       "      <td>[Black Hair, Brown Hair, White Hair, Blond Hai...</td>\n",
       "      <td>NaN</td>\n",
       "      <td>NaN</td>\n",
       "      <td>Nominal</td>\n",
       "      <td>NaN</td>\n",
       "      <td>Character's hair color</td>\n",
       "    </tr>\n",
       "    <tr>\n",
       "      <td>SEX</td>\n",
       "      <td>[Male Characters, Female Characters, nan, Gend...</td>\n",
       "      <td>NaN</td>\n",
       "      <td>NaN</td>\n",
       "      <td>Nominal</td>\n",
       "      <td>NaN</td>\n",
       "      <td>Character's sex</td>\n",
       "    </tr>\n",
       "    <tr>\n",
       "      <td>GSM</td>\n",
       "      <td>[nan, Bisexual Characters, Homosexual Characters]</td>\n",
       "      <td>NaN</td>\n",
       "      <td>NaN</td>\n",
       "      <td>Nominal</td>\n",
       "      <td>NaN</td>\n",
       "      <td>Character's gsm</td>\n",
       "    </tr>\n",
       "    <tr>\n",
       "      <td>ALIVE</td>\n",
       "      <td>[Living Characters, Deceased Characters, nan]</td>\n",
       "      <td>NaN</td>\n",
       "      <td>NaN</td>\n",
       "      <td>Nominal</td>\n",
       "      <td>NaN</td>\n",
       "      <td>If the character is alive or not</td>\n",
       "    </tr>\n",
       "    <tr>\n",
       "      <td>APPEARANCES</td>\n",
       "      <td>3093.0 - 1.0</td>\n",
       "      <td>NaN</td>\n",
       "      <td>NaN</td>\n",
       "      <td>flt</td>\n",
       "      <td>NaN</td>\n",
       "      <td>Number of comic book appearances</td>\n",
       "    </tr>\n",
       "    <tr>\n",
       "      <td>FIRST APPEARANCE</td>\n",
       "      <td>NaN</td>\n",
       "      <td>NaN</td>\n",
       "      <td>NaN</td>\n",
       "      <td>object</td>\n",
       "      <td>NaN</td>\n",
       "      <td>Year,Month when the character first appeared</td>\n",
       "    </tr>\n",
       "    <tr>\n",
       "      <td>YEAR</td>\n",
       "      <td>2013.0 - 1935.0</td>\n",
       "      <td>NaN</td>\n",
       "      <td>NaN</td>\n",
       "      <td>flt</td>\n",
       "      <td>NaN</td>\n",
       "      <td>Year when the character first appeared</td>\n",
       "    </tr>\n",
       "  </tbody>\n",
       "</table>\n",
       "</div>"
      ],
      "text/plain": [
       "                                                              Range  \\\n",
       "page_id                                                         NaN   \n",
       "name                                                            NaN   \n",
       "urlslug                                                         NaN   \n",
       "ID                [Secret Identity, Public Identity, nan, Identi...   \n",
       "ALIGN             [Good Characters, Bad Characters, Neutral Char...   \n",
       "EYE               [Blue Eyes, Brown Eyes, Green Eyes, Purple Eye...   \n",
       "HAIR              [Black Hair, Brown Hair, White Hair, Blond Hai...   \n",
       "SEX               [Male Characters, Female Characters, nan, Gend...   \n",
       "GSM               [nan, Bisexual Characters, Homosexual Characters]   \n",
       "ALIVE                 [Living Characters, Deceased Characters, nan]   \n",
       "APPEARANCES                                            3093.0 - 1.0   \n",
       "FIRST APPEARANCE                                                NaN   \n",
       "YEAR                                                2013.0 - 1935.0   \n",
       "\n",
       "                 Attribute type Attribute desciption     type  \\\n",
       "page_id                     NaN                  NaN      int   \n",
       "name                        NaN                  NaN   object   \n",
       "urlslug                     NaN                  NaN   object   \n",
       "ID                          NaN                  NaN  Nominal   \n",
       "ALIGN                       NaN                  NaN  Ordinal   \n",
       "EYE                         NaN                  NaN  Nominal   \n",
       "HAIR                        NaN                  NaN  Nominal   \n",
       "SEX                         NaN                  NaN  Nominal   \n",
       "GSM                         NaN                  NaN  Nominal   \n",
       "ALIVE                       NaN                  NaN  Nominal   \n",
       "APPEARANCES                 NaN                  NaN      flt   \n",
       "FIRST APPEARANCE            NaN                  NaN   object   \n",
       "YEAR                        NaN                  NaN      flt   \n",
       "\n",
       "                       Valid Values  \\\n",
       "page_id           404010.0 - 1380.0   \n",
       "name                            NaN   \n",
       "urlslug                         NaN   \n",
       "ID                              NaN   \n",
       "ALIGN                           NaN   \n",
       "EYE                             NaN   \n",
       "HAIR                            NaN   \n",
       "SEX                             NaN   \n",
       "GSM                             NaN   \n",
       "ALIVE                           NaN   \n",
       "APPEARANCES                     NaN   \n",
       "FIRST APPEARANCE                NaN   \n",
       "YEAR                            NaN   \n",
       "\n",
       "                                                        Description  \n",
       "page_id           Wikia link for that character. The page id is ...  \n",
       "name                                         Name of that character  \n",
       "urlslug           URL which takes you to the wikia page of that ...  \n",
       "ID                The identity status, that is, whether the iden...  \n",
       "ALIGN                 Whether the character is good, neutral or bad  \n",
       "EYE                                           Character's eye color  \n",
       "HAIR                                         Character's hair color  \n",
       "SEX                                                 Character's sex  \n",
       "GSM                                                 Character's gsm  \n",
       "ALIVE                              If the character is alive or not  \n",
       "APPEARANCES                        Number of comic book appearances  \n",
       "FIRST APPEARANCE       Year,Month when the character first appeared  \n",
       "YEAR                         Year when the character first appeared  "
      ]
     },
     "execution_count": 187,
     "metadata": {},
     "output_type": "execute_result"
    }
   ],
   "source": [
    "enhanced_dictionary"
   ]
  },
  {
   "cell_type": "markdown",
   "metadata": {},
   "source": [
    "# Requirement 3: To find missing data/duplicate data/formatting:\n"
   ]
  },
  {
   "cell_type": "code",
   "execution_count": null,
   "metadata": {},
   "outputs": [],
   "source": []
  },
  {
   "cell_type": "raw",
   "metadata": {},
   "source": [
    "For DC comic"
   ]
  },
  {
   "cell_type": "code",
   "execution_count": 188,
   "metadata": {},
   "outputs": [
    {
     "name": "stdout",
     "output_type": "stream",
     "text": [
      "There are 0 missing values in attribute page_id\n",
      "There are 0 missing values in attribute name\n",
      "There are 0 missing values in attribute urlslug\n",
      "There are 2013 missing values in attribute ID\n",
      "There are 601 missing values in attribute ALIGN\n",
      "There are 3628 missing values in attribute EYE\n",
      "There are 2274 missing values in attribute HAIR\n",
      "There are 125 missing values in attribute SEX\n",
      "There are 6832 missing values in attribute GSM\n",
      "There are 3 missing values in attribute ALIVE\n",
      "There are 355 missing values in attribute APPEARANCES\n",
      "There are 69 missing values in attribute FIRST APPEARANCE\n",
      "There are 69 missing values in attribute YEAR\n"
     ]
    }
   ],
   "source": [
    "for col in df1.columns:\n",
    "    print(\"There are {} missing values in attribute {}\". format(df1[col].isna().sum(), col))"
   ]
  },
  {
   "cell_type": "raw",
   "metadata": {},
   "source": [
    "For Marvel data set"
   ]
  },
  {
   "cell_type": "code",
   "execution_count": 189,
   "metadata": {},
   "outputs": [
    {
     "name": "stdout",
     "output_type": "stream",
     "text": [
      "There are 0 missing values in attribute page_id\n",
      "There are 0 missing values in attribute name\n",
      "There are 0 missing values in attribute urlslug\n",
      "There are 3770 missing values in attribute ID\n",
      "There are 2812 missing values in attribute ALIGN\n",
      "There are 9767 missing values in attribute EYE\n",
      "There are 4264 missing values in attribute HAIR\n",
      "There are 854 missing values in attribute SEX\n",
      "There are 16286 missing values in attribute GSM\n",
      "There are 3 missing values in attribute ALIVE\n",
      "There are 1096 missing values in attribute APPEARANCES\n",
      "There are 815 missing values in attribute FIRST APPEARANCE\n",
      "There are 815 missing values in attribute Year\n"
     ]
    }
   ],
   "source": [
    "for col in df2.columns:\n",
    "    print(\"There are {} missing values in attribute {}\". format(df2[col].isna().sum(), col))"
   ]
  },
  {
   "cell_type": "code",
   "execution_count": 190,
   "metadata": {},
   "outputs": [
    {
     "name": "stdout",
     "output_type": "stream",
     "text": [
      "There are 0 duplicate ids in DC\n"
     ]
    }
   ],
   "source": [
    "print(\"There are {} duplicate ids in DC\".format(df1['page_id'].duplicated().sum()))"
   ]
  },
  {
   "cell_type": "code",
   "execution_count": 191,
   "metadata": {},
   "outputs": [
    {
     "name": "stdout",
     "output_type": "stream",
     "text": [
      "There are 0 duplicate name in DC\n"
     ]
    }
   ],
   "source": [
    "print(\"There are {} duplicate name in DC\".format(df1['name'].duplicated().sum()))"
   ]
  },
  {
   "cell_type": "code",
   "execution_count": 192,
   "metadata": {},
   "outputs": [
    {
     "name": "stdout",
     "output_type": "stream",
     "text": [
      "There are 0 duplicate url in DC\n"
     ]
    }
   ],
   "source": [
    "print(\"There are {} duplicate url in DC\".format(df1['urlslug'].duplicated().sum()))"
   ]
  },
  {
   "cell_type": "code",
   "execution_count": 193,
   "metadata": {},
   "outputs": [
    {
     "name": "stdout",
     "output_type": "stream",
     "text": [
      "There are 0 duplicate ids in Marvel\n"
     ]
    }
   ],
   "source": [
    "print(\"There are {} duplicate ids in Marvel\".format(df2['page_id'].duplicated().sum()))"
   ]
  },
  {
   "cell_type": "code",
   "execution_count": 194,
   "metadata": {},
   "outputs": [
    {
     "name": "stdout",
     "output_type": "stream",
     "text": [
      "There are 0 duplicate name in Marvel\n"
     ]
    }
   ],
   "source": [
    "print(\"There are {} duplicate name in Marvel\".format(df2['name'].duplicated().sum()))"
   ]
  },
  {
   "cell_type": "code",
   "execution_count": 195,
   "metadata": {},
   "outputs": [
    {
     "name": "stdout",
     "output_type": "stream",
     "text": [
      "There are 0 duplicate url in Marvel\n"
     ]
    }
   ],
   "source": [
    "print(\"There are {} duplicate url in Marvel\".format(df1['urlslug'].duplicated().sum()))"
   ]
  },
  {
   "cell_type": "code",
   "execution_count": 196,
   "metadata": {},
   "outputs": [
    {
     "data": {
      "text/plain": [
       "page_id               int64\n",
       "name                 object\n",
       "urlslug              object\n",
       "ID                   object\n",
       "ALIGN                object\n",
       "EYE                  object\n",
       "HAIR                 object\n",
       "SEX                  object\n",
       "GSM                  object\n",
       "ALIVE                object\n",
       "APPEARANCES         float64\n",
       "FIRST APPEARANCE     object\n",
       "YEAR                float64\n",
       "dtype: object"
      ]
     },
     "execution_count": 196,
     "metadata": {},
     "output_type": "execute_result"
    }
   ],
   "source": [
    "df1.dtypes"
   ]
  },
  {
   "cell_type": "raw",
   "metadata": {},
   "source": [
    "From the above information we can see that Appearances and Year are of type int64 and not float64\n"
   ]
  },
  {
   "cell_type": "code",
   "execution_count": 197,
   "metadata": {},
   "outputs": [
    {
     "data": {
      "text/plain": [
       "page_id               int64\n",
       "name                 object\n",
       "urlslug              object\n",
       "ID                   object\n",
       "ALIGN                object\n",
       "EYE                  object\n",
       "HAIR                 object\n",
       "SEX                  object\n",
       "GSM                  object\n",
       "ALIVE                object\n",
       "APPEARANCES         float64\n",
       "FIRST APPEARANCE     object\n",
       "Year                float64\n",
       "dtype: object"
      ]
     },
     "execution_count": 197,
     "metadata": {},
     "output_type": "execute_result"
    }
   ],
   "source": [
    "df2.dtypes"
   ]
  },
  {
   "cell_type": "raw",
   "metadata": {},
   "source": [
    "From the above information we can see that Appearances and Year are of type int64 and not float64\n"
   ]
  },
  {
   "cell_type": "code",
   "execution_count": 198,
   "metadata": {},
   "outputs": [
    {
     "name": "stdout",
     "output_type": "stream",
     "text": [
      "  FIRST APPEARANCE    YEAR\n",
      "0        1939, May  1939.0\n",
      "1    1986, October  1986.0\n",
      "2    1959, October  1959.0\n",
      "3   1987, February  1987.0\n",
      "4      1940, April  1940.0\n"
     ]
    }
   ],
   "source": [
    "y = df1.iloc[:,-2:]\n",
    "print(y.head())"
   ]
  },
  {
   "cell_type": "raw",
   "metadata": {},
   "source": [
    "From the above information we see that the YEAR attribute is redundant and can be ignored"
   ]
  },
  {
   "cell_type": "code",
   "execution_count": 199,
   "metadata": {},
   "outputs": [
    {
     "name": "stdout",
     "output_type": "stream",
     "text": [
      "  FIRST APPEARANCE    Year\n",
      "0           Aug-62  1962.0\n",
      "1           Mar-41  1941.0\n",
      "2           Oct-74  1974.0\n",
      "3           Mar-63  1963.0\n",
      "4           Nov-50  1950.0\n"
     ]
    }
   ],
   "source": [
    "y = df2.iloc[:,-2:]\n",
    "print(y.head())"
   ]
  },
  {
   "cell_type": "raw",
   "metadata": {},
   "source": [
    "From the above information we see that the YEAR attribute is redundant and can be ignored"
   ]
  },
  {
   "cell_type": "markdown",
   "metadata": {},
   "source": [
    "# Requirement 4"
   ]
  },
  {
   "cell_type": "raw",
   "metadata": {},
   "source": [
    "Since the attributes page_id, name, urlslug are all unique, there probably isn't much analysis to be done here"
   ]
  },
  {
   "cell_type": "raw",
   "metadata": {},
   "source": [
    "Lets consider the attribute ID\n"
   ]
  },
  {
   "cell_type": "code",
   "execution_count": 200,
   "metadata": {},
   "outputs": [
    {
     "name": "stdout",
     "output_type": "stream",
     "text": [
      "ID\n",
      "Identity Unknown       9\n",
      "Public Identity     2466\n",
      "Secret Identity     2408\n",
      "dtype: int64\n"
     ]
    }
   ],
   "source": [
    "dups_id = df1.pivot_table(index=['ID'], aggfunc='size')\n",
    "print(dups_id)"
   ]
  },
  {
   "cell_type": "raw",
   "metadata": {},
   "source": [
    "We can see from the above information that 9 characters have identity unknown, 2466 have public identity and 2408 have secret identity. The creators have not favoured any particular identity"
   ]
  },
  {
   "cell_type": "code",
   "execution_count": 201,
   "metadata": {},
   "outputs": [
    {
     "name": "stdout",
     "output_type": "stream",
     "text": [
      "ID\n",
      "Known to Authorities Identity      15\n",
      "No Dual Identity                 1788\n",
      "Public Identity                  4528\n",
      "Secret Identity                  6275\n",
      "dtype: int64\n"
     ]
    }
   ],
   "source": [
    "dups_id = df2.pivot_table(index=['ID'], aggfunc='size')\n",
    "print(dups_id)"
   ]
  },
  {
   "cell_type": "raw",
   "metadata": {},
   "source": [
    "Most of the characters in Marvel are secret. 1788 characters are unique"
   ]
  },
  {
   "cell_type": "code",
   "execution_count": 202,
   "metadata": {},
   "outputs": [
    {
     "name": "stdout",
     "output_type": "stream",
     "text": [
      "ALIGN\n",
      "Bad Characters        2895\n",
      "Good Characters       2832\n",
      "Neutral Characters     565\n",
      "Reformed Criminals       3\n",
      "dtype: int64\n"
     ]
    }
   ],
   "source": [
    "dups_align = df1.pivot_table(index=['ALIGN'], aggfunc='size')\n",
    "print(dups_align)"
   ]
  },
  {
   "cell_type": "raw",
   "metadata": {},
   "source": [
    "There seems to be equal numbers of good and bad characters in DC"
   ]
  },
  {
   "cell_type": "code",
   "execution_count": 203,
   "metadata": {},
   "outputs": [
    {
     "name": "stdout",
     "output_type": "stream",
     "text": [
      "ALIGN\n",
      "Bad Characters        6720\n",
      "Good Characters       4636\n",
      "Neutral Characters    2208\n",
      "dtype: int64\n"
     ]
    }
   ],
   "source": [
    "dups_align = df2.pivot_table(index=['ALIGN'], aggfunc='size')\n",
    "print(dups_align)"
   ]
  },
  {
   "cell_type": "raw",
   "metadata": {},
   "source": [
    "Marvel has a lot of bad characters compared to DC"
   ]
  },
  {
   "cell_type": "code",
   "execution_count": 204,
   "metadata": {},
   "outputs": [
    {
     "name": "stdout",
     "output_type": "stream",
     "text": [
      "EYE\n",
      "Amber Eyes               5\n",
      "Auburn Hair              7\n",
      "Black Eyes             412\n",
      "Blue Eyes             1102\n",
      "Brown Eyes             879\n",
      "Gold Eyes                9\n",
      "Green Eyes             291\n",
      "Grey Eyes               40\n",
      "Hazel Eyes              23\n",
      "Orange Eyes             10\n",
      "Photocellular Eyes      48\n",
      "Pink Eyes                6\n",
      "Purple Eyes             14\n",
      "Red Eyes               208\n",
      "Violet Eyes             12\n",
      "White Eyes             116\n",
      "Yellow Eyes             86\n",
      "dtype: int64\n"
     ]
    }
   ],
   "source": [
    "dups_eye = df1.pivot_table(index=['EYE'], aggfunc='size')\n",
    "print(dups_eye)"
   ]
  },
  {
   "cell_type": "raw",
   "metadata": {},
   "source": [
    "Most of the DC characters have Blue (1102) and Brown(879) eyes"
   ]
  },
  {
   "cell_type": "code",
   "execution_count": 205,
   "metadata": {},
   "outputs": [
    {
     "name": "stdout",
     "output_type": "stream",
     "text": [
      "EYE\n",
      "Amber Eyes           10\n",
      "Black Eyeballs        3\n",
      "Black Eyes          555\n",
      "Blue Eyes          1962\n",
      "Brown Eyes         1924\n",
      "Compound Eyes         1\n",
      "Gold Eyes            14\n",
      "Green Eyes          613\n",
      "Grey Eyes            95\n",
      "Hazel Eyes           76\n",
      "Magenta Eyes          2\n",
      "Multiple Eyes         7\n",
      "No Eyes               7\n",
      "One Eye              21\n",
      "Orange Eyes          25\n",
      "Pink Eyes            21\n",
      "Purple Eyes          31\n",
      "Red Eyes            508\n",
      "Silver Eyes          12\n",
      "Variable Eyes        49\n",
      "Violet Eyes          11\n",
      "White Eyes          400\n",
      "Yellow Eyeballs       6\n",
      "Yellow Eyes         256\n",
      "dtype: int64\n"
     ]
    }
   ],
   "source": [
    "dups_eye = df2.pivot_table(index=['EYE'], aggfunc='size')\n",
    "print(dups_eye)"
   ]
  },
  {
   "cell_type": "raw",
   "metadata": {},
   "source": [
    "Most of the Marvel characters have Blue (1962) and Brown(1924) eyes and these are more compared to DC"
   ]
  },
  {
   "cell_type": "code",
   "execution_count": 206,
   "metadata": {},
   "outputs": [
    {
     "name": "stdout",
     "output_type": "stream",
     "text": [
      "HAIR\n",
      "Black Hair               1574\n",
      "Blond Hair                744\n",
      "Blue Hair                  41\n",
      "Brown Hair               1148\n",
      "Gold Hair                   5\n",
      "Green Hair                 42\n",
      "Grey Hair                 157\n",
      "Orange Hair                21\n",
      "Pink Hair                  11\n",
      "Platinum Blond Hair         2\n",
      "Purple Hair                32\n",
      "Red Hair                  461\n",
      "Reddish Brown Hair          3\n",
      "Silver Hair                 3\n",
      "Strawberry Blond Hair      28\n",
      "Violet Hair                 4\n",
      "White Hair                346\n",
      "dtype: int64\n"
     ]
    }
   ],
   "source": [
    "dups_hair = df1.pivot_table(index=['HAIR'], aggfunc='size')\n",
    "print(dups_hair)"
   ]
  },
  {
   "cell_type": "raw",
   "metadata": {},
   "source": [
    "Black hair features the most followed by brown hair In DC"
   ]
  },
  {
   "cell_type": "code",
   "execution_count": 207,
   "metadata": {},
   "outputs": [
    {
     "name": "stdout",
     "output_type": "stream",
     "text": [
      "HAIR\n",
      "Auburn Hair                78\n",
      "Bald                      838\n",
      "Black Hair               3755\n",
      "Blond Hair               1582\n",
      "Blue Hair                  56\n",
      "Bronze Hair                 1\n",
      "Brown Hair               2339\n",
      "Dyed Hair                   1\n",
      "Gold Hair                   8\n",
      "Green Hair                117\n",
      "Grey Hair                 531\n",
      "Light Brown Hair            6\n",
      "Magenta Hair                5\n",
      "No Hair                  1176\n",
      "Orange Hair                43\n",
      "Orange-brown Hair           3\n",
      "Pink Hair                  31\n",
      "Purple Hair                47\n",
      "Red Hair                  620\n",
      "Reddish Blond Hair          6\n",
      "Silver Hair                16\n",
      "Strawberry Blond Hair      47\n",
      "Variable Hair              32\n",
      "White Hair                754\n",
      "Yellow Hair                20\n",
      "dtype: int64\n"
     ]
    }
   ],
   "source": [
    "dups_hair = df2.pivot_table(index=['HAIR'], aggfunc='size')\n",
    "print(dups_hair)"
   ]
  },
  {
   "cell_type": "raw",
   "metadata": {},
   "source": [
    "Black hair features the most followed by brown hair In Marvel"
   ]
  },
  {
   "cell_type": "code",
   "execution_count": 208,
   "metadata": {},
   "outputs": [
    {
     "name": "stdout",
     "output_type": "stream",
     "text": [
      "SEX\n",
      "Female Characters         1967\n",
      "Genderless Characters       20\n",
      "Male Characters           4783\n",
      "Transgender Characters       1\n",
      "dtype: int64\n"
     ]
    }
   ],
   "source": [
    "dups_sex = df1.pivot_table(index=['SEX'], aggfunc='size')\n",
    "print(dups_sex)"
   ]
  },
  {
   "cell_type": "raw",
   "metadata": {},
   "source": [
    "The entire article is highlighting the point about male characters being dominant in the comic book industry.\n",
    "Even transgenders are under represented in DC"
   ]
  },
  {
   "cell_type": "code",
   "execution_count": 209,
   "metadata": {},
   "outputs": [
    {
     "name": "stdout",
     "output_type": "stream",
     "text": [
      "SEX\n",
      "Agender Characters           45\n",
      "Female Characters          3837\n",
      "Genderfluid Characters        2\n",
      "Male Characters           11638\n",
      "dtype: int64\n"
     ]
    }
   ],
   "source": [
    "dups_sex = df2.pivot_table(index=['SEX'], aggfunc='size')\n",
    "print(dups_sex)"
   ]
  },
  {
   "cell_type": "raw",
   "metadata": {},
   "source": [
    "Marvel has predominantly a large number of male characters compred to female ones. DC fares better than Marvel in female representation"
   ]
  },
  {
   "cell_type": "code",
   "execution_count": 210,
   "metadata": {},
   "outputs": [
    {
     "name": "stdout",
     "output_type": "stream",
     "text": [
      "GSM\n",
      "Bisexual Characters      10\n",
      "Homosexual Characters    54\n",
      "dtype: int64\n"
     ]
    }
   ],
   "source": [
    "dups_gsm = df1.pivot_table(index=['GSM'], aggfunc='size')\n",
    "print(dups_gsm)"
   ]
  },
  {
   "cell_type": "raw",
   "metadata": {},
   "source": [
    "The comics have homosexual characters. These may have been introduced to suit the story line"
   ]
  },
  {
   "cell_type": "code",
   "execution_count": 211,
   "metadata": {},
   "outputs": [
    {
     "name": "stdout",
     "output_type": "stream",
     "text": [
      "GSM\n",
      "Bisexual Characters       19\n",
      "Genderfluid Characters     1\n",
      "Homosexual Characters     66\n",
      "Pansexual Characters       1\n",
      "Transgender Characters     2\n",
      "Transvestites              1\n",
      "dtype: int64\n"
     ]
    }
   ],
   "source": [
    "dups_gsm = df2.pivot_table(index=['GSM'], aggfunc='size')\n",
    "print(dups_gsm)"
   ]
  },
  {
   "cell_type": "raw",
   "metadata": {},
   "source": [
    "Marvel has a variety of GSM types compared to DC"
   ]
  },
  {
   "cell_type": "code",
   "execution_count": 212,
   "metadata": {},
   "outputs": [
    {
     "name": "stdout",
     "output_type": "stream",
     "text": [
      "ALIVE\n",
      "Deceased Characters    1693\n",
      "Living Characters      5200\n",
      "dtype: int64\n"
     ]
    }
   ],
   "source": [
    "dups_alive = df1.pivot_table(index=['ALIVE'], aggfunc='size')\n",
    "print(dups_alive)"
   ]
  },
  {
   "cell_type": "raw",
   "metadata": {},
   "source": [
    "This information shows that DC has contuniued with the majority of characters till date\n"
   ]
  },
  {
   "cell_type": "code",
   "execution_count": 213,
   "metadata": {},
   "outputs": [
    {
     "name": "stdout",
     "output_type": "stream",
     "text": [
      "ALIVE\n",
      "Deceased Characters     3765\n",
      "Living Characters      12608\n",
      "dtype: int64\n"
     ]
    }
   ],
   "source": [
    "dups_alive = df2.pivot_table(index=['ALIVE'], aggfunc='size')\n",
    "print(dups_alive)"
   ]
  },
  {
   "cell_type": "raw",
   "metadata": {},
   "source": [
    "Marvel has a much larger number of living characeters. Also marvel characters are much more than DC"
   ]
  },
  {
   "cell_type": "code",
   "execution_count": 214,
   "metadata": {},
   "outputs": [
    {
     "name": "stdout",
     "output_type": "stream",
     "text": [
      "The character Batman (Bruce Wayne) has appeared a max of 3093 times in DC \n"
     ]
    }
   ],
   "source": [
    "print(\"The character {} has appeared a max of {} times in DC \".format(df1.iloc[df1.APPEARANCES.idxmax()]['name'], int(df1.APPEARANCES.max())))"
   ]
  },
  {
   "cell_type": "code",
   "execution_count": 215,
   "metadata": {},
   "outputs": [
    {
     "name": "stdout",
     "output_type": "stream",
     "text": [
      "The character Spider-Man (Peter Parker) has appeared a max of 4043 times in DC\n"
     ]
    }
   ],
   "source": [
    "print(\"The character {} has appeared a max of {} times in DC\".format(df2.iloc[df2.APPEARANCES.idxmax()]['name'], int(df2.APPEARANCES.max())))"
   ]
  },
  {
   "cell_type": "code",
   "execution_count": 216,
   "metadata": {},
   "outputs": [
    {
     "name": "stdout",
     "output_type": "stream",
     "text": [
      "1002 characters is DC have been introduced just 1 time.\n"
     ]
    }
   ],
   "source": [
    "dups_entry = df1.pivot_table(index=['APPEARANCES'], aggfunc='size')\n",
    "print(\"{} characters is DC have been introduced just {} time.\".format(dups_entry.max(),int(dups_entry.idxmax())))"
   ]
  },
  {
   "cell_type": "code",
   "execution_count": 217,
   "metadata": {},
   "outputs": [
    {
     "name": "stdout",
     "output_type": "stream",
     "text": [
      "4810 characters is DC have been introduced just 1 time.\n"
     ]
    }
   ],
   "source": [
    "dups_entry = df2.pivot_table(index=['APPEARANCES'], aggfunc='size')\n",
    "print(\"{} characters is DC have been introduced just {} time.\".format(dups_entry.max(),int(dups_entry.idxmax())))"
   ]
  },
  {
   "cell_type": "code",
   "execution_count": 218,
   "metadata": {},
   "outputs": [
    {
     "name": "stdout",
     "output_type": "stream",
     "text": [
      "303\n"
     ]
    }
   ],
   "source": [
    "dups_year = df1.pivot_table(index=['YEAR'], aggfunc='size')\n",
    "print(dups_year.max())"
   ]
  },
  {
   "cell_type": "code",
   "execution_count": 219,
   "metadata": {},
   "outputs": [
    {
     "data": {
      "text/html": [
       "<div>\n",
       "<style scoped>\n",
       "    .dataframe tbody tr th:only-of-type {\n",
       "        vertical-align: middle;\n",
       "    }\n",
       "\n",
       "    .dataframe tbody tr th {\n",
       "        vertical-align: top;\n",
       "    }\n",
       "\n",
       "    .dataframe thead th {\n",
       "        text-align: right;\n",
       "    }\n",
       "</style>\n",
       "<table border=\"1\" class=\"dataframe\">\n",
       "  <thead>\n",
       "    <tr style=\"text-align: right;\">\n",
       "      <th></th>\n",
       "      <th>page_id</th>\n",
       "      <th>APPEARANCES</th>\n",
       "      <th>YEAR</th>\n",
       "    </tr>\n",
       "  </thead>\n",
       "  <tbody>\n",
       "    <tr>\n",
       "      <td>count</td>\n",
       "      <td>6896.000000</td>\n",
       "      <td>6541.000000</td>\n",
       "      <td>6827.000000</td>\n",
       "    </tr>\n",
       "    <tr>\n",
       "      <td>mean</td>\n",
       "      <td>147441.209252</td>\n",
       "      <td>23.625134</td>\n",
       "      <td>1989.766662</td>\n",
       "    </tr>\n",
       "    <tr>\n",
       "      <td>std</td>\n",
       "      <td>108388.631149</td>\n",
       "      <td>87.378509</td>\n",
       "      <td>16.824194</td>\n",
       "    </tr>\n",
       "    <tr>\n",
       "      <td>min</td>\n",
       "      <td>1380.000000</td>\n",
       "      <td>1.000000</td>\n",
       "      <td>1935.000000</td>\n",
       "    </tr>\n",
       "    <tr>\n",
       "      <td>25%</td>\n",
       "      <td>44105.500000</td>\n",
       "      <td>2.000000</td>\n",
       "      <td>1983.000000</td>\n",
       "    </tr>\n",
       "    <tr>\n",
       "      <td>50%</td>\n",
       "      <td>141267.000000</td>\n",
       "      <td>6.000000</td>\n",
       "      <td>1992.000000</td>\n",
       "    </tr>\n",
       "    <tr>\n",
       "      <td>75%</td>\n",
       "      <td>213203.000000</td>\n",
       "      <td>15.000000</td>\n",
       "      <td>2003.000000</td>\n",
       "    </tr>\n",
       "    <tr>\n",
       "      <td>max</td>\n",
       "      <td>404010.000000</td>\n",
       "      <td>3093.000000</td>\n",
       "      <td>2013.000000</td>\n",
       "    </tr>\n",
       "  </tbody>\n",
       "</table>\n",
       "</div>"
      ],
      "text/plain": [
       "             page_id  APPEARANCES         YEAR\n",
       "count    6896.000000  6541.000000  6827.000000\n",
       "mean   147441.209252    23.625134  1989.766662\n",
       "std    108388.631149    87.378509    16.824194\n",
       "min      1380.000000     1.000000  1935.000000\n",
       "25%     44105.500000     2.000000  1983.000000\n",
       "50%    141267.000000     6.000000  1992.000000\n",
       "75%    213203.000000    15.000000  2003.000000\n",
       "max    404010.000000  3093.000000  2013.000000"
      ]
     },
     "execution_count": 219,
     "metadata": {},
     "output_type": "execute_result"
    }
   ],
   "source": [
    "df1.describe()"
   ]
  },
  {
   "cell_type": "code",
   "execution_count": 220,
   "metadata": {},
   "outputs": [
    {
     "data": {
      "text/html": [
       "<div>\n",
       "<style scoped>\n",
       "    .dataframe tbody tr th:only-of-type {\n",
       "        vertical-align: middle;\n",
       "    }\n",
       "\n",
       "    .dataframe tbody tr th {\n",
       "        vertical-align: top;\n",
       "    }\n",
       "\n",
       "    .dataframe thead th {\n",
       "        text-align: right;\n",
       "    }\n",
       "</style>\n",
       "<table border=\"1\" class=\"dataframe\">\n",
       "  <thead>\n",
       "    <tr style=\"text-align: right;\">\n",
       "      <th></th>\n",
       "      <th>page_id</th>\n",
       "      <th>APPEARANCES</th>\n",
       "      <th>Year</th>\n",
       "    </tr>\n",
       "  </thead>\n",
       "  <tbody>\n",
       "    <tr>\n",
       "      <td>count</td>\n",
       "      <td>16376.000000</td>\n",
       "      <td>15280.000000</td>\n",
       "      <td>15561.000000</td>\n",
       "    </tr>\n",
       "    <tr>\n",
       "      <td>mean</td>\n",
       "      <td>300232.082377</td>\n",
       "      <td>17.033377</td>\n",
       "      <td>1984.951803</td>\n",
       "    </tr>\n",
       "    <tr>\n",
       "      <td>std</td>\n",
       "      <td>253460.403399</td>\n",
       "      <td>96.372959</td>\n",
       "      <td>19.663571</td>\n",
       "    </tr>\n",
       "    <tr>\n",
       "      <td>min</td>\n",
       "      <td>1025.000000</td>\n",
       "      <td>1.000000</td>\n",
       "      <td>1939.000000</td>\n",
       "    </tr>\n",
       "    <tr>\n",
       "      <td>25%</td>\n",
       "      <td>28309.500000</td>\n",
       "      <td>1.000000</td>\n",
       "      <td>1974.000000</td>\n",
       "    </tr>\n",
       "    <tr>\n",
       "      <td>50%</td>\n",
       "      <td>282578.000000</td>\n",
       "      <td>3.000000</td>\n",
       "      <td>1990.000000</td>\n",
       "    </tr>\n",
       "    <tr>\n",
       "      <td>75%</td>\n",
       "      <td>509077.000000</td>\n",
       "      <td>8.000000</td>\n",
       "      <td>2000.000000</td>\n",
       "    </tr>\n",
       "    <tr>\n",
       "      <td>max</td>\n",
       "      <td>755278.000000</td>\n",
       "      <td>4043.000000</td>\n",
       "      <td>2013.000000</td>\n",
       "    </tr>\n",
       "  </tbody>\n",
       "</table>\n",
       "</div>"
      ],
      "text/plain": [
       "             page_id   APPEARANCES          Year\n",
       "count   16376.000000  15280.000000  15561.000000\n",
       "mean   300232.082377     17.033377   1984.951803\n",
       "std    253460.403399     96.372959     19.663571\n",
       "min      1025.000000      1.000000   1939.000000\n",
       "25%     28309.500000      1.000000   1974.000000\n",
       "50%    282578.000000      3.000000   1990.000000\n",
       "75%    509077.000000      8.000000   2000.000000\n",
       "max    755278.000000   4043.000000   2013.000000"
      ]
     },
     "execution_count": 220,
     "metadata": {},
     "output_type": "execute_result"
    }
   ],
   "source": [
    "df2.describe()"
   ]
  },
  {
   "cell_type": "code",
   "execution_count": 221,
   "metadata": {},
   "outputs": [
    {
     "data": {
      "text/html": [
       "<div>\n",
       "<style scoped>\n",
       "    .dataframe tbody tr th:only-of-type {\n",
       "        vertical-align: middle;\n",
       "    }\n",
       "\n",
       "    .dataframe tbody tr th {\n",
       "        vertical-align: top;\n",
       "    }\n",
       "\n",
       "    .dataframe thead th {\n",
       "        text-align: right;\n",
       "    }\n",
       "</style>\n",
       "<table border=\"1\" class=\"dataframe\">\n",
       "  <thead>\n",
       "    <tr style=\"text-align: right;\">\n",
       "      <th></th>\n",
       "      <th>name</th>\n",
       "      <th>urlslug</th>\n",
       "      <th>ID</th>\n",
       "      <th>ALIGN</th>\n",
       "      <th>EYE</th>\n",
       "      <th>HAIR</th>\n",
       "      <th>SEX</th>\n",
       "      <th>GSM</th>\n",
       "      <th>ALIVE</th>\n",
       "      <th>FIRST APPEARANCE</th>\n",
       "    </tr>\n",
       "  </thead>\n",
       "  <tbody>\n",
       "    <tr>\n",
       "      <td>count</td>\n",
       "      <td>6896</td>\n",
       "      <td>6896</td>\n",
       "      <td>4883</td>\n",
       "      <td>6295</td>\n",
       "      <td>3268</td>\n",
       "      <td>4622</td>\n",
       "      <td>6771</td>\n",
       "      <td>64</td>\n",
       "      <td>6893</td>\n",
       "      <td>6827</td>\n",
       "    </tr>\n",
       "    <tr>\n",
       "      <td>unique</td>\n",
       "      <td>6896</td>\n",
       "      <td>6896</td>\n",
       "      <td>3</td>\n",
       "      <td>4</td>\n",
       "      <td>17</td>\n",
       "      <td>17</td>\n",
       "      <td>4</td>\n",
       "      <td>2</td>\n",
       "      <td>2</td>\n",
       "      <td>774</td>\n",
       "    </tr>\n",
       "    <tr>\n",
       "      <td>top</td>\n",
       "      <td>Atinai (New Earth)</td>\n",
       "      <td>\\/wiki\\/Theodore_Knight_(New_Earth)</td>\n",
       "      <td>Public Identity</td>\n",
       "      <td>Bad Characters</td>\n",
       "      <td>Blue Eyes</td>\n",
       "      <td>Black Hair</td>\n",
       "      <td>Male Characters</td>\n",
       "      <td>Homosexual Characters</td>\n",
       "      <td>Living Characters</td>\n",
       "      <td>2010, December</td>\n",
       "    </tr>\n",
       "    <tr>\n",
       "      <td>freq</td>\n",
       "      <td>1</td>\n",
       "      <td>1</td>\n",
       "      <td>2466</td>\n",
       "      <td>2895</td>\n",
       "      <td>1102</td>\n",
       "      <td>1574</td>\n",
       "      <td>4783</td>\n",
       "      <td>54</td>\n",
       "      <td>5200</td>\n",
       "      <td>78</td>\n",
       "    </tr>\n",
       "  </tbody>\n",
       "</table>\n",
       "</div>"
      ],
      "text/plain": [
       "                      name                              urlslug  \\\n",
       "count                 6896                                 6896   \n",
       "unique                6896                                 6896   \n",
       "top     Atinai (New Earth)  \\/wiki\\/Theodore_Knight_(New_Earth)   \n",
       "freq                     1                                    1   \n",
       "\n",
       "                     ID           ALIGN        EYE        HAIR  \\\n",
       "count              4883            6295       3268        4622   \n",
       "unique                3               4         17          17   \n",
       "top     Public Identity  Bad Characters  Blue Eyes  Black Hair   \n",
       "freq               2466            2895       1102        1574   \n",
       "\n",
       "                    SEX                    GSM              ALIVE  \\\n",
       "count              6771                     64               6893   \n",
       "unique                4                      2                  2   \n",
       "top     Male Characters  Homosexual Characters  Living Characters   \n",
       "freq               4783                     54               5200   \n",
       "\n",
       "       FIRST APPEARANCE  \n",
       "count              6827  \n",
       "unique              774  \n",
       "top      2010, December  \n",
       "freq                 78  "
      ]
     },
     "execution_count": 221,
     "metadata": {},
     "output_type": "execute_result"
    }
   ],
   "source": [
    "df1.describe(include = 'object')"
   ]
  },
  {
   "cell_type": "code",
   "execution_count": 222,
   "metadata": {},
   "outputs": [
    {
     "data": {
      "text/html": [
       "<div>\n",
       "<style scoped>\n",
       "    .dataframe tbody tr th:only-of-type {\n",
       "        vertical-align: middle;\n",
       "    }\n",
       "\n",
       "    .dataframe tbody tr th {\n",
       "        vertical-align: top;\n",
       "    }\n",
       "\n",
       "    .dataframe thead th {\n",
       "        text-align: right;\n",
       "    }\n",
       "</style>\n",
       "<table border=\"1\" class=\"dataframe\">\n",
       "  <thead>\n",
       "    <tr style=\"text-align: right;\">\n",
       "      <th></th>\n",
       "      <th>name</th>\n",
       "      <th>urlslug</th>\n",
       "      <th>ID</th>\n",
       "      <th>ALIGN</th>\n",
       "      <th>EYE</th>\n",
       "      <th>HAIR</th>\n",
       "      <th>SEX</th>\n",
       "      <th>GSM</th>\n",
       "      <th>ALIVE</th>\n",
       "      <th>FIRST APPEARANCE</th>\n",
       "    </tr>\n",
       "  </thead>\n",
       "  <tbody>\n",
       "    <tr>\n",
       "      <td>count</td>\n",
       "      <td>16376</td>\n",
       "      <td>16376</td>\n",
       "      <td>12606</td>\n",
       "      <td>13564</td>\n",
       "      <td>6609</td>\n",
       "      <td>12112</td>\n",
       "      <td>15522</td>\n",
       "      <td>90</td>\n",
       "      <td>16373</td>\n",
       "      <td>15561</td>\n",
       "    </tr>\n",
       "    <tr>\n",
       "      <td>unique</td>\n",
       "      <td>16376</td>\n",
       "      <td>16376</td>\n",
       "      <td>4</td>\n",
       "      <td>3</td>\n",
       "      <td>24</td>\n",
       "      <td>25</td>\n",
       "      <td>4</td>\n",
       "      <td>6</td>\n",
       "      <td>2</td>\n",
       "      <td>832</td>\n",
       "    </tr>\n",
       "    <tr>\n",
       "      <td>top</td>\n",
       "      <td>Korea Katie (Earth-616)</td>\n",
       "      <td>\\/Legion_(Possessors)_(Earth-616)</td>\n",
       "      <td>Secret Identity</td>\n",
       "      <td>Bad Characters</td>\n",
       "      <td>Blue Eyes</td>\n",
       "      <td>Black Hair</td>\n",
       "      <td>Male Characters</td>\n",
       "      <td>Homosexual Characters</td>\n",
       "      <td>Living Characters</td>\n",
       "      <td>Jun-92</td>\n",
       "    </tr>\n",
       "    <tr>\n",
       "      <td>freq</td>\n",
       "      <td>1</td>\n",
       "      <td>1</td>\n",
       "      <td>6275</td>\n",
       "      <td>6720</td>\n",
       "      <td>1962</td>\n",
       "      <td>3755</td>\n",
       "      <td>11638</td>\n",
       "      <td>66</td>\n",
       "      <td>12608</td>\n",
       "      <td>72</td>\n",
       "    </tr>\n",
       "  </tbody>\n",
       "</table>\n",
       "</div>"
      ],
      "text/plain": [
       "                           name                            urlslug  \\\n",
       "count                     16376                              16376   \n",
       "unique                    16376                              16376   \n",
       "top     Korea Katie (Earth-616)  \\/Legion_(Possessors)_(Earth-616)   \n",
       "freq                          1                                  1   \n",
       "\n",
       "                     ID           ALIGN        EYE        HAIR  \\\n",
       "count             12606           13564       6609       12112   \n",
       "unique                4               3         24          25   \n",
       "top     Secret Identity  Bad Characters  Blue Eyes  Black Hair   \n",
       "freq               6275            6720       1962        3755   \n",
       "\n",
       "                    SEX                    GSM              ALIVE  \\\n",
       "count             15522                     90              16373   \n",
       "unique                4                      6                  2   \n",
       "top     Male Characters  Homosexual Characters  Living Characters   \n",
       "freq              11638                     66              12608   \n",
       "\n",
       "       FIRST APPEARANCE  \n",
       "count             15561  \n",
       "unique              832  \n",
       "top              Jun-92  \n",
       "freq                 72  "
      ]
     },
     "execution_count": 222,
     "metadata": {},
     "output_type": "execute_result"
    }
   ],
   "source": [
    "df2.describe(include = 'object')"
   ]
  },
  {
   "cell_type": "code",
   "execution_count": null,
   "metadata": {},
   "outputs": [],
   "source": []
  }
 ],
 "metadata": {
  "kernelspec": {
   "display_name": "Python 3",
   "language": "python",
   "name": "python3"
  },
  "language_info": {
   "codemirror_mode": {
    "name": "ipython",
    "version": 3
   },
   "file_extension": ".py",
   "mimetype": "text/x-python",
   "name": "python",
   "nbconvert_exporter": "python",
   "pygments_lexer": "ipython3",
   "version": "3.7.4"
  }
 },
 "nbformat": 4,
 "nbformat_minor": 2
}
